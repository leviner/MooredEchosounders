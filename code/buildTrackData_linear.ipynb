{
 "cells": [
  {
   "cell_type": "code",
   "execution_count": 2,
   "metadata": {},
   "outputs": [],
   "source": [
    "from glob import glob\n",
    "import pandas as pd\n",
    "from tqdm.notebook import tqdm\n",
    "import numpy as np\n",
    "import plotly.graph_objs as go\n",
    "from scipy.interpolate import splprep,splev\n",
    "import math\n",
    "import matplotlib.pyplot as plt\n",
    "import statsmodels.api as sm"
   ]
  },
  {
   "cell_type": "code",
   "execution_count": 42,
   "metadata": {},
   "outputs": [],
   "source": [
    "def readExports(processParams):\n",
    "    print('Importing mooring '+str(processParams.wbatParams.mooringNum))\n",
    "    dfs = []\n",
    "    for file in tqdm(glob(processParams.evParams.outputDir+'exports\\\\'+'*(regions).csv'),desc='Reading regions'):\n",
    "        dfs.append(pd.read_csv(file))\n",
    "    dfR = pd.concat(dfs)\n",
    "    dfs = []\n",
    "    for file in tqdm(glob(processParams.evParams.outputDir+'exports\\\\'+'*(targets).csv'),desc='Reading targets'):\n",
    "        dfs.append(pd.read_csv(file))\n",
    "    dfT = pd.concat(dfs)\n",
    "    cols = np.append(dfT.columns[0:18],['Ping_number']).tolist()\n",
    "    dfT = dfT[cols].drop(columns=['Region_name', 'Region_class'])\n",
    "    dfR = dfR.drop(columns=['Region_name', 'Region_class','Target_length_mean'])\n",
    "    dfR = dfR[dfR.TS_max < -30]\n",
    "    dfT = dfT[dfT.Region_ID.isin(dfR.Region_ID)]\n",
    "    return dfR, dfT\n",
    "\n",
    "# Using Echoview terminology, so Major = X, Minor = Y\n",
    "def targetSpline(df, processID, regionID):\n",
    "    df = df[(df.Region_ID==regionID) & (df.Process_ID==processID)]\n",
    "    tck, u  = splprep([df.Distance_major_axis, df.Distance_minor_axis,df.Target_true_depth],k=3)\n",
    "    x_knots, y_knots, z_knots = splev(np.linspace(0,1,len(df.Distance_major_axis)-1), tck)\n",
    "    return x_knots, y_knots, z_knots \n",
    "    \n",
    "def trackPlot(df,processID, regionID, plotElements =['track_smoothed','track','track_direct','targets','track_linear']):\n",
    "    # plotElements: list of elements to include:\n",
    "    # targets: target locations\n",
    "    # track: line between targets\n",
    "    # track_smoothed: Cubic spline with equal resolution to the number of targets\n",
    "    # track_direct: \"flux\" line from start to end target based on spline    \n",
    "    x_knots, y_knots, z_knots = targetSpline(df, processID, regionID)\n",
    "    track_smoothed = go.Scatter3d(x=x_knots, y=y_knots, z=z_knots,mode='lines',line=dict(color='#56B4E9', width=5),name='B-spline')\n",
    "    \n",
    "    track_direct = go.Scatter3d(x=[x_knots[i] for i in (0, -1)], y=[y_knots[i] for i in (0, -1)], z=[z_knots[i] for i in (0, -1)],mode='lines',name='Direct Path')\n",
    "\n",
    "    dfCur = df[(df.Region_ID==regionID) & (df.Process_ID==processID)]\n",
    "    targets=go.Scatter3d(x=dfCur.Distance_major_axis, y=dfCur.Distance_minor_axis, z=dfCur.Target_true_depth,mode='markers',\n",
    "        marker=dict(size=6,color='black', colorscale='plasma',opacity=0.8,colorbar=dict(title='TS',thickness=30),showscale=False),name='Targets')\n",
    "    track = go.Scatter3d(x=dfCur.Distance_major_axis, y=dfCur.Distance_minor_axis, z=dfCur.Target_true_depth,mode='lines',line=dict(color='darkblue', width=2),name='Target path')\n",
    "        \n",
    "     # This is the linear fit version of this, getting heading from the X/Y against ping number separately \n",
    "    x = dfCur.Ping_number\n",
    "    X = sm.add_constant(x)\n",
    "    y = dfCur.Distance_major_axis\n",
    "    model = sm.OLS(y, X).fit()\n",
    "    predictions = model.predict(X) # make the predictions by the model\n",
    "    dMaj = predictions.to_numpy()\n",
    "\n",
    "    y = dfCur.Distance_minor_axis\n",
    "    model = sm.OLS(y, X).fit()\n",
    "    predictions = model.predict(X) # make the predictions by the model\n",
    "    dMin = predictions.to_numpy()\n",
    "\n",
    "    y = dfCur.Target_true_depth\n",
    "    model = sm.OLS(y, X).fit()\n",
    "    predictions = model.predict(X) # make the predictions by the model\n",
    "    dZ = predictions.to_numpy()\n",
    "\n",
    "    z_knots = [dZ[0],dZ[-1]]\n",
    "    x_knots = [dMaj[0],dMaj[-1]]\n",
    "    y_knots = [dMin[0],dMin[-1]]\n",
    "    track_linear = go.Scatter3d(x=x_knots, y=y_knots, z=z_knots,mode='lines',line=dict(color='#E69F00', width=5),name='Linear model')\n",
    "    \n",
    "    allElements = {'track_smoothed':track_smoothed,'track':track,'track_direct':track_direct,'targets':targets,'track_linear':track_linear}\n",
    "    fig = go.Figure(data=[allElements[i] for i in plotElements])\n",
    "    split = (np.ceil(np.max([dfCur.Distance_major_axis.max() - dfCur.Distance_major_axis.min(),dfCur.Distance_minor_axis.max() - dfCur.Distance_minor_axis.min(),dfCur.Target_true_depth.max() - dfCur.Target_true_depth.min()]))/2)+.25\n",
    "    fig.update_layout(showlegend=True,scene = dict(xaxis_title='Major axis distance (m)',\n",
    "                        yaxis_title='Minor axis distance (m)',\n",
    "                        zaxis_title='Depth (m)'),\n",
    "                        #xaxis = dict(nticks=4, range=[np.median(dfCur.Distance_major_axis)-split, np.median(dfCur.Distance_major_axis)+split]),\n",
    "                        #yaxis = dict(nticks=4, range=[np.median(dfCur.Distance_minor_axis)-split, np.median(dfCur.Distance_minor_axis)+split]),\n",
    "                        #zaxis = dict(nticks=4, range=[np.median(dfCur.Target_true_depth)-split, np.median(dfCur.Target_true_depth)+split])),\n",
    "                        width=700,\n",
    "                        margin=dict(r=20, b=10, l=10, t=10))\n",
    "\n",
    "    fig.show()\n",
    "\n",
    "    \n",
    "def regionStats(dfR,dfT,processParams):\n",
    "    x_knots, y_knots, z_knots = targetSpline(dfT, dfR.Process_ID, dfR.Region_ID)\n",
    "    coords = [j for j in zip(x_knots,y_knots,z_knots)]\n",
    "    d = np.diff(coords, axis=0)\n",
    "    segdistsS = np.hypot(d[:,0], d[:,1],d[:,2])\n",
    "    a = []\n",
    "    for i in range(len(x_knots)-1):\n",
    "        a.append(direction_lookup(processParams,x_knots[i+1],x_knots[i],y_knots[i+1],y_knots[i]))\n",
    "    tDirS = np.mean(a)\n",
    "\n",
    "    # This is the 'direct' spline version of this\n",
    "    x_knots = [x_knots[i] for i in (0, -1)]\n",
    "    y_knots = [y_knots[i] for i in (0, -1)]\n",
    "    z_knots = [z_knots[i] for i in (0, -1)]\n",
    "    coords = [j for j in zip(x_knots,y_knots,z_knots)]\n",
    "    d = np.diff(coords, axis=0)\n",
    "    segdistsD = np.hypot(d[:,0], d[:,1],d[:,2])\n",
    "    tDirD = direction_lookup(processParams,x_knots[1],x_knots[0],y_knots[1],y_knots[0])\n",
    "        \n",
    "    # This is the linear fit version of this, getting heading from the X/Y plane\n",
    "    dfCur = dfT[(dfT.Process_ID==dfR.Process_ID)&(dfT.Region_ID==dfR.Region_ID)]\n",
    "    if dfCur.Distance_minor_axis.max()-dfCur.Distance_minor_axis.min() < dfCur.Distance_major_axis.max()-dfCur.Distance_major_axis.min():\n",
    "        x = dfCur.Distance_major_axis\n",
    "        X = sm.add_constant(x)\n",
    "        y = dfCur.Distance_minor_axis\n",
    "        model = sm.OLS(y, X).fit()\n",
    "        predictions = model.predict(X) # make the predictions by the model\n",
    "\n",
    "        x_knots = [X.Distance_major_axis.to_numpy()[0],X.Distance_major_axis.to_numpy()[-1]]\n",
    "        y_knots = [predictions.to_numpy()[0],predictions.to_numpy()[-1]]\n",
    "        z_knots = [dfCur.Target_true_depth.values[0],dfCur.Target_true_depth.values[-1]]\n",
    "    \n",
    "    \n",
    "    elif dfCur.Distance_minor_axis.max()-dfCur.Distance_minor_axis.min() > dfCur.Distance_major_axis.max()-dfCur.Distance_major_axis.min():\n",
    "        x = dfCur.Distance_minor_axis\n",
    "        X = sm.add_constant(x)\n",
    "        y = dfCur.Distance_major_axis\n",
    "        model = sm.OLS(y, X).fit()\n",
    "        predictions = model.predict(X) # make the predictions by the model\n",
    "\n",
    "        y_knots = [X.Distance_minor_axis.to_numpy()[0],X.Distance_minor_axis.to_numpy()[-1]]\n",
    "        x_knots = [predictions.to_numpy()[0],predictions.to_numpy()[-1]]\n",
    "        z_knots = [dfCur.Target_true_depth.values[0],dfCur.Target_true_depth.values[-1]]\n",
    "    \n",
    "    tDirL = direction_lookup(processParams,x_knots[1],x_knots[0],y_knots[1],y_knots[0])\n",
    "    \n",
    "    coords = [j for j in zip(x_knots,y_knots,z_knots)]\n",
    "    d = np.diff(coords, axis=0)\n",
    "    segdistsL = np.hypot(d[:,0], d[:,1],d[:,2])\n",
    "    \n",
    "    tSpeedS=segdistsS.sum()/((dfT[(dfT.Process_ID == dfR.Process_ID)& (dfT.Region_ID == dfR.Region_ID)].Ping_number.max() - dfT[(dfT.Process_ID == dfR.Process_ID)& (dfT.Region_ID == dfR.Region_ID)].Ping_number.min())*.4)\n",
    "    tSpeedD=segdistsD.sum()/((dfT[(dfT.Process_ID == dfR.Process_ID)& (dfT.Region_ID == dfR.Region_ID)].Ping_number.max() - dfT[(dfT.Process_ID == dfR.Process_ID)& (dfT.Region_ID == dfR.Region_ID)].Ping_number.min())*.4)\n",
    "    tSpeedL=segdistsL.sum()/((dfT[(dfT.Process_ID == dfR.Process_ID)& (dfT.Region_ID == dfR.Region_ID)].Ping_number.max() - dfT[(dfT.Process_ID == dfR.Process_ID)& (dfT.Region_ID == dfR.Region_ID)].Ping_number.min())*.4)\n",
    "\n",
    "    return tSpeedS, segdistsS.sum(), tDirS, tSpeedD, segdistsD.sum(), tDirD, tSpeedL, segdistsL.sum(), tDirL\n",
    "\n",
    "def regionStats2(dfR,dfT,processParams):\n",
    "    x_knots, y_knots, z_knots = targetSpline(dfT, dfR.Process_ID, dfR.Region_ID)\n",
    "    coords = [j for j in zip(x_knots,y_knots,z_knots)]\n",
    "    d = np.diff(coords, axis=0)\n",
    "    segdistsS = np.hypot(d[:,0], d[:,1],d[:,2])\n",
    "    a = []\n",
    "    for i in range(len(x_knots)-1):\n",
    "        a.append(direction_lookup(processParams,x_knots[i+1],x_knots[i],y_knots[i+1],y_knots[i]))\n",
    "    tDirS = np.mean(a)\n",
    "\n",
    "    # This is the 'direct' spline version of this\n",
    "    x_knots = [x_knots[i] for i in (0, -1)]\n",
    "    y_knots = [y_knots[i] for i in (0, -1)]\n",
    "    z_knots = [z_knots[i] for i in (0, -1)]\n",
    "    coords = [j for j in zip(x_knots,y_knots,z_knots)]\n",
    "    d = np.diff(coords, axis=0)\n",
    "    segdistsD = np.hypot(d[:,0], d[:,1],d[:,2])\n",
    "    tDirD = direction_lookup(processParams,x_knots[1],x_knots[0],y_knots[1],y_knots[0])\n",
    "        \n",
    "    # This is the linear fit version of this, getting heading from the X/Y against ping number separately \n",
    "    dfCur = dfT[(dfT.Process_ID==dfR.Process_ID)&(dfT.Region_ID==dfR.Region_ID)]\n",
    "    x = dfCur.Ping_number\n",
    "    X = sm.add_constant(x)\n",
    "    y = dfCur.Distance_major_axis\n",
    "    model = sm.OLS(y, X).fit()\n",
    "    predictions = model.predict(X) # make the predictions by the model\n",
    "    dMaj = predictions.to_numpy()\n",
    "\n",
    "    y = dfCur.Distance_minor_axis\n",
    "    model = sm.OLS(y, X).fit()\n",
    "    predictions = model.predict(X) # make the predictions by the model\n",
    "    dMin = predictions.to_numpy()\n",
    "    \n",
    "    y = dfCur.Target_true_depth\n",
    "    model = sm.OLS(y, X).fit()\n",
    "    predictions = model.predict(X) # make the predictions by the model\n",
    "    dZ = predictions.to_numpy()\n",
    "\n",
    "    z_knots = [dZ[0],dZ[-1]]\n",
    "    x_knots = [dMaj[0],dMaj[-1]]\n",
    "    y_knots = [dMin[0],dMin[-1]]\n",
    "    \n",
    "    tDirL = direction_lookup(processParams,x_knots[1],x_knots[0],y_knots[1],y_knots[0])\n",
    "    \n",
    "    coords = [j for j in zip(x_knots,y_knots,z_knots)]\n",
    "    d = np.diff(coords, axis=0)\n",
    "    segdistsL = np.hypot(d[:,0], d[:,1],d[:,2])\n",
    "    \n",
    "    tSpeedS=segdistsS.sum()/((dfT[(dfT.Process_ID == dfR.Process_ID)& (dfT.Region_ID == dfR.Region_ID)].Ping_number.max() - dfT[(dfT.Process_ID == dfR.Process_ID)& (dfT.Region_ID == dfR.Region_ID)].Ping_number.min())*.4)\n",
    "    tSpeedD=segdistsD.sum()/((dfT[(dfT.Process_ID == dfR.Process_ID)& (dfT.Region_ID == dfR.Region_ID)].Ping_number.max() - dfT[(dfT.Process_ID == dfR.Process_ID)& (dfT.Region_ID == dfR.Region_ID)].Ping_number.min())*.4)\n",
    "    tSpeedL=segdistsL.sum()/((dfT[(dfT.Process_ID == dfR.Process_ID)& (dfT.Region_ID == dfR.Region_ID)].Ping_number.max() - dfT[(dfT.Process_ID == dfR.Process_ID)& (dfT.Region_ID == dfR.Region_ID)].Ping_number.min())*.4)\n",
    "\n",
    "    return tSpeedS, segdistsS.sum(), tDirS, tSpeedD, segdistsD.sum(), tDirD, tSpeedL, segdistsL.sum(), tDirL\n",
    "\n",
    "def direction_lookup(processParams,destination_x, origin_x, destination_y, origin_y):\n",
    "    deltaX = destination_x - origin_x\n",
    "    deltaY = destination_y - origin_y\n",
    "    degrees_temp = math.atan2(deltaX, deltaY)/math.pi*180\n",
    "    # Flip for the inversion due to upward facing Xducer\n",
    "    degrees_temp = 360-degrees_temp\n",
    "    # Correct for the Xducer direction\n",
    "    degrees_temp = (degrees_temp + processParams.wbatParams.mooringCompassOffset-360)\n",
    "    # Whats the magnetic declination at the site?\n",
    "    degrees_temp = degrees_temp + processParams.wbatParams.mooringMagDec\n",
    "    # Convert check if its negative and correct\n",
    "    if degrees_temp > 360:\n",
    "        degrees_final = degrees_temp-360\n",
    "    else:\n",
    "        degrees_final = degrees_temp\n",
    "    return degrees_final\n",
    "\n",
    "def splineDF(dfR, dfT, processParams):\n",
    "    #compassCor = {1:335,2:208,4:250,5:197,6:293}\n",
    "    speedS,distS,headS = [],[],[]\n",
    "    speedD,distD,headD = [],[],[]\n",
    "    speedL,distL,headL = [],[],[]\n",
    "    for index,row in tqdm(dfR.iterrows(),total=len(dfR),desc='Calculating splines'):\n",
    "        sS,dS,hS,sD,dD,hD,sL,dL,hL = regionStats2(row,dfT,processParams)\n",
    "        speedD.append(sD)\n",
    "        distD.append(dD)\n",
    "        headD.append(hD)\n",
    "        speedS.append(sS)\n",
    "        distS.append(dS)\n",
    "        headS.append(hS)\n",
    "        speedL.append(sL)\n",
    "        distL.append(dL)\n",
    "        headL.append(hL)\n",
    "    dfR['directSpeed'] = np.around(np.array(speedD),3)\n",
    "    dfR['directDist'] = np.around(np.array(distD),3)\n",
    "    dfR['directHead'] = np.around(np.array(headD),3)\n",
    "    dfR['smoothedSpeed'] = np.around(np.array(speedS),3)\n",
    "    dfR['smoothedDist'] = np.around(np.array(distS),3)\n",
    "    dfR['smoothedHead'] = np.around(np.array(headS),3)\n",
    "    dfR['linearSpeed'] = np.around(np.array(speedL),3)\n",
    "    dfR['linearDist'] = np.around(np.array(distL),3)\n",
    "    dfR['linearHead'] = np.around(np.array(headL),3)\n",
    "    return dfR"
   ]
  },
  {
   "cell_type": "code",
   "execution_count": 61,
   "metadata": {},
   "outputs": [
    {
     "name": "stdout",
     "output_type": "stream",
     "text": [
      "Importing mooring 1\n"
     ]
    },
    {
     "data": {
      "application/vnd.jupyter.widget-view+json": {
       "model_id": "0d184423830142378a2ee519d2db31b8",
       "version_major": 2,
       "version_minor": 0
      },
      "text/plain": [
       "HBox(children=(HTML(value='Reading regions'), FloatProgress(value=0.0, max=53.0), HTML(value='')))"
      ]
     },
     "metadata": {},
     "output_type": "display_data"
    },
    {
     "name": "stdout",
     "output_type": "stream",
     "text": [
      "\n"
     ]
    },
    {
     "data": {
      "application/vnd.jupyter.widget-view+json": {
       "model_id": "0b1b3c420dc0445bab5d68cca0d979d2",
       "version_major": 2,
       "version_minor": 0
      },
      "text/plain": [
       "HBox(children=(HTML(value='Reading targets'), FloatProgress(value=0.0, max=53.0), HTML(value='')))"
      ]
     },
     "metadata": {},
     "output_type": "display_data"
    },
    {
     "name": "stdout",
     "output_type": "stream",
     "text": [
      "\n"
     ]
    },
    {
     "data": {
      "application/vnd.jupyter.widget-view+json": {
       "model_id": "4d32956dd2334570a0f15e6fe24cc939",
       "version_major": 2,
       "version_minor": 0
      },
      "text/plain": [
       "HBox(children=(HTML(value='Calculating splines'), FloatProgress(value=0.0, max=44097.0), HTML(value='')))"
      ]
     },
     "metadata": {},
     "output_type": "display_data"
    },
    {
     "name": "stdout",
     "output_type": "stream",
     "text": [
      "\n",
      "Importing mooring 2\n"
     ]
    },
    {
     "data": {
      "application/vnd.jupyter.widget-view+json": {
       "model_id": "7c938ce9084d4dda873b65454785d4da",
       "version_major": 2,
       "version_minor": 0
      },
      "text/plain": [
       "HBox(children=(HTML(value='Reading regions'), FloatProgress(value=0.0, max=38.0), HTML(value='')))"
      ]
     },
     "metadata": {},
     "output_type": "display_data"
    },
    {
     "name": "stdout",
     "output_type": "stream",
     "text": [
      "\n"
     ]
    },
    {
     "data": {
      "application/vnd.jupyter.widget-view+json": {
       "model_id": "be8be565bdef4b1eaa3a5aade8a9883c",
       "version_major": 2,
       "version_minor": 0
      },
      "text/plain": [
       "HBox(children=(HTML(value='Reading targets'), FloatProgress(value=0.0, max=38.0), HTML(value='')))"
      ]
     },
     "metadata": {},
     "output_type": "display_data"
    },
    {
     "name": "stdout",
     "output_type": "stream",
     "text": [
      "\n"
     ]
    },
    {
     "data": {
      "application/vnd.jupyter.widget-view+json": {
       "model_id": "aea1b99217024c2488b93e280b17e5b1",
       "version_major": 2,
       "version_minor": 0
      },
      "text/plain": [
       "HBox(children=(HTML(value='Calculating splines'), FloatProgress(value=0.0, max=51125.0), HTML(value='')))"
      ]
     },
     "metadata": {},
     "output_type": "display_data"
    },
    {
     "name": "stdout",
     "output_type": "stream",
     "text": [
      "\n",
      "Importing mooring 4\n"
     ]
    },
    {
     "data": {
      "application/vnd.jupyter.widget-view+json": {
       "model_id": "1a46dc21129e46d38a3c534ebcf29b2a",
       "version_major": 2,
       "version_minor": 0
      },
      "text/plain": [
       "HBox(children=(HTML(value='Reading regions'), FloatProgress(value=0.0, max=38.0), HTML(value='')))"
      ]
     },
     "metadata": {},
     "output_type": "display_data"
    },
    {
     "name": "stdout",
     "output_type": "stream",
     "text": [
      "\n"
     ]
    },
    {
     "data": {
      "application/vnd.jupyter.widget-view+json": {
       "model_id": "d1c74dd24a7e4335af0b08b73a928a39",
       "version_major": 2,
       "version_minor": 0
      },
      "text/plain": [
       "HBox(children=(HTML(value='Reading targets'), FloatProgress(value=0.0, max=38.0), HTML(value='')))"
      ]
     },
     "metadata": {},
     "output_type": "display_data"
    },
    {
     "name": "stdout",
     "output_type": "stream",
     "text": [
      "\n"
     ]
    },
    {
     "data": {
      "application/vnd.jupyter.widget-view+json": {
       "model_id": "2bd38efdd30445d39896b6f1e7972be2",
       "version_major": 2,
       "version_minor": 0
      },
      "text/plain": [
       "HBox(children=(HTML(value='Calculating splines'), FloatProgress(value=0.0, max=46292.0), HTML(value='')))"
      ]
     },
     "metadata": {},
     "output_type": "display_data"
    },
    {
     "name": "stdout",
     "output_type": "stream",
     "text": [
      "\n",
      "Importing mooring 5\n"
     ]
    },
    {
     "data": {
      "application/vnd.jupyter.widget-view+json": {
       "model_id": "440e2a7428f34b5ab463c6f4d68d152a",
       "version_major": 2,
       "version_minor": 0
      },
      "text/plain": [
       "HBox(children=(HTML(value='Reading regions'), FloatProgress(value=0.0, max=39.0), HTML(value='')))"
      ]
     },
     "metadata": {},
     "output_type": "display_data"
    },
    {
     "name": "stdout",
     "output_type": "stream",
     "text": [
      "\n"
     ]
    },
    {
     "data": {
      "application/vnd.jupyter.widget-view+json": {
       "model_id": "663e987765534e7693f638afba3103da",
       "version_major": 2,
       "version_minor": 0
      },
      "text/plain": [
       "HBox(children=(HTML(value='Reading targets'), FloatProgress(value=0.0, max=39.0), HTML(value='')))"
      ]
     },
     "metadata": {},
     "output_type": "display_data"
    },
    {
     "name": "stdout",
     "output_type": "stream",
     "text": [
      "\n"
     ]
    },
    {
     "data": {
      "application/vnd.jupyter.widget-view+json": {
       "model_id": "38b3224b72544bc585ca7c280211f511",
       "version_major": 2,
       "version_minor": 0
      },
      "text/plain": [
       "HBox(children=(HTML(value='Calculating splines'), FloatProgress(value=0.0, max=60969.0), HTML(value='')))"
      ]
     },
     "metadata": {},
     "output_type": "display_data"
    },
    {
     "name": "stdout",
     "output_type": "stream",
     "text": [
      "\n",
      "Importing mooring 6\n"
     ]
    },
    {
     "data": {
      "application/vnd.jupyter.widget-view+json": {
       "model_id": "dbaf1f102d4b4ab48da0976d03b1321b",
       "version_major": 2,
       "version_minor": 0
      },
      "text/plain": [
       "HBox(children=(HTML(value='Reading regions'), FloatProgress(value=0.0, max=39.0), HTML(value='')))"
      ]
     },
     "metadata": {},
     "output_type": "display_data"
    },
    {
     "name": "stdout",
     "output_type": "stream",
     "text": [
      "\n"
     ]
    },
    {
     "data": {
      "application/vnd.jupyter.widget-view+json": {
       "model_id": "171970328fbd43bfa4b6a2cfab0265fc",
       "version_major": 2,
       "version_minor": 0
      },
      "text/plain": [
       "HBox(children=(HTML(value='Reading targets'), FloatProgress(value=0.0, max=39.0), HTML(value='')))"
      ]
     },
     "metadata": {},
     "output_type": "display_data"
    },
    {
     "name": "stdout",
     "output_type": "stream",
     "text": [
      "\n"
     ]
    },
    {
     "data": {
      "application/vnd.jupyter.widget-view+json": {
       "model_id": "9fbcdd2abcaa4ac9aed7a61b548c4c86",
       "version_major": 2,
       "version_minor": 0
      },
      "text/plain": [
       "HBox(children=(HTML(value='Calculating splines'), FloatProgress(value=0.0, max=59001.0), HTML(value='')))"
      ]
     },
     "metadata": {},
     "output_type": "display_data"
    },
    {
     "name": "stdout",
     "output_type": "stream",
     "text": [
      "\n"
     ]
    }
   ],
   "source": [
    "from mooringParams import paramsDAFT1 as processParams1 # Each mooring has a specific params file with \n",
    "dfR, dfT = readExports(processParams1)\n",
    "dfRSpline = splineDF(dfR, dfT, processParams1)\n",
    "dfRSpline.to_csv('../data/analysisFiles/TrackRegions'+str(processParams1.wbatParams.mooringNum)+'_linear2.csv')\n",
    "\n",
    "from mooringParams import paramsDAFT2 as processParams2 # Each mooring has a specific params file with \n",
    "dfR, dfT = readExports(processParams2)\n",
    "dfRSpline = splineDF(dfR, dfT, processParams2)\n",
    "dfRSpline.to_csv('../data/analysisFiles/TrackRegions'+str(processParams2.wbatParams.mooringNum)+'_linear2.csv')\n",
    "\n",
    "from mooringParams import paramsDAFT4 as processParams4 # Each mooring has a specific params file with \n",
    "dfR, dfT = readExports(processParams4)\n",
    "dfRSpline = splineDF(dfR, dfT, processParams4)\n",
    "dfRSpline.to_csv('../data/analysisFiles/TrackRegions'+str(processParams4.wbatParams.mooringNum)+'_linear2.csv')\n",
    "\n",
    "from mooringParams import paramsDAFT5 as processParams5 # Each mooring has a specific params file with \n",
    "dfR, dfT = readExports(processParams5)\n",
    "dfRSpline = splineDF(dfR, dfT, processParams5)\n",
    "dfRSpline.to_csv('../data/analysisFiles/TrackRegions'+str(processParams5.wbatParams.mooringNum)+'_linear2.csv')\n",
    "\n",
    "from mooringParams import paramsDAFT6 as processParams6 # Each mooring has a specific params file with \n",
    "dfR, dfT = readExports(processParams6)\n",
    "dfRSpline = splineDF(dfR, dfT, processParams6)\n",
    "dfRSpline.to_csv('../data/analysisFiles/TrackRegions'+str(processParams6.wbatParams.mooringNum)+'_linear2.csv')"
   ]
  },
  {
   "cell_type": "code",
   "execution_count": 23,
   "metadata": {},
   "outputs": [
    {
     "data": {
      "text/html": [
       "<div>\n",
       "<style scoped>\n",
       "    .dataframe tbody tr th:only-of-type {\n",
       "        vertical-align: middle;\n",
       "    }\n",
       "\n",
       "    .dataframe tbody tr th {\n",
       "        vertical-align: top;\n",
       "    }\n",
       "\n",
       "    .dataframe thead th {\n",
       "        text-align: right;\n",
       "    }\n",
       "</style>\n",
       "<table border=\"1\" class=\"dataframe\">\n",
       "  <thead>\n",
       "    <tr style=\"text-align: right;\">\n",
       "      <th></th>\n",
       "      <th>Region_ID</th>\n",
       "      <th>Process_ID</th>\n",
       "      <th>Ping_S</th>\n",
       "      <th>Date_S</th>\n",
       "      <th>Time_S</th>\n",
       "      <th>Num_targets</th>\n",
       "      <th>TS_mean</th>\n",
       "      <th>TS_max</th>\n",
       "      <th>TS_min</th>\n",
       "      <th>Target_range_mean</th>\n",
       "      <th>...</th>\n",
       "      <th>Fish_track_change_in_range</th>\n",
       "      <th>Time_in_beam</th>\n",
       "      <th>Tortuosity_2D</th>\n",
       "      <th>Tortuosity_3D</th>\n",
       "      <th>Distance_2D_unsmoothed</th>\n",
       "      <th>Distance_3D_unsmoothed</th>\n",
       "      <th>Target_depth_mean</th>\n",
       "      <th>Target_depth_max</th>\n",
       "      <th>Target_depth_min</th>\n",
       "      <th>Fish_track_change_in_depth</th>\n",
       "    </tr>\n",
       "  </thead>\n",
       "  <tbody>\n",
       "    <tr>\n",
       "      <th>0</th>\n",
       "      <td>3</td>\n",
       "      <td>378</td>\n",
       "      <td>20</td>\n",
       "      <td>20170815</td>\n",
       "      <td>00:00:25.0000</td>\n",
       "      <td>9</td>\n",
       "      <td>-66.619253</td>\n",
       "      <td>-65.493325</td>\n",
       "      <td>-69.397139</td>\n",
       "      <td>12.357479</td>\n",
       "      <td>...</td>\n",
       "      <td>0.000411</td>\n",
       "      <td>5.01</td>\n",
       "      <td>117.467508</td>\n",
       "      <td>1.102260</td>\n",
       "      <td>0.048306</td>\n",
       "      <td>2.5829</td>\n",
       "      <td>34.856427</td>\n",
       "      <td>34.887745</td>\n",
       "      <td>34.824027</td>\n",
       "      <td>0.001572</td>\n",
       "    </tr>\n",
       "    <tr>\n",
       "      <th>1</th>\n",
       "      <td>4</td>\n",
       "      <td>378</td>\n",
       "      <td>26</td>\n",
       "      <td>20170815</td>\n",
       "      <td>00:00:27.0100</td>\n",
       "      <td>4</td>\n",
       "      <td>-37.799161</td>\n",
       "      <td>-36.734964</td>\n",
       "      <td>-40.146306</td>\n",
       "      <td>17.400559</td>\n",
       "      <td>...</td>\n",
       "      <td>-0.140081</td>\n",
       "      <td>3.99</td>\n",
       "      <td>1.002650</td>\n",
       "      <td>1.617719</td>\n",
       "      <td>0.140452</td>\n",
       "      <td>2.5064</td>\n",
       "      <td>29.801663</td>\n",
       "      <td>29.847721</td>\n",
       "      <td>29.765884</td>\n",
       "      <td>0.055649</td>\n",
       "    </tr>\n",
       "    <tr>\n",
       "      <th>2</th>\n",
       "      <td>5</td>\n",
       "      <td>378</td>\n",
       "      <td>96</td>\n",
       "      <td>20170815</td>\n",
       "      <td>00:00:58.0000</td>\n",
       "      <td>8</td>\n",
       "      <td>-38.640360</td>\n",
       "      <td>-35.663867</td>\n",
       "      <td>-47.121757</td>\n",
       "      <td>11.791268</td>\n",
       "      <td>...</td>\n",
       "      <td>0.305503</td>\n",
       "      <td>4.00</td>\n",
       "      <td>1.613928</td>\n",
       "      <td>1.874065</td>\n",
       "      <td>0.493059</td>\n",
       "      <td>2.7264</td>\n",
       "      <td>35.379773</td>\n",
       "      <td>35.504978</td>\n",
       "      <td>35.181171</td>\n",
       "      <td>-0.298303</td>\n",
       "    </tr>\n",
       "    <tr>\n",
       "      <th>3</th>\n",
       "      <td>6</td>\n",
       "      <td>378</td>\n",
       "      <td>108</td>\n",
       "      <td>20170815</td>\n",
       "      <td>00:01:03.0100</td>\n",
       "      <td>4</td>\n",
       "      <td>-56.799140</td>\n",
       "      <td>-56.450325</td>\n",
       "      <td>-57.123119</td>\n",
       "      <td>2.511446</td>\n",
       "      <td>...</td>\n",
       "      <td>0.023999</td>\n",
       "      <td>1.00</td>\n",
       "      <td>1.035179</td>\n",
       "      <td>1.002814</td>\n",
       "      <td>0.024843</td>\n",
       "      <td>0.3403</td>\n",
       "      <td>44.655058</td>\n",
       "      <td>44.664897</td>\n",
       "      <td>44.638257</td>\n",
       "      <td>-0.026640</td>\n",
       "    </tr>\n",
       "    <tr>\n",
       "      <th>4</th>\n",
       "      <td>7</td>\n",
       "      <td>378</td>\n",
       "      <td>112</td>\n",
       "      <td>20170815</td>\n",
       "      <td>00:01:05.0000</td>\n",
       "      <td>16</td>\n",
       "      <td>-50.786924</td>\n",
       "      <td>-48.700107</td>\n",
       "      <td>-55.081804</td>\n",
       "      <td>35.737057</td>\n",
       "      <td>...</td>\n",
       "      <td>-0.023126</td>\n",
       "      <td>9.01</td>\n",
       "      <td>37.706974</td>\n",
       "      <td>5.204905</td>\n",
       "      <td>0.872009</td>\n",
       "      <td>8.5966</td>\n",
       "      <td>11.563137</td>\n",
       "      <td>11.690691</td>\n",
       "      <td>11.460841</td>\n",
       "      <td>0.080411</td>\n",
       "    </tr>\n",
       "    <tr>\n",
       "      <th>...</th>\n",
       "      <td>...</td>\n",
       "      <td>...</td>\n",
       "      <td>...</td>\n",
       "      <td>...</td>\n",
       "      <td>...</td>\n",
       "      <td>...</td>\n",
       "      <td>...</td>\n",
       "      <td>...</td>\n",
       "      <td>...</td>\n",
       "      <td>...</td>\n",
       "      <td>...</td>\n",
       "      <td>...</td>\n",
       "      <td>...</td>\n",
       "      <td>...</td>\n",
       "      <td>...</td>\n",
       "      <td>...</td>\n",
       "      <td>...</td>\n",
       "      <td>...</td>\n",
       "      <td>...</td>\n",
       "      <td>...</td>\n",
       "      <td>...</td>\n",
       "    </tr>\n",
       "    <tr>\n",
       "      <th>1038</th>\n",
       "      <td>1041</td>\n",
       "      <td>586</td>\n",
       "      <td>16310</td>\n",
       "      <td>20170814</td>\n",
       "      <td>22:01:04.0200</td>\n",
       "      <td>5</td>\n",
       "      <td>-54.329255</td>\n",
       "      <td>-54.036432</td>\n",
       "      <td>-54.738147</td>\n",
       "      <td>11.198645</td>\n",
       "      <td>...</td>\n",
       "      <td>0.117782</td>\n",
       "      <td>1.99</td>\n",
       "      <td>1.000000</td>\n",
       "      <td>1.066648</td>\n",
       "      <td>0.117782</td>\n",
       "      <td>0.7519</td>\n",
       "      <td>36.030207</td>\n",
       "      <td>36.074636</td>\n",
       "      <td>35.976555</td>\n",
       "      <td>-0.098081</td>\n",
       "    </tr>\n",
       "    <tr>\n",
       "      <th>1039</th>\n",
       "      <td>1042</td>\n",
       "      <td>586</td>\n",
       "      <td>16318</td>\n",
       "      <td>20170814</td>\n",
       "      <td>22:01:08.0100</td>\n",
       "      <td>10</td>\n",
       "      <td>-55.234098</td>\n",
       "      <td>-54.831882</td>\n",
       "      <td>-56.015343</td>\n",
       "      <td>7.102981</td>\n",
       "      <td>...</td>\n",
       "      <td>0.069475</td>\n",
       "      <td>3.99</td>\n",
       "      <td>2.399650</td>\n",
       "      <td>1.029159</td>\n",
       "      <td>0.166715</td>\n",
       "      <td>1.5483</td>\n",
       "      <td>40.063174</td>\n",
       "      <td>40.107696</td>\n",
       "      <td>40.015456</td>\n",
       "      <td>-0.087796</td>\n",
       "    </tr>\n",
       "    <tr>\n",
       "      <th>1040</th>\n",
       "      <td>1043</td>\n",
       "      <td>586</td>\n",
       "      <td>16322</td>\n",
       "      <td>20170814</td>\n",
       "      <td>22:01:10.0000</td>\n",
       "      <td>7</td>\n",
       "      <td>-52.077427</td>\n",
       "      <td>-50.795977</td>\n",
       "      <td>-55.643745</td>\n",
       "      <td>7.597568</td>\n",
       "      <td>...</td>\n",
       "      <td>-0.047270</td>\n",
       "      <td>2.01</td>\n",
       "      <td>1.031120</td>\n",
       "      <td>1.044345</td>\n",
       "      <td>0.048741</td>\n",
       "      <td>0.8499</td>\n",
       "      <td>39.566060</td>\n",
       "      <td>39.578175</td>\n",
       "      <td>39.560591</td>\n",
       "      <td>0.002372</td>\n",
       "    </tr>\n",
       "    <tr>\n",
       "      <th>1041</th>\n",
       "      <td>1044</td>\n",
       "      <td>586</td>\n",
       "      <td>16341</td>\n",
       "      <td>20170814</td>\n",
       "      <td>22:01:18.0100</td>\n",
       "      <td>7</td>\n",
       "      <td>-55.498511</td>\n",
       "      <td>-54.476586</td>\n",
       "      <td>-56.166156</td>\n",
       "      <td>12.107400</td>\n",
       "      <td>...</td>\n",
       "      <td>0.117212</td>\n",
       "      <td>3.99</td>\n",
       "      <td>1.005833</td>\n",
       "      <td>1.605030</td>\n",
       "      <td>0.117896</td>\n",
       "      <td>1.4329</td>\n",
       "      <td>35.109161</td>\n",
       "      <td>35.170429</td>\n",
       "      <td>35.039800</td>\n",
       "      <td>-0.130629</td>\n",
       "    </tr>\n",
       "    <tr>\n",
       "      <th>1042</th>\n",
       "      <td>1045</td>\n",
       "      <td>586</td>\n",
       "      <td>16395</td>\n",
       "      <td>20170814</td>\n",
       "      <td>22:02:11.0000</td>\n",
       "      <td>5</td>\n",
       "      <td>-56.294176</td>\n",
       "      <td>-54.766488</td>\n",
       "      <td>-57.117360</td>\n",
       "      <td>4.130963</td>\n",
       "      <td>...</td>\n",
       "      <td>0.023189</td>\n",
       "      <td>1.02</td>\n",
       "      <td>1.110478</td>\n",
       "      <td>1.013292</td>\n",
       "      <td>0.025751</td>\n",
       "      <td>0.4487</td>\n",
       "      <td>43.030754</td>\n",
       "      <td>43.057565</td>\n",
       "      <td>43.005483</td>\n",
       "      <td>-0.052082</td>\n",
       "    </tr>\n",
       "  </tbody>\n",
       "</table>\n",
       "<p>44097 rows × 28 columns</p>\n",
       "</div>"
      ],
      "text/plain": [
       "      Region_ID  Process_ID  Ping_S    Date_S          Time_S  Num_targets  \\\n",
       "0             3         378      20  20170815   00:00:25.0000            9   \n",
       "1             4         378      26  20170815   00:00:27.0100            4   \n",
       "2             5         378      96  20170815   00:00:58.0000            8   \n",
       "3             6         378     108  20170815   00:01:03.0100            4   \n",
       "4             7         378     112  20170815   00:01:05.0000           16   \n",
       "...         ...         ...     ...       ...             ...          ...   \n",
       "1038       1041         586   16310  20170814   22:01:04.0200            5   \n",
       "1039       1042         586   16318  20170814   22:01:08.0100           10   \n",
       "1040       1043         586   16322  20170814   22:01:10.0000            7   \n",
       "1041       1044         586   16341  20170814   22:01:18.0100            7   \n",
       "1042       1045         586   16395  20170814   22:02:11.0000            5   \n",
       "\n",
       "        TS_mean     TS_max     TS_min  Target_range_mean  ...  \\\n",
       "0    -66.619253 -65.493325 -69.397139          12.357479  ...   \n",
       "1    -37.799161 -36.734964 -40.146306          17.400559  ...   \n",
       "2    -38.640360 -35.663867 -47.121757          11.791268  ...   \n",
       "3    -56.799140 -56.450325 -57.123119           2.511446  ...   \n",
       "4    -50.786924 -48.700107 -55.081804          35.737057  ...   \n",
       "...         ...        ...        ...                ...  ...   \n",
       "1038 -54.329255 -54.036432 -54.738147          11.198645  ...   \n",
       "1039 -55.234098 -54.831882 -56.015343           7.102981  ...   \n",
       "1040 -52.077427 -50.795977 -55.643745           7.597568  ...   \n",
       "1041 -55.498511 -54.476586 -56.166156          12.107400  ...   \n",
       "1042 -56.294176 -54.766488 -57.117360           4.130963  ...   \n",
       "\n",
       "      Fish_track_change_in_range  Time_in_beam  Tortuosity_2D  Tortuosity_3D  \\\n",
       "0                       0.000411          5.01     117.467508       1.102260   \n",
       "1                      -0.140081          3.99       1.002650       1.617719   \n",
       "2                       0.305503          4.00       1.613928       1.874065   \n",
       "3                       0.023999          1.00       1.035179       1.002814   \n",
       "4                      -0.023126          9.01      37.706974       5.204905   \n",
       "...                          ...           ...            ...            ...   \n",
       "1038                    0.117782          1.99       1.000000       1.066648   \n",
       "1039                    0.069475          3.99       2.399650       1.029159   \n",
       "1040                   -0.047270          2.01       1.031120       1.044345   \n",
       "1041                    0.117212          3.99       1.005833       1.605030   \n",
       "1042                    0.023189          1.02       1.110478       1.013292   \n",
       "\n",
       "      Distance_2D_unsmoothed  Distance_3D_unsmoothed  Target_depth_mean  \\\n",
       "0                   0.048306                  2.5829          34.856427   \n",
       "1                   0.140452                  2.5064          29.801663   \n",
       "2                   0.493059                  2.7264          35.379773   \n",
       "3                   0.024843                  0.3403          44.655058   \n",
       "4                   0.872009                  8.5966          11.563137   \n",
       "...                      ...                     ...                ...   \n",
       "1038                0.117782                  0.7519          36.030207   \n",
       "1039                0.166715                  1.5483          40.063174   \n",
       "1040                0.048741                  0.8499          39.566060   \n",
       "1041                0.117896                  1.4329          35.109161   \n",
       "1042                0.025751                  0.4487          43.030754   \n",
       "\n",
       "      Target_depth_max  Target_depth_min  Fish_track_change_in_depth  \n",
       "0            34.887745         34.824027                    0.001572  \n",
       "1            29.847721         29.765884                    0.055649  \n",
       "2            35.504978         35.181171                   -0.298303  \n",
       "3            44.664897         44.638257                   -0.026640  \n",
       "4            11.690691         11.460841                    0.080411  \n",
       "...                ...               ...                         ...  \n",
       "1038         36.074636         35.976555                   -0.098081  \n",
       "1039         40.107696         40.015456                   -0.087796  \n",
       "1040         39.578175         39.560591                    0.002372  \n",
       "1041         35.170429         35.039800                   -0.130629  \n",
       "1042         43.057565         43.005483                   -0.052082  \n",
       "\n",
       "[44097 rows x 28 columns]"
      ]
     },
     "execution_count": 23,
     "metadata": {},
     "output_type": "execute_result"
    }
   ],
   "source": [
    "(dfR.TS_mean >-55)"
   ]
  },
  {
   "cell_type": "code",
   "execution_count": 46,
   "metadata": {},
   "outputs": [
    {
     "name": "stdout",
     "output_type": "stream",
     "text": [
      "Importing mooring 1\n"
     ]
    },
    {
     "data": {
      "application/vnd.jupyter.widget-view+json": {
       "model_id": "1bf36e131ce34dc6877d76b3bfb010b0",
       "version_major": 2,
       "version_minor": 0
      },
      "text/plain": [
       "HBox(children=(HTML(value='Reading regions'), FloatProgress(value=0.0, max=53.0), HTML(value='')))"
      ]
     },
     "metadata": {},
     "output_type": "display_data"
    },
    {
     "name": "stdout",
     "output_type": "stream",
     "text": [
      "\n"
     ]
    },
    {
     "data": {
      "application/vnd.jupyter.widget-view+json": {
       "model_id": "b7845a4e781646ea8f469166f4008299",
       "version_major": 2,
       "version_minor": 0
      },
      "text/plain": [
       "HBox(children=(HTML(value='Reading targets'), FloatProgress(value=0.0, max=53.0), HTML(value='')))"
      ]
     },
     "metadata": {},
     "output_type": "display_data"
    },
    {
     "name": "stdout",
     "output_type": "stream",
     "text": [
      "\n"
     ]
    },
    {
     "data": {
      "application/vnd.plotly.v1+json": {
       "config": {
        "plotlyServerURL": "https://plot.ly"
       },
       "data": [
        {
         "marker": {
          "color": "black",
          "colorbar": {
           "thickness": 30,
           "title": {
            "text": "TS"
           }
          },
          "colorscale": [
           [
            0,
            "#0d0887"
           ],
           [
            0.1111111111111111,
            "#46039f"
           ],
           [
            0.2222222222222222,
            "#7201a8"
           ],
           [
            0.3333333333333333,
            "#9c179e"
           ],
           [
            0.4444444444444444,
            "#bd3786"
           ],
           [
            0.5555555555555556,
            "#d8576b"
           ],
           [
            0.6666666666666666,
            "#ed7953"
           ],
           [
            0.7777777777777778,
            "#fb9f3a"
           ],
           [
            0.8888888888888888,
            "#fdca26"
           ],
           [
            1,
            "#f0f921"
           ]
          ],
          "opacity": 0.8,
          "showscale": false,
          "size": 6
         },
         "mode": "markers",
         "name": "Targets",
         "type": "scatter3d",
         "x": [
          0.8205030000000001,
          0.336214,
          0.503886,
          0.19963399999999998,
          0.37598400000000004,
          0.330403,
          0.040864,
          -0.49761099999999997,
          -0.33039,
          -0.656845,
          -0.451563,
          -0.874734,
          -0.800561,
          -0.955153,
          -0.780042,
          -1.5252569999999999,
          -1.2834809999999999,
          -0.976087,
          -1.132277,
          -1.196089,
          -1.279636,
          -1.342295,
          -1.5751600000000001,
          -1.6715240000000002,
          -1.618575,
          -1.518551,
          -1.860516,
          -1.9395240000000002,
          -1.7124549999999998,
          -2.107268,
          -2.354063,
          -1.9177799999999998,
          -2.4247970000000003,
          -2.6323090000000002,
          -2.162505,
          -2.4312970000000003,
          -2.713811,
          -2.544348,
          -2.743172,
          -2.530843
         ],
         "y": [
          -2.411717,
          -2.324052,
          -2.398963,
          -1.9706169999999998,
          -2.0570720000000002,
          -2.0877790000000003,
          -1.724948,
          -1.482812,
          -1.51811,
          -1.424193,
          -1.19121,
          -1.3568870000000002,
          -1.210277,
          -0.9953719999999999,
          -0.8418690000000001,
          -1.126564,
          -0.596366,
          -0.686964,
          -0.739081,
          -0.49819300000000005,
          -0.6585439999999999,
          -0.622726,
          -0.642591,
          -0.300579,
          -0.147777,
          -0.202014,
          -0.242619,
          -0.268788,
          0.06617100000000001,
          -0.253368,
          0.054749,
          0.018238,
          0.4119,
          0.434011,
          0.131929,
          0.202653,
          0.717294,
          0.605067,
          -0.07446599999999999,
          0.989081
         ],
         "z": [
          25.284648,
          25.262051,
          25.273007,
          25.225514,
          25.259651,
          25.285899,
          25.2515,
          25.238298999999998,
          25.237935,
          25.239426,
          25.219942,
          25.242994,
          25.231053,
          25.249914,
          25.283689000000003,
          25.359233,
          25.322798000000002,
          25.309267000000002,
          25.318679,
          25.339123999999998,
          25.32376,
          25.35107,
          25.342717999999998,
          25.342709,
          25.336976999999997,
          25.330196,
          25.357336,
          25.364692,
          25.320038,
          25.380398,
          25.379783,
          25.337730999999998,
          25.36818,
          25.393239,
          25.337721,
          25.342445,
          25.362884,
          25.339072,
          25.354826,
          25.305389
         ]
        },
        {
         "line": {
          "color": "#56B4E9",
          "width": 5
         },
         "mode": "lines",
         "name": "B-spline",
         "type": "scatter3d",
         "x": [
          0.7103669719867342,
          0.5595852341606355,
          0.4124701347281329,
          0.26898422146710493,
          0.1290900421554311,
          -0.007249855429010202,
          -0.14007292350834002,
          -0.2694166143046792,
          -0.3953183800401492,
          -0.5178156729368707,
          -0.6369459452169653,
          -0.752746649102554,
          -0.8652552368157574,
          -0.9745091605786971,
          -1.080545872613494,
          -1.1834028251422695,
          -1.2831174703871442,
          -1.3797272605702395,
          -1.4732696479136769,
          -1.5637820846395765,
          -1.6513020229700603,
          -1.7358669151272488,
          -1.8175142133332645,
          -1.8962813698102265,
          -1.9722058367802568,
          -2.0453250664654767,
          -2.115676511088007,
          -2.1832976228699694,
          -2.248225854033484,
          -2.310498656800673,
          -2.370153483393657,
          -2.427227786034556,
          -2.481759016945493,
          -2.533784628348588,
          -2.5833420724659626,
          -2.6304688015197377,
          -2.675202267732034,
          -2.717579923324974,
          -2.757639220520677
         ],
         "y": [
          -2.5054219483020495,
          -2.3577365341263983,
          -2.215209390059938,
          -2.0776913087490088,
          -1.945033082839954,
          -1.8170855049791128,
          -1.6936993678128263,
          -1.5747254639874368,
          -1.4600145861492844,
          -1.3494175269447104,
          -1.2427850790200554,
          -1.1399680350216608,
          -1.0408171875958674,
          -0.9451833293890164,
          -0.8529172530474486,
          -0.7638697512175056,
          -0.6778916165455281,
          -0.594833641677857,
          -0.5145466192608334,
          -0.43688134194079814,
          -0.3616886023640927,
          -0.2888191931770579,
          -0.21812390702603446,
          -0.14945353655736401,
          -0.08265887441738717,
          -0.01759071325244521,
          0.04590015429112107,
          0.10796293556697087,
          0.16874683792876252,
          0.22840106873015537,
          0.28707483532480854,
          0.34491734506638055,
          0.4020778053085306,
          0.4587054234049177,
          0.5149494067092009,
          0.5709589625750391,
          0.6268832983560911,
          0.6828716214060161,
          0.7390731390784732
         ],
         "z": [
          25.27202011706084,
          25.263974330405443,
          25.257847905350264,
          25.253519196564785,
          25.250866558718503,
          25.24976834648088,
          25.250102914521406,
          25.25174861750957,
          25.25458381011484,
          25.2584868470067,
          25.26333608285464,
          25.269009872328112,
          25.275386570096632,
          25.282344530829654,
          25.289762109196666,
          25.29751765986717,
          25.30548953751062,
          25.3135560967965,
          25.321595692394308,
          25.329486678973502,
          25.337107411203576,
          25.34433624375401,
          25.35105153129428,
          25.357131628493878,
          25.362454890022267,
          25.36689967054894,
          25.370344324743378,
          25.372667207275057,
          25.373746672813454,
          25.37346107602806,
          25.371688771588346,
          25.3683081141638,
          25.363197458423898,
          25.356235159038125,
          25.347299570675958,
          25.336269048006876,
          25.323021945700365,
          25.307436618425903,
          25.28939142085297
         ]
        },
        {
         "line": {
          "color": "darkblue",
          "width": 2
         },
         "mode": "lines",
         "name": "Target path",
         "type": "scatter3d",
         "x": [
          0.8205030000000001,
          0.336214,
          0.503886,
          0.19963399999999998,
          0.37598400000000004,
          0.330403,
          0.040864,
          -0.49761099999999997,
          -0.33039,
          -0.656845,
          -0.451563,
          -0.874734,
          -0.800561,
          -0.955153,
          -0.780042,
          -1.5252569999999999,
          -1.2834809999999999,
          -0.976087,
          -1.132277,
          -1.196089,
          -1.279636,
          -1.342295,
          -1.5751600000000001,
          -1.6715240000000002,
          -1.618575,
          -1.518551,
          -1.860516,
          -1.9395240000000002,
          -1.7124549999999998,
          -2.107268,
          -2.354063,
          -1.9177799999999998,
          -2.4247970000000003,
          -2.6323090000000002,
          -2.162505,
          -2.4312970000000003,
          -2.713811,
          -2.544348,
          -2.743172,
          -2.530843
         ],
         "y": [
          -2.411717,
          -2.324052,
          -2.398963,
          -1.9706169999999998,
          -2.0570720000000002,
          -2.0877790000000003,
          -1.724948,
          -1.482812,
          -1.51811,
          -1.424193,
          -1.19121,
          -1.3568870000000002,
          -1.210277,
          -0.9953719999999999,
          -0.8418690000000001,
          -1.126564,
          -0.596366,
          -0.686964,
          -0.739081,
          -0.49819300000000005,
          -0.6585439999999999,
          -0.622726,
          -0.642591,
          -0.300579,
          -0.147777,
          -0.202014,
          -0.242619,
          -0.268788,
          0.06617100000000001,
          -0.253368,
          0.054749,
          0.018238,
          0.4119,
          0.434011,
          0.131929,
          0.202653,
          0.717294,
          0.605067,
          -0.07446599999999999,
          0.989081
         ],
         "z": [
          25.284648,
          25.262051,
          25.273007,
          25.225514,
          25.259651,
          25.285899,
          25.2515,
          25.238298999999998,
          25.237935,
          25.239426,
          25.219942,
          25.242994,
          25.231053,
          25.249914,
          25.283689000000003,
          25.359233,
          25.322798000000002,
          25.309267000000002,
          25.318679,
          25.339123999999998,
          25.32376,
          25.35107,
          25.342717999999998,
          25.342709,
          25.336976999999997,
          25.330196,
          25.357336,
          25.364692,
          25.320038,
          25.380398,
          25.379783,
          25.337730999999998,
          25.36818,
          25.393239,
          25.337721,
          25.342445,
          25.362884,
          25.339072,
          25.354826,
          25.305389
         ]
        },
        {
         "line": {
          "color": "#E69F00",
          "width": 5
         },
         "mode": "lines",
         "name": "Linear model",
         "type": "scatter3d",
         "x": [
          0.4890452556265015,
          -3.0166292275374595
         ],
         "y": [
          -2.2770933825253823,
          0.8837115881495372
         ],
         "z": [
          25.241856082854042,
          25.3796490877761
         ]
        }
       ],
       "layout": {
        "autosize": true,
        "margin": {
         "b": 10,
         "l": 10,
         "r": 20,
         "t": 10
        },
        "scene": {
         "aspectmode": "auto",
         "aspectratio": {
          "x": 1,
          "y": 1,
          "z": 1
         },
         "camera": {
          "center": {
           "x": 0,
           "y": 0,
           "z": 0
          },
          "eye": {
           "x": 1.4525551237767222,
           "y": 1.3361821140848074,
           "z": 0.8900567231305243
          },
          "projection": {
           "type": "perspective"
          },
          "up": {
           "x": 0,
           "y": 0,
           "z": 1
          }
         },
         "xaxis": {
          "title": {
           "text": "Major axis distance (m)"
          },
          "type": "linear"
         },
         "yaxis": {
          "title": {
           "text": "Minor axis distance (m)"
          },
          "type": "linear"
         },
         "zaxis": {
          "title": {
           "text": "Depth (m)"
          },
          "type": "linear"
         }
        },
        "showlegend": true,
        "template": {
         "data": {
          "bar": [
           {
            "error_x": {
             "color": "#2a3f5f"
            },
            "error_y": {
             "color": "#2a3f5f"
            },
            "marker": {
             "line": {
              "color": "#E5ECF6",
              "width": 0.5
             }
            },
            "type": "bar"
           }
          ],
          "barpolar": [
           {
            "marker": {
             "line": {
              "color": "#E5ECF6",
              "width": 0.5
             }
            },
            "type": "barpolar"
           }
          ],
          "carpet": [
           {
            "aaxis": {
             "endlinecolor": "#2a3f5f",
             "gridcolor": "white",
             "linecolor": "white",
             "minorgridcolor": "white",
             "startlinecolor": "#2a3f5f"
            },
            "baxis": {
             "endlinecolor": "#2a3f5f",
             "gridcolor": "white",
             "linecolor": "white",
             "minorgridcolor": "white",
             "startlinecolor": "#2a3f5f"
            },
            "type": "carpet"
           }
          ],
          "choropleth": [
           {
            "colorbar": {
             "outlinewidth": 0,
             "ticks": ""
            },
            "type": "choropleth"
           }
          ],
          "contour": [
           {
            "colorbar": {
             "outlinewidth": 0,
             "ticks": ""
            },
            "colorscale": [
             [
              0,
              "#0d0887"
             ],
             [
              0.1111111111111111,
              "#46039f"
             ],
             [
              0.2222222222222222,
              "#7201a8"
             ],
             [
              0.3333333333333333,
              "#9c179e"
             ],
             [
              0.4444444444444444,
              "#bd3786"
             ],
             [
              0.5555555555555556,
              "#d8576b"
             ],
             [
              0.6666666666666666,
              "#ed7953"
             ],
             [
              0.7777777777777778,
              "#fb9f3a"
             ],
             [
              0.8888888888888888,
              "#fdca26"
             ],
             [
              1,
              "#f0f921"
             ]
            ],
            "type": "contour"
           }
          ],
          "contourcarpet": [
           {
            "colorbar": {
             "outlinewidth": 0,
             "ticks": ""
            },
            "type": "contourcarpet"
           }
          ],
          "heatmap": [
           {
            "colorbar": {
             "outlinewidth": 0,
             "ticks": ""
            },
            "colorscale": [
             [
              0,
              "#0d0887"
             ],
             [
              0.1111111111111111,
              "#46039f"
             ],
             [
              0.2222222222222222,
              "#7201a8"
             ],
             [
              0.3333333333333333,
              "#9c179e"
             ],
             [
              0.4444444444444444,
              "#bd3786"
             ],
             [
              0.5555555555555556,
              "#d8576b"
             ],
             [
              0.6666666666666666,
              "#ed7953"
             ],
             [
              0.7777777777777778,
              "#fb9f3a"
             ],
             [
              0.8888888888888888,
              "#fdca26"
             ],
             [
              1,
              "#f0f921"
             ]
            ],
            "type": "heatmap"
           }
          ],
          "heatmapgl": [
           {
            "colorbar": {
             "outlinewidth": 0,
             "ticks": ""
            },
            "colorscale": [
             [
              0,
              "#0d0887"
             ],
             [
              0.1111111111111111,
              "#46039f"
             ],
             [
              0.2222222222222222,
              "#7201a8"
             ],
             [
              0.3333333333333333,
              "#9c179e"
             ],
             [
              0.4444444444444444,
              "#bd3786"
             ],
             [
              0.5555555555555556,
              "#d8576b"
             ],
             [
              0.6666666666666666,
              "#ed7953"
             ],
             [
              0.7777777777777778,
              "#fb9f3a"
             ],
             [
              0.8888888888888888,
              "#fdca26"
             ],
             [
              1,
              "#f0f921"
             ]
            ],
            "type": "heatmapgl"
           }
          ],
          "histogram": [
           {
            "marker": {
             "colorbar": {
              "outlinewidth": 0,
              "ticks": ""
             }
            },
            "type": "histogram"
           }
          ],
          "histogram2d": [
           {
            "colorbar": {
             "outlinewidth": 0,
             "ticks": ""
            },
            "colorscale": [
             [
              0,
              "#0d0887"
             ],
             [
              0.1111111111111111,
              "#46039f"
             ],
             [
              0.2222222222222222,
              "#7201a8"
             ],
             [
              0.3333333333333333,
              "#9c179e"
             ],
             [
              0.4444444444444444,
              "#bd3786"
             ],
             [
              0.5555555555555556,
              "#d8576b"
             ],
             [
              0.6666666666666666,
              "#ed7953"
             ],
             [
              0.7777777777777778,
              "#fb9f3a"
             ],
             [
              0.8888888888888888,
              "#fdca26"
             ],
             [
              1,
              "#f0f921"
             ]
            ],
            "type": "histogram2d"
           }
          ],
          "histogram2dcontour": [
           {
            "colorbar": {
             "outlinewidth": 0,
             "ticks": ""
            },
            "colorscale": [
             [
              0,
              "#0d0887"
             ],
             [
              0.1111111111111111,
              "#46039f"
             ],
             [
              0.2222222222222222,
              "#7201a8"
             ],
             [
              0.3333333333333333,
              "#9c179e"
             ],
             [
              0.4444444444444444,
              "#bd3786"
             ],
             [
              0.5555555555555556,
              "#d8576b"
             ],
             [
              0.6666666666666666,
              "#ed7953"
             ],
             [
              0.7777777777777778,
              "#fb9f3a"
             ],
             [
              0.8888888888888888,
              "#fdca26"
             ],
             [
              1,
              "#f0f921"
             ]
            ],
            "type": "histogram2dcontour"
           }
          ],
          "mesh3d": [
           {
            "colorbar": {
             "outlinewidth": 0,
             "ticks": ""
            },
            "type": "mesh3d"
           }
          ],
          "parcoords": [
           {
            "line": {
             "colorbar": {
              "outlinewidth": 0,
              "ticks": ""
             }
            },
            "type": "parcoords"
           }
          ],
          "pie": [
           {
            "automargin": true,
            "type": "pie"
           }
          ],
          "scatter": [
           {
            "marker": {
             "colorbar": {
              "outlinewidth": 0,
              "ticks": ""
             }
            },
            "type": "scatter"
           }
          ],
          "scatter3d": [
           {
            "line": {
             "colorbar": {
              "outlinewidth": 0,
              "ticks": ""
             }
            },
            "marker": {
             "colorbar": {
              "outlinewidth": 0,
              "ticks": ""
             }
            },
            "type": "scatter3d"
           }
          ],
          "scattercarpet": [
           {
            "marker": {
             "colorbar": {
              "outlinewidth": 0,
              "ticks": ""
             }
            },
            "type": "scattercarpet"
           }
          ],
          "scattergeo": [
           {
            "marker": {
             "colorbar": {
              "outlinewidth": 0,
              "ticks": ""
             }
            },
            "type": "scattergeo"
           }
          ],
          "scattergl": [
           {
            "marker": {
             "colorbar": {
              "outlinewidth": 0,
              "ticks": ""
             }
            },
            "type": "scattergl"
           }
          ],
          "scattermapbox": [
           {
            "marker": {
             "colorbar": {
              "outlinewidth": 0,
              "ticks": ""
             }
            },
            "type": "scattermapbox"
           }
          ],
          "scatterpolar": [
           {
            "marker": {
             "colorbar": {
              "outlinewidth": 0,
              "ticks": ""
             }
            },
            "type": "scatterpolar"
           }
          ],
          "scatterpolargl": [
           {
            "marker": {
             "colorbar": {
              "outlinewidth": 0,
              "ticks": ""
             }
            },
            "type": "scatterpolargl"
           }
          ],
          "scatterternary": [
           {
            "marker": {
             "colorbar": {
              "outlinewidth": 0,
              "ticks": ""
             }
            },
            "type": "scatterternary"
           }
          ],
          "surface": [
           {
            "colorbar": {
             "outlinewidth": 0,
             "ticks": ""
            },
            "colorscale": [
             [
              0,
              "#0d0887"
             ],
             [
              0.1111111111111111,
              "#46039f"
             ],
             [
              0.2222222222222222,
              "#7201a8"
             ],
             [
              0.3333333333333333,
              "#9c179e"
             ],
             [
              0.4444444444444444,
              "#bd3786"
             ],
             [
              0.5555555555555556,
              "#d8576b"
             ],
             [
              0.6666666666666666,
              "#ed7953"
             ],
             [
              0.7777777777777778,
              "#fb9f3a"
             ],
             [
              0.8888888888888888,
              "#fdca26"
             ],
             [
              1,
              "#f0f921"
             ]
            ],
            "type": "surface"
           }
          ],
          "table": [
           {
            "cells": {
             "fill": {
              "color": "#EBF0F8"
             },
             "line": {
              "color": "white"
             }
            },
            "header": {
             "fill": {
              "color": "#C8D4E3"
             },
             "line": {
              "color": "white"
             }
            },
            "type": "table"
           }
          ]
         },
         "layout": {
          "annotationdefaults": {
           "arrowcolor": "#2a3f5f",
           "arrowhead": 0,
           "arrowwidth": 1
          },
          "autotypenumbers": "strict",
          "coloraxis": {
           "colorbar": {
            "outlinewidth": 0,
            "ticks": ""
           }
          },
          "colorscale": {
           "diverging": [
            [
             0,
             "#8e0152"
            ],
            [
             0.1,
             "#c51b7d"
            ],
            [
             0.2,
             "#de77ae"
            ],
            [
             0.3,
             "#f1b6da"
            ],
            [
             0.4,
             "#fde0ef"
            ],
            [
             0.5,
             "#f7f7f7"
            ],
            [
             0.6,
             "#e6f5d0"
            ],
            [
             0.7,
             "#b8e186"
            ],
            [
             0.8,
             "#7fbc41"
            ],
            [
             0.9,
             "#4d9221"
            ],
            [
             1,
             "#276419"
            ]
           ],
           "sequential": [
            [
             0,
             "#0d0887"
            ],
            [
             0.1111111111111111,
             "#46039f"
            ],
            [
             0.2222222222222222,
             "#7201a8"
            ],
            [
             0.3333333333333333,
             "#9c179e"
            ],
            [
             0.4444444444444444,
             "#bd3786"
            ],
            [
             0.5555555555555556,
             "#d8576b"
            ],
            [
             0.6666666666666666,
             "#ed7953"
            ],
            [
             0.7777777777777778,
             "#fb9f3a"
            ],
            [
             0.8888888888888888,
             "#fdca26"
            ],
            [
             1,
             "#f0f921"
            ]
           ],
           "sequentialminus": [
            [
             0,
             "#0d0887"
            ],
            [
             0.1111111111111111,
             "#46039f"
            ],
            [
             0.2222222222222222,
             "#7201a8"
            ],
            [
             0.3333333333333333,
             "#9c179e"
            ],
            [
             0.4444444444444444,
             "#bd3786"
            ],
            [
             0.5555555555555556,
             "#d8576b"
            ],
            [
             0.6666666666666666,
             "#ed7953"
            ],
            [
             0.7777777777777778,
             "#fb9f3a"
            ],
            [
             0.8888888888888888,
             "#fdca26"
            ],
            [
             1,
             "#f0f921"
            ]
           ]
          },
          "colorway": [
           "#636efa",
           "#EF553B",
           "#00cc96",
           "#ab63fa",
           "#FFA15A",
           "#19d3f3",
           "#FF6692",
           "#B6E880",
           "#FF97FF",
           "#FECB52"
          ],
          "font": {
           "color": "#2a3f5f"
          },
          "geo": {
           "bgcolor": "white",
           "lakecolor": "white",
           "landcolor": "#E5ECF6",
           "showlakes": true,
           "showland": true,
           "subunitcolor": "white"
          },
          "hoverlabel": {
           "align": "left"
          },
          "hovermode": "closest",
          "mapbox": {
           "style": "light"
          },
          "paper_bgcolor": "white",
          "plot_bgcolor": "#E5ECF6",
          "polar": {
           "angularaxis": {
            "gridcolor": "white",
            "linecolor": "white",
            "ticks": ""
           },
           "bgcolor": "#E5ECF6",
           "radialaxis": {
            "gridcolor": "white",
            "linecolor": "white",
            "ticks": ""
           }
          },
          "scene": {
           "xaxis": {
            "backgroundcolor": "#E5ECF6",
            "gridcolor": "white",
            "gridwidth": 2,
            "linecolor": "white",
            "showbackground": true,
            "ticks": "",
            "zerolinecolor": "white"
           },
           "yaxis": {
            "backgroundcolor": "#E5ECF6",
            "gridcolor": "white",
            "gridwidth": 2,
            "linecolor": "white",
            "showbackground": true,
            "ticks": "",
            "zerolinecolor": "white"
           },
           "zaxis": {
            "backgroundcolor": "#E5ECF6",
            "gridcolor": "white",
            "gridwidth": 2,
            "linecolor": "white",
            "showbackground": true,
            "ticks": "",
            "zerolinecolor": "white"
           }
          },
          "shapedefaults": {
           "line": {
            "color": "#2a3f5f"
           }
          },
          "ternary": {
           "aaxis": {
            "gridcolor": "white",
            "linecolor": "white",
            "ticks": ""
           },
           "baxis": {
            "gridcolor": "white",
            "linecolor": "white",
            "ticks": ""
           },
           "bgcolor": "#E5ECF6",
           "caxis": {
            "gridcolor": "white",
            "linecolor": "white",
            "ticks": ""
           }
          },
          "title": {
           "x": 0.05
          },
          "xaxis": {
           "automargin": true,
           "gridcolor": "white",
           "linecolor": "white",
           "ticks": "",
           "title": {
            "standoff": 15
           },
           "zerolinecolor": "white",
           "zerolinewidth": 2
          },
          "yaxis": {
           "automargin": true,
           "gridcolor": "white",
           "linecolor": "white",
           "ticks": "",
           "title": {
            "standoff": 15
           },
           "zerolinecolor": "white",
           "zerolinewidth": 2
          }
         }
        }
       }
      },
      "text/html": [
       "<div>                            <div id=\"977abc7c-d627-41b8-879b-5a57f9579639\" class=\"plotly-graph-div\" style=\"height:525px; width:700px;\"></div>            <script type=\"text/javascript\">                require([\"plotly\"], function(Plotly) {                    window.PLOTLYENV=window.PLOTLYENV || {};                                    if (document.getElementById(\"977abc7c-d627-41b8-879b-5a57f9579639\")) {                    Plotly.newPlot(                        \"977abc7c-d627-41b8-879b-5a57f9579639\",                        [{\"marker\": {\"color\": \"black\", \"colorbar\": {\"thickness\": 30, \"title\": {\"text\": \"TS\"}}, \"colorscale\": [[0.0, \"#0d0887\"], [0.1111111111111111, \"#46039f\"], [0.2222222222222222, \"#7201a8\"], [0.3333333333333333, \"#9c179e\"], [0.4444444444444444, \"#bd3786\"], [0.5555555555555556, \"#d8576b\"], [0.6666666666666666, \"#ed7953\"], [0.7777777777777778, \"#fb9f3a\"], [0.8888888888888888, \"#fdca26\"], [1.0, \"#f0f921\"]], \"opacity\": 0.8, \"showscale\": false, \"size\": 6}, \"mode\": \"markers\", \"name\": \"Targets\", \"type\": \"scatter3d\", \"x\": [0.8205030000000001, 0.336214, 0.503886, 0.19963399999999998, 0.37598400000000004, 0.330403, 0.040864, -0.49761099999999997, -0.33039, -0.656845, -0.451563, -0.874734, -0.800561, -0.955153, -0.780042, -1.5252569999999999, -1.2834809999999999, -0.976087, -1.132277, -1.196089, -1.279636, -1.342295, -1.5751600000000001, -1.6715240000000002, -1.618575, -1.518551, -1.860516, -1.9395240000000002, -1.7124549999999998, -2.107268, -2.354063, -1.9177799999999998, -2.4247970000000003, -2.6323090000000002, -2.162505, -2.4312970000000003, -2.713811, -2.544348, -2.743172, -2.530843], \"y\": [-2.411717, -2.324052, -2.398963, -1.9706169999999998, -2.0570720000000002, -2.0877790000000003, -1.724948, -1.482812, -1.51811, -1.424193, -1.19121, -1.3568870000000002, -1.210277, -0.9953719999999999, -0.8418690000000001, -1.126564, -0.596366, -0.686964, -0.739081, -0.49819300000000005, -0.6585439999999999, -0.622726, -0.642591, -0.300579, -0.147777, -0.202014, -0.242619, -0.268788, 0.06617100000000001, -0.253368, 0.054749, 0.018238, 0.4119, 0.434011, 0.131929, 0.202653, 0.717294, 0.605067, -0.07446599999999999, 0.989081], \"z\": [25.284648, 25.262051, 25.273007, 25.225514, 25.259651, 25.285899, 25.2515, 25.238298999999998, 25.237935, 25.239426, 25.219942, 25.242994, 25.231053, 25.249914, 25.283689000000003, 25.359233, 25.322798000000002, 25.309267000000002, 25.318679, 25.339123999999998, 25.32376, 25.35107, 25.342717999999998, 25.342709, 25.336976999999997, 25.330196, 25.357336, 25.364692, 25.320038, 25.380398, 25.379783, 25.337730999999998, 25.36818, 25.393239, 25.337721, 25.342445, 25.362884, 25.339072, 25.354826, 25.305389]}, {\"line\": {\"color\": \"#56B4E9\", \"width\": 5}, \"mode\": \"lines\", \"name\": \"B-spline\", \"type\": \"scatter3d\", \"x\": [0.7103669719867342, 0.5595852341606355, 0.4124701347281329, 0.26898422146710493, 0.1290900421554311, -0.007249855429010202, -0.14007292350834002, -0.2694166143046792, -0.3953183800401492, -0.5178156729368707, -0.6369459452169653, -0.752746649102554, -0.8652552368157574, -0.9745091605786971, -1.080545872613494, -1.1834028251422695, -1.2831174703871442, -1.3797272605702395, -1.4732696479136769, -1.5637820846395765, -1.6513020229700603, -1.7358669151272488, -1.8175142133332645, -1.8962813698102265, -1.9722058367802568, -2.0453250664654767, -2.115676511088007, -2.1832976228699694, -2.248225854033484, -2.310498656800673, -2.370153483393657, -2.427227786034556, -2.481759016945493, -2.533784628348588, -2.5833420724659626, -2.6304688015197377, -2.675202267732034, -2.717579923324974, -2.757639220520677], \"y\": [-2.5054219483020495, -2.3577365341263983, -2.215209390059938, -2.0776913087490088, -1.945033082839954, -1.8170855049791128, -1.6936993678128263, -1.5747254639874368, -1.4600145861492844, -1.3494175269447104, -1.2427850790200554, -1.1399680350216608, -1.0408171875958674, -0.9451833293890164, -0.8529172530474486, -0.7638697512175056, -0.6778916165455281, -0.594833641677857, -0.5145466192608334, -0.43688134194079814, -0.3616886023640927, -0.2888191931770579, -0.21812390702603446, -0.14945353655736401, -0.08265887441738717, -0.01759071325244521, 0.04590015429112107, 0.10796293556697087, 0.16874683792876252, 0.22840106873015537, 0.28707483532480854, 0.34491734506638055, 0.4020778053085306, 0.4587054234049177, 0.5149494067092009, 0.5709589625750391, 0.6268832983560911, 0.6828716214060161, 0.7390731390784732], \"z\": [25.27202011706084, 25.263974330405443, 25.257847905350264, 25.253519196564785, 25.250866558718503, 25.24976834648088, 25.250102914521406, 25.25174861750957, 25.25458381011484, 25.2584868470067, 25.26333608285464, 25.269009872328112, 25.275386570096632, 25.282344530829654, 25.289762109196666, 25.29751765986717, 25.30548953751062, 25.3135560967965, 25.321595692394308, 25.329486678973502, 25.337107411203576, 25.34433624375401, 25.35105153129428, 25.357131628493878, 25.362454890022267, 25.36689967054894, 25.370344324743378, 25.372667207275057, 25.373746672813454, 25.37346107602806, 25.371688771588346, 25.3683081141638, 25.363197458423898, 25.356235159038125, 25.347299570675958, 25.336269048006876, 25.323021945700365, 25.307436618425903, 25.28939142085297]}, {\"line\": {\"color\": \"darkblue\", \"width\": 2}, \"mode\": \"lines\", \"name\": \"Target path\", \"type\": \"scatter3d\", \"x\": [0.8205030000000001, 0.336214, 0.503886, 0.19963399999999998, 0.37598400000000004, 0.330403, 0.040864, -0.49761099999999997, -0.33039, -0.656845, -0.451563, -0.874734, -0.800561, -0.955153, -0.780042, -1.5252569999999999, -1.2834809999999999, -0.976087, -1.132277, -1.196089, -1.279636, -1.342295, -1.5751600000000001, -1.6715240000000002, -1.618575, -1.518551, -1.860516, -1.9395240000000002, -1.7124549999999998, -2.107268, -2.354063, -1.9177799999999998, -2.4247970000000003, -2.6323090000000002, -2.162505, -2.4312970000000003, -2.713811, -2.544348, -2.743172, -2.530843], \"y\": [-2.411717, -2.324052, -2.398963, -1.9706169999999998, -2.0570720000000002, -2.0877790000000003, -1.724948, -1.482812, -1.51811, -1.424193, -1.19121, -1.3568870000000002, -1.210277, -0.9953719999999999, -0.8418690000000001, -1.126564, -0.596366, -0.686964, -0.739081, -0.49819300000000005, -0.6585439999999999, -0.622726, -0.642591, -0.300579, -0.147777, -0.202014, -0.242619, -0.268788, 0.06617100000000001, -0.253368, 0.054749, 0.018238, 0.4119, 0.434011, 0.131929, 0.202653, 0.717294, 0.605067, -0.07446599999999999, 0.989081], \"z\": [25.284648, 25.262051, 25.273007, 25.225514, 25.259651, 25.285899, 25.2515, 25.238298999999998, 25.237935, 25.239426, 25.219942, 25.242994, 25.231053, 25.249914, 25.283689000000003, 25.359233, 25.322798000000002, 25.309267000000002, 25.318679, 25.339123999999998, 25.32376, 25.35107, 25.342717999999998, 25.342709, 25.336976999999997, 25.330196, 25.357336, 25.364692, 25.320038, 25.380398, 25.379783, 25.337730999999998, 25.36818, 25.393239, 25.337721, 25.342445, 25.362884, 25.339072, 25.354826, 25.305389]}, {\"line\": {\"color\": \"#E69F00\", \"width\": 5}, \"mode\": \"lines\", \"name\": \"Linear model\", \"type\": \"scatter3d\", \"x\": [0.4890452556265015, -3.0166292275374595], \"y\": [-2.2770933825253823, 0.8837115881495372], \"z\": [25.241856082854042, 25.3796490877761]}],                        {\"margin\": {\"b\": 10, \"l\": 10, \"r\": 20, \"t\": 10}, \"scene\": {\"xaxis\": {\"title\": {\"text\": \"Major axis distance (m)\"}}, \"yaxis\": {\"title\": {\"text\": \"Minor axis distance (m)\"}}, \"zaxis\": {\"title\": {\"text\": \"Depth (m)\"}}}, \"showlegend\": true, \"template\": {\"data\": {\"bar\": [{\"error_x\": {\"color\": \"#2a3f5f\"}, \"error_y\": {\"color\": \"#2a3f5f\"}, \"marker\": {\"line\": {\"color\": \"#E5ECF6\", \"width\": 0.5}}, \"type\": \"bar\"}], \"barpolar\": [{\"marker\": {\"line\": {\"color\": \"#E5ECF6\", \"width\": 0.5}}, \"type\": \"barpolar\"}], \"carpet\": [{\"aaxis\": {\"endlinecolor\": \"#2a3f5f\", \"gridcolor\": \"white\", \"linecolor\": \"white\", \"minorgridcolor\": \"white\", \"startlinecolor\": \"#2a3f5f\"}, \"baxis\": {\"endlinecolor\": \"#2a3f5f\", \"gridcolor\": \"white\", \"linecolor\": \"white\", \"minorgridcolor\": \"white\", \"startlinecolor\": \"#2a3f5f\"}, \"type\": \"carpet\"}], \"choropleth\": [{\"colorbar\": {\"outlinewidth\": 0, \"ticks\": \"\"}, \"type\": \"choropleth\"}], \"contour\": [{\"colorbar\": {\"outlinewidth\": 0, \"ticks\": \"\"}, \"colorscale\": [[0.0, \"#0d0887\"], [0.1111111111111111, \"#46039f\"], [0.2222222222222222, \"#7201a8\"], [0.3333333333333333, \"#9c179e\"], [0.4444444444444444, \"#bd3786\"], [0.5555555555555556, \"#d8576b\"], [0.6666666666666666, \"#ed7953\"], [0.7777777777777778, \"#fb9f3a\"], [0.8888888888888888, \"#fdca26\"], [1.0, \"#f0f921\"]], \"type\": \"contour\"}], \"contourcarpet\": [{\"colorbar\": {\"outlinewidth\": 0, \"ticks\": \"\"}, \"type\": \"contourcarpet\"}], \"heatmap\": [{\"colorbar\": {\"outlinewidth\": 0, \"ticks\": \"\"}, \"colorscale\": [[0.0, \"#0d0887\"], [0.1111111111111111, \"#46039f\"], [0.2222222222222222, \"#7201a8\"], [0.3333333333333333, \"#9c179e\"], [0.4444444444444444, \"#bd3786\"], [0.5555555555555556, \"#d8576b\"], [0.6666666666666666, \"#ed7953\"], [0.7777777777777778, \"#fb9f3a\"], [0.8888888888888888, \"#fdca26\"], [1.0, \"#f0f921\"]], \"type\": \"heatmap\"}], \"heatmapgl\": [{\"colorbar\": {\"outlinewidth\": 0, \"ticks\": \"\"}, \"colorscale\": [[0.0, \"#0d0887\"], [0.1111111111111111, \"#46039f\"], [0.2222222222222222, \"#7201a8\"], [0.3333333333333333, \"#9c179e\"], [0.4444444444444444, \"#bd3786\"], [0.5555555555555556, \"#d8576b\"], [0.6666666666666666, \"#ed7953\"], [0.7777777777777778, \"#fb9f3a\"], [0.8888888888888888, \"#fdca26\"], [1.0, \"#f0f921\"]], \"type\": \"heatmapgl\"}], \"histogram\": [{\"marker\": {\"colorbar\": {\"outlinewidth\": 0, \"ticks\": \"\"}}, \"type\": \"histogram\"}], \"histogram2d\": [{\"colorbar\": {\"outlinewidth\": 0, \"ticks\": \"\"}, \"colorscale\": [[0.0, \"#0d0887\"], [0.1111111111111111, \"#46039f\"], [0.2222222222222222, \"#7201a8\"], [0.3333333333333333, \"#9c179e\"], [0.4444444444444444, \"#bd3786\"], [0.5555555555555556, \"#d8576b\"], [0.6666666666666666, \"#ed7953\"], [0.7777777777777778, \"#fb9f3a\"], [0.8888888888888888, \"#fdca26\"], [1.0, \"#f0f921\"]], \"type\": \"histogram2d\"}], \"histogram2dcontour\": [{\"colorbar\": {\"outlinewidth\": 0, \"ticks\": \"\"}, \"colorscale\": [[0.0, \"#0d0887\"], [0.1111111111111111, \"#46039f\"], [0.2222222222222222, \"#7201a8\"], [0.3333333333333333, \"#9c179e\"], [0.4444444444444444, \"#bd3786\"], [0.5555555555555556, \"#d8576b\"], [0.6666666666666666, \"#ed7953\"], [0.7777777777777778, \"#fb9f3a\"], [0.8888888888888888, \"#fdca26\"], [1.0, \"#f0f921\"]], \"type\": \"histogram2dcontour\"}], \"mesh3d\": [{\"colorbar\": {\"outlinewidth\": 0, \"ticks\": \"\"}, \"type\": \"mesh3d\"}], \"parcoords\": [{\"line\": {\"colorbar\": {\"outlinewidth\": 0, \"ticks\": \"\"}}, \"type\": \"parcoords\"}], \"pie\": [{\"automargin\": true, \"type\": \"pie\"}], \"scatter\": [{\"marker\": {\"colorbar\": {\"outlinewidth\": 0, \"ticks\": \"\"}}, \"type\": \"scatter\"}], \"scatter3d\": [{\"line\": {\"colorbar\": {\"outlinewidth\": 0, \"ticks\": \"\"}}, \"marker\": {\"colorbar\": {\"outlinewidth\": 0, \"ticks\": \"\"}}, \"type\": \"scatter3d\"}], \"scattercarpet\": [{\"marker\": {\"colorbar\": {\"outlinewidth\": 0, \"ticks\": \"\"}}, \"type\": \"scattercarpet\"}], \"scattergeo\": [{\"marker\": {\"colorbar\": {\"outlinewidth\": 0, \"ticks\": \"\"}}, \"type\": \"scattergeo\"}], \"scattergl\": [{\"marker\": {\"colorbar\": {\"outlinewidth\": 0, \"ticks\": \"\"}}, \"type\": \"scattergl\"}], \"scattermapbox\": [{\"marker\": {\"colorbar\": {\"outlinewidth\": 0, \"ticks\": \"\"}}, \"type\": \"scattermapbox\"}], \"scatterpolar\": [{\"marker\": {\"colorbar\": {\"outlinewidth\": 0, \"ticks\": \"\"}}, \"type\": \"scatterpolar\"}], \"scatterpolargl\": [{\"marker\": {\"colorbar\": {\"outlinewidth\": 0, \"ticks\": \"\"}}, \"type\": \"scatterpolargl\"}], \"scatterternary\": [{\"marker\": {\"colorbar\": {\"outlinewidth\": 0, \"ticks\": \"\"}}, \"type\": \"scatterternary\"}], \"surface\": [{\"colorbar\": {\"outlinewidth\": 0, \"ticks\": \"\"}, \"colorscale\": [[0.0, \"#0d0887\"], [0.1111111111111111, \"#46039f\"], [0.2222222222222222, \"#7201a8\"], [0.3333333333333333, \"#9c179e\"], [0.4444444444444444, \"#bd3786\"], [0.5555555555555556, \"#d8576b\"], [0.6666666666666666, \"#ed7953\"], [0.7777777777777778, \"#fb9f3a\"], [0.8888888888888888, \"#fdca26\"], [1.0, \"#f0f921\"]], \"type\": \"surface\"}], \"table\": [{\"cells\": {\"fill\": {\"color\": \"#EBF0F8\"}, \"line\": {\"color\": \"white\"}}, \"header\": {\"fill\": {\"color\": \"#C8D4E3\"}, \"line\": {\"color\": \"white\"}}, \"type\": \"table\"}]}, \"layout\": {\"annotationdefaults\": {\"arrowcolor\": \"#2a3f5f\", \"arrowhead\": 0, \"arrowwidth\": 1}, \"autotypenumbers\": \"strict\", \"coloraxis\": {\"colorbar\": {\"outlinewidth\": 0, \"ticks\": \"\"}}, \"colorscale\": {\"diverging\": [[0, \"#8e0152\"], [0.1, \"#c51b7d\"], [0.2, \"#de77ae\"], [0.3, \"#f1b6da\"], [0.4, \"#fde0ef\"], [0.5, \"#f7f7f7\"], [0.6, \"#e6f5d0\"], [0.7, \"#b8e186\"], [0.8, \"#7fbc41\"], [0.9, \"#4d9221\"], [1, \"#276419\"]], \"sequential\": [[0.0, \"#0d0887\"], [0.1111111111111111, \"#46039f\"], [0.2222222222222222, \"#7201a8\"], [0.3333333333333333, \"#9c179e\"], [0.4444444444444444, \"#bd3786\"], [0.5555555555555556, \"#d8576b\"], [0.6666666666666666, \"#ed7953\"], [0.7777777777777778, \"#fb9f3a\"], [0.8888888888888888, \"#fdca26\"], [1.0, \"#f0f921\"]], \"sequentialminus\": [[0.0, \"#0d0887\"], [0.1111111111111111, \"#46039f\"], [0.2222222222222222, \"#7201a8\"], [0.3333333333333333, \"#9c179e\"], [0.4444444444444444, \"#bd3786\"], [0.5555555555555556, \"#d8576b\"], [0.6666666666666666, \"#ed7953\"], [0.7777777777777778, \"#fb9f3a\"], [0.8888888888888888, \"#fdca26\"], [1.0, \"#f0f921\"]]}, \"colorway\": [\"#636efa\", \"#EF553B\", \"#00cc96\", \"#ab63fa\", \"#FFA15A\", \"#19d3f3\", \"#FF6692\", \"#B6E880\", \"#FF97FF\", \"#FECB52\"], \"font\": {\"color\": \"#2a3f5f\"}, \"geo\": {\"bgcolor\": \"white\", \"lakecolor\": \"white\", \"landcolor\": \"#E5ECF6\", \"showlakes\": true, \"showland\": true, \"subunitcolor\": \"white\"}, \"hoverlabel\": {\"align\": \"left\"}, \"hovermode\": \"closest\", \"mapbox\": {\"style\": \"light\"}, \"paper_bgcolor\": \"white\", \"plot_bgcolor\": \"#E5ECF6\", \"polar\": {\"angularaxis\": {\"gridcolor\": \"white\", \"linecolor\": \"white\", \"ticks\": \"\"}, \"bgcolor\": \"#E5ECF6\", \"radialaxis\": {\"gridcolor\": \"white\", \"linecolor\": \"white\", \"ticks\": \"\"}}, \"scene\": {\"xaxis\": {\"backgroundcolor\": \"#E5ECF6\", \"gridcolor\": \"white\", \"gridwidth\": 2, \"linecolor\": \"white\", \"showbackground\": true, \"ticks\": \"\", \"zerolinecolor\": \"white\"}, \"yaxis\": {\"backgroundcolor\": \"#E5ECF6\", \"gridcolor\": \"white\", \"gridwidth\": 2, \"linecolor\": \"white\", \"showbackground\": true, \"ticks\": \"\", \"zerolinecolor\": \"white\"}, \"zaxis\": {\"backgroundcolor\": \"#E5ECF6\", \"gridcolor\": \"white\", \"gridwidth\": 2, \"linecolor\": \"white\", \"showbackground\": true, \"ticks\": \"\", \"zerolinecolor\": \"white\"}}, \"shapedefaults\": {\"line\": {\"color\": \"#2a3f5f\"}}, \"ternary\": {\"aaxis\": {\"gridcolor\": \"white\", \"linecolor\": \"white\", \"ticks\": \"\"}, \"baxis\": {\"gridcolor\": \"white\", \"linecolor\": \"white\", \"ticks\": \"\"}, \"bgcolor\": \"#E5ECF6\", \"caxis\": {\"gridcolor\": \"white\", \"linecolor\": \"white\", \"ticks\": \"\"}}, \"title\": {\"x\": 0.05}, \"xaxis\": {\"automargin\": true, \"gridcolor\": \"white\", \"linecolor\": \"white\", \"ticks\": \"\", \"title\": {\"standoff\": 15}, \"zerolinecolor\": \"white\", \"zerolinewidth\": 2}, \"yaxis\": {\"automargin\": true, \"gridcolor\": \"white\", \"linecolor\": \"white\", \"ticks\": \"\", \"title\": {\"standoff\": 15}, \"zerolinecolor\": \"white\", \"zerolinewidth\": 2}}}, \"width\": 700},                        {\"responsive\": true}                    ).then(function(){\n",
       "                            \n",
       "var gd = document.getElementById('977abc7c-d627-41b8-879b-5a57f9579639');\n",
       "var x = new MutationObserver(function (mutations, observer) {{\n",
       "        var display = window.getComputedStyle(gd).display;\n",
       "        if (!display || display === 'none') {{\n",
       "            console.log([gd, 'removed!']);\n",
       "            Plotly.purge(gd);\n",
       "            observer.disconnect();\n",
       "        }}\n",
       "}});\n",
       "\n",
       "// Listen for the removal of the full notebook cells\n",
       "var notebookContainer = gd.closest('#notebook-container');\n",
       "if (notebookContainer) {{\n",
       "    x.observe(notebookContainer, {childList: true});\n",
       "}}\n",
       "\n",
       "// Listen for the clearing of the current output cell\n",
       "var outputEl = gd.closest('.output');\n",
       "if (outputEl) {{\n",
       "    x.observe(outputEl, {childList: true});\n",
       "}}\n",
       "\n",
       "                        })                };                });            </script>        </div>"
      ]
     },
     "metadata": {},
     "output_type": "display_data"
    }
   ],
   "source": [
    "# FOR PRESENTATION ONLY\n",
    "#from mooringParams import paramsDAFT1 as processParams1 # Each mooring has a specific params file with \n",
    "dfR, dfT = readExports(processParams1)\n",
    "dfR2 = dfR[(dfR.Date_S > 20180715)&(dfR.Date_S < 20180730)&(dfR.Num_targets > 30)]\n",
    "i = 215 #214 173, 196\n",
    "#dfT['Target_true_depth'] = 60-dfT.Target_true_depth\n",
    "trackPlot(dfT,dfR2.iloc[i].Process_ID,dfR2.iloc[i].Region_ID,plotElements =['targets','track_smoothed','track','track_linear'])"
   ]
  },
  {
   "cell_type": "code",
   "execution_count": null,
   "metadata": {},
   "outputs": [],
   "source": [
    "from mooringParams import paramsDAFT1 as processParams1 # Each mooring has a specific params file with \n",
    "dfR, dfT = readExports(processParams1)\n",
    "i = 1\n",
    "trackPlot(dfT,dfR2.iloc[i].Process_ID,dfR2.iloc[i].Region_ID)"
   ]
  },
  {
   "cell_type": "markdown",
   "metadata": {},
   "source": [
    "# Assessing Echoview"
   ]
  },
  {
   "cell_type": "code",
   "execution_count": 5,
   "metadata": {},
   "outputs": [],
   "source": [
    "from mooringParams import paramsDAFT1 as processParams1 # Each mooring has a specific params file with \n",
    "from mooringParams import paramsDAFT2 as processParams2 # Each mooring has a specific params file with \n",
    "from mooringParams import paramsDAFT4 as processParams4 # Each mooring has a specific params file with \n",
    "from mooringParams import paramsDAFT5 as processParams5 # Each mooring has a specific params file with \n",
    "from mooringParams import paramsDAFT6 as processParams6 # Each mooring has a specific params file with \n"
   ]
  },
  {
   "cell_type": "code",
   "execution_count": 100,
   "metadata": {},
   "outputs": [
    {
     "name": "stdout",
     "output_type": "stream",
     "text": [
      "Importing mooring 1\n"
     ]
    },
    {
     "data": {
      "application/vnd.jupyter.widget-view+json": {
       "model_id": "0127a48f5ffe4a9d9a61d027dbbb122b",
       "version_major": 2,
       "version_minor": 0
      },
      "text/plain": [
       "HBox(children=(HTML(value='Reading regions'), FloatProgress(value=0.0, max=53.0), HTML(value='')))"
      ]
     },
     "metadata": {},
     "output_type": "display_data"
    },
    {
     "name": "stdout",
     "output_type": "stream",
     "text": [
      "\n"
     ]
    },
    {
     "data": {
      "application/vnd.jupyter.widget-view+json": {
       "model_id": "b667814e934a41b18be130700c345029",
       "version_major": 2,
       "version_minor": 0
      },
      "text/plain": [
       "HBox(children=(HTML(value='Reading targets'), FloatProgress(value=0.0, max=53.0), HTML(value='')))"
      ]
     },
     "metadata": {},
     "output_type": "display_data"
    },
    {
     "name": "stdout",
     "output_type": "stream",
     "text": [
      "\n",
      "Importing mooring 2\n"
     ]
    },
    {
     "data": {
      "application/vnd.jupyter.widget-view+json": {
       "model_id": "839a4ca8ca844231a6487cadc9be5612",
       "version_major": 2,
       "version_minor": 0
      },
      "text/plain": [
       "HBox(children=(HTML(value='Reading regions'), FloatProgress(value=0.0, max=38.0), HTML(value='')))"
      ]
     },
     "metadata": {},
     "output_type": "display_data"
    },
    {
     "name": "stdout",
     "output_type": "stream",
     "text": [
      "\n"
     ]
    },
    {
     "data": {
      "application/vnd.jupyter.widget-view+json": {
       "model_id": "d8e749cc145f4ce498c05f48d1205f23",
       "version_major": 2,
       "version_minor": 0
      },
      "text/plain": [
       "HBox(children=(HTML(value='Reading targets'), FloatProgress(value=0.0, max=38.0), HTML(value='')))"
      ]
     },
     "metadata": {},
     "output_type": "display_data"
    },
    {
     "name": "stdout",
     "output_type": "stream",
     "text": [
      "\n",
      "Importing mooring 4\n"
     ]
    },
    {
     "data": {
      "application/vnd.jupyter.widget-view+json": {
       "model_id": "0b71fc3542e24ad18351d5440f08fe6f",
       "version_major": 2,
       "version_minor": 0
      },
      "text/plain": [
       "HBox(children=(HTML(value='Reading regions'), FloatProgress(value=0.0, max=38.0), HTML(value='')))"
      ]
     },
     "metadata": {},
     "output_type": "display_data"
    },
    {
     "name": "stdout",
     "output_type": "stream",
     "text": [
      "\n"
     ]
    },
    {
     "data": {
      "application/vnd.jupyter.widget-view+json": {
       "model_id": "b9b68873048544fe8e54e950a7f50f4f",
       "version_major": 2,
       "version_minor": 0
      },
      "text/plain": [
       "HBox(children=(HTML(value='Reading targets'), FloatProgress(value=0.0, max=38.0), HTML(value='')))"
      ]
     },
     "metadata": {},
     "output_type": "display_data"
    },
    {
     "name": "stdout",
     "output_type": "stream",
     "text": [
      "\n",
      "Importing mooring 5\n"
     ]
    },
    {
     "data": {
      "application/vnd.jupyter.widget-view+json": {
       "model_id": "3d7f2837a8ec468f93b2070236522149",
       "version_major": 2,
       "version_minor": 0
      },
      "text/plain": [
       "HBox(children=(HTML(value='Reading regions'), FloatProgress(value=0.0, max=39.0), HTML(value='')))"
      ]
     },
     "metadata": {},
     "output_type": "display_data"
    },
    {
     "name": "stdout",
     "output_type": "stream",
     "text": [
      "\n"
     ]
    },
    {
     "data": {
      "application/vnd.jupyter.widget-view+json": {
       "model_id": "a11ff27503c844bba9e86a2f0bd73fd9",
       "version_major": 2,
       "version_minor": 0
      },
      "text/plain": [
       "HBox(children=(HTML(value='Reading targets'), FloatProgress(value=0.0, max=39.0), HTML(value='')))"
      ]
     },
     "metadata": {},
     "output_type": "display_data"
    },
    {
     "name": "stdout",
     "output_type": "stream",
     "text": [
      "\n",
      "Importing mooring 6\n"
     ]
    },
    {
     "data": {
      "application/vnd.jupyter.widget-view+json": {
       "model_id": "c9f0b79f8fc443358795b54b43767857",
       "version_major": 2,
       "version_minor": 0
      },
      "text/plain": [
       "HBox(children=(HTML(value='Reading regions'), FloatProgress(value=0.0, max=39.0), HTML(value='')))"
      ]
     },
     "metadata": {},
     "output_type": "display_data"
    },
    {
     "name": "stdout",
     "output_type": "stream",
     "text": [
      "\n"
     ]
    },
    {
     "data": {
      "application/vnd.jupyter.widget-view+json": {
       "model_id": "1a12cfaef17b458d97fdf66422731c31",
       "version_major": 2,
       "version_minor": 0
      },
      "text/plain": [
       "HBox(children=(HTML(value='Reading targets'), FloatProgress(value=0.0, max=39.0), HTML(value='')))"
      ]
     },
     "metadata": {},
     "output_type": "display_data"
    },
    {
     "name": "stdout",
     "output_type": "stream",
     "text": [
      "\n"
     ]
    }
   ],
   "source": [
    "from mooringParams import paramsDAFT1 as processParams1 # Each mooring has a specific params file with \n",
    "from mooringParams import paramsDAFT2 as processParams2 # Each mooring has a specific params file with \n",
    "from mooringParams import paramsDAFT4 as processParams4 # Each mooring has a specific params file with \n",
    "from mooringParams import paramsDAFT5 as processParams5 # Each mooring has a specific params file with \n",
    "from mooringParams import paramsDAFT6 as processParams6 # Each mooring has a specific params file with \n",
    "\n",
    "dfRs,dfTs = [],[]\n",
    "for p in [processParams1,processParams2,processParams4,processParams5,processParams6]:\n",
    "    dfR, dfT = readExports(p)\n",
    "    dfRs.append(dfR)\n",
    "    dfTs.append(dfT)\n",
    "dfR = pd.concat(dfRs)\n",
    "dfT = pd.concat(dfTs)"
   ]
  },
  {
   "cell_type": "code",
   "execution_count": 48,
   "metadata": {},
   "outputs": [
    {
     "data": {
      "image/png": "[encoded data removed]",
      "text/plain": [
       "<Figure size 1008x432 with 2 Axes>"
      ]
     },
     "metadata": {
      "needs_background": "light"
     },
     "output_type": "display_data"
    }
   ],
   "source": [
    "dfR2 = dfR.sample(1000)\n",
    "dMin,dMaj,rid,pid = [],[],[],[]\n",
    "for index, row in dfR2.iterrows():\n",
    "    curTrack = dfT[(dfT.Process_ID==row.Process_ID)&(dfT.Region_ID==row.Region_ID)]\n",
    "    for i in range(len(curTrack)-1):\n",
    "        dMin.append(curTrack.iloc[i].Angle_minor_axis - curTrack.iloc[i+1].Angle_minor_axis)\n",
    "        dMaj.append(curTrack.iloc[i].Angle_major_axis - curTrack.iloc[i+1].Angle_major_axis)\n",
    "        if ((curTrack.iloc[i].Angle_minor_axis - curTrack.iloc[i+1].Angle_minor_axis)>4):\n",
    "            rid.append(row.Region_ID)\n",
    "            pid.append(row.Process_ID)\n",
    "fig = plt.figure(figsize=(14,6))        \n",
    "plt.subplot(121)\n",
    "plt.hist(dMin,bins=45)\n",
    "plt.subplot(122)\n",
    "plt.hist(dMaj,bins=45);"
   ]
  },
  {
   "cell_type": "code",
   "execution_count": 112,
   "metadata": {},
   "outputs": [
    {
     "name": "stdout",
     "output_type": "stream",
     "text": [
      "Major Distance Mean: -0.004876342265885917\n",
      "Minor Distance STD: 0.33118924573835573\n",
      "Major Distance Mean: -0.022322221609985562\n",
      "Minor Distance STD: 0.32422916934675733\n",
      "Depth Mean: 0.0009948595536971893\n",
      "Depth STD: 0.04500135466619002\n"
     ]
    },
    {
     "data": {
      "image/png": "[encoded data removed]",
      "text/plain": [
       "<Figure size 1512x432 with 3 Axes>"
      ]
     },
     "metadata": {
      "needs_background": "light"
     },
     "output_type": "display_data"
    }
   ],
   "source": [
    "dfR2 = dfR.sample(n=10000) # Let's get the distances from target to target for a random sample of tracks in all 5 moorings\n",
    "dMin,dMaj,dZ = [],[],[]\n",
    "for index, row in dfR2.iterrows():\n",
    "    curTrack = dfT[(dfT.Process_ID==row.Process_ID)&(dfT.Region_ID==row.Region_ID)]\n",
    "    for i in range(len(curTrack)-1):\n",
    "        dMin.append(curTrack.iloc[i+1].Distance_minor_axis - curTrack.iloc[i].Distance_minor_axis)\n",
    "        dMaj.append(curTrack.iloc[i+1].Distance_major_axis - curTrack.iloc[i].Distance_major_axis)\n",
    "        dZ.append(curTrack.iloc[i+1].Target_true_depth - curTrack.iloc[i].Target_true_depth)\n",
    "\n",
    "fig = plt.figure(figsize=(21,6))        \n",
    "plt.subplot(131)\n",
    "plt.hist(dMin,bins=np.arange(-2.5,2.5,.05),density=True)\n",
    "plt.xlabel('Major axis neighbor spacing (m)')\n",
    "plt.subplot(132)\n",
    "plt.hist(dMaj,bins=np.arange(-2.5,2.5,.05),density=True)\n",
    "plt.xlabel('Minor axis neighbor spacing (m)')\n",
    "plt.subplot(133)\n",
    "plt.hist(dZ,bins=np.arange(-.25,.25,.005),density=True)\n",
    "plt.xlabel('Z neighbor spacing (m)')\n",
    "print('Major Distance Mean:',np.mean(dMaj))\n",
    "print('Minor Distance STD:',np.std(dMaj))\n",
    "print('Major Distance Mean:',np.mean(dMin))\n",
    "print('Minor Distance STD:',np.std(dMin))\n",
    "print('Depth Mean:',np.mean(dZ))\n",
    "print('Depth STD:',np.std(dZ))"
   ]
  }
 ],
 "metadata": {
  "kernelspec": {
   "display_name": "Python 3",
   "language": "python",
   "name": "python3"
  },
  "language_info": {
   "codemirror_mode": {
    "name": "ipython",
    "version": 3
   },
   "file_extension": ".py",
   "mimetype": "text/x-python",
   "name": "python",
   "nbconvert_exporter": "python",
   "pygments_lexer": "ipython3",
   "version": "3.8.5"
  }
 },
 "nbformat": 4,
 "nbformat_minor": 4
}
