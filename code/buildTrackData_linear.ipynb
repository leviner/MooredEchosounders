{
 "cells": [
  {
   "cell_type": "code",
   "execution_count": 2,
   "metadata": {},
   "outputs": [],
   "source": [
    "from glob import glob\n",
    "import pandas as pd\n",
    "from tqdm.notebook import tqdm\n",
    "import numpy as np\n",
    "import plotly.graph_objs as go\n",
    "from scipy.interpolate import splprep,splev\n",
    "import math\n",
    "import matplotlib.pyplot as plt\n",
    "import statsmodels.api as sm"
   ]
  },
  {
   "cell_type": "code",
   "execution_count": 7,
   "metadata": {},
   "outputs": [],
   "source": [
    "def readExports(processParams):\n",
    "    print('Importing mooring '+str(processParams.wbatParams.mooringNum))\n",
    "    dfs = []\n",
    "    for file in tqdm(glob(processParams.evParams.outputDir+'exports\\\\'+'*(regions).csv'),desc='Reading regions'):\n",
    "        dfs.append(pd.read_csv(file))\n",
    "    dfR = pd.concat(dfs)\n",
    "    dfs = []\n",
    "    for file in tqdm(glob(processParams.evParams.outputDir+'exports\\\\'+'*(targets).csv'),desc='Reading targets'):\n",
    "        dfs.append(pd.read_csv(file))\n",
    "    dfT = pd.concat(dfs)\n",
    "    cols = np.append(dfT.columns[0:18],['Ping_number']).tolist()\n",
    "    dfT = dfT[cols].drop(columns=['Region_name', 'Region_class'])\n",
    "    dfR = dfR.drop(columns=['Region_name', 'Region_class','Target_length_mean'])\n",
    "    dfR = dfR[dfR.TS_max < -30]\n",
    "    dfT = dfT[dfT.Region_ID.isin(dfR.Region_ID)]\n",
    "    return dfR, dfT\n",
    "\n",
    "# Using Echoview terminology, so Major = X, Minor = Y\n",
    "def targetSpline(df, processID, regionID):\n",
    "    df = df[(df.Region_ID==regionID) & (df.Process_ID==processID)]\n",
    "    tck, u  = splprep([df.Distance_major_axis, df.Distance_minor_axis,df.Target_true_depth],k=3)\n",
    "    x_knots, y_knots, z_knots = splev(np.linspace(0,1,len(df.Distance_major_axis)-1), tck)\n",
    "    return x_knots, y_knots, z_knots \n",
    "    \n",
    "def trackPlot(df,processID, regionID, plotElements =['track_smoothed','track','track_direct','targets','track_linear']):\n",
    "    # plotElements: list of elements to include:\n",
    "    # targets: target locations\n",
    "    # track: line between targets\n",
    "    # track_smoothed: Cubic spline with equal resolution to the number of targets\n",
    "    # track_direct: \"flux\" line from start to end target based on spline    \n",
    "    x_knots, y_knots, z_knots = targetSpline(df, processID, regionID)\n",
    "    track_smoothed = go.Scatter3d(x=x_knots, y=y_knots, z=z_knots,mode='lines',name='Smoothed Line')\n",
    "    \n",
    "    track_direct = go.Scatter3d(x=[x_knots[i] for i in (0, -1)], y=[y_knots[i] for i in (0, -1)], z=[z_knots[i] for i in (0, -1)],mode='lines',name='Direct Path')\n",
    "\n",
    "    dfCur = df[(df.Region_ID==regionID) & (df.Process_ID==processID)]\n",
    "    targets=go.Scatter3d(x=dfCur.Distance_major_axis, y=dfCur.Distance_minor_axis, z=dfCur.Target_true_depth,mode='markers',\n",
    "        marker=dict(size=8,color='black', colorscale='plasma',opacity=0.8,colorbar=dict(title='TS',thickness=30),showscale=False),name='Targets')\n",
    "    track = go.Scatter3d(x=dfCur.Distance_major_axis, y=dfCur.Distance_minor_axis, z=dfCur.Target_true_depth,mode='lines',name='Target Line')\n",
    "\n",
    "    \n",
    "    if dfCur.Distance_minor_axis.max()-dfCur.Distance_minor_axis.min() < dfCur.Distance_major_axis.max()-dfCur.Distance_major_axis.min():\n",
    "        x = dfCur.Distance_major_axis\n",
    "        X = sm.add_constant(x)\n",
    "        y = dfCur.Distance_minor_axis\n",
    "        model = sm.OLS(y, X).fit()\n",
    "        predictions = model.predict(X) # make the predictions by the model\n",
    "\n",
    "        x_knots = [X.Distance_major_axis.to_numpy()[0],X.Distance_major_axis.to_numpy()[-1]]\n",
    "        y_knots = [predictions.to_numpy()[0],predictions.to_numpy()[-1]]\n",
    "        z_knots = [dfCur.Target_true_depth.values[0],dfCur.Target_true_depth.values[-1]]\n",
    "    \n",
    "    \n",
    "    elif dfCur.Distance_minor_axis.max()-dfCur.Distance_minor_axis.min() > dfCur.Distance_major_axis.max()-dfCur.Distance_major_axis.min():\n",
    "        x = dfCur.Distance_minor_axis\n",
    "        X = sm.add_constant(x)\n",
    "        y = dfCur.Distance_major_axis\n",
    "        model = sm.OLS(y, X).fit()\n",
    "        predictions = model.predict(X) # make the predictions by the model\n",
    "\n",
    "        y_knots = [X.Distance_minor_axis.to_numpy()[0],X.Distance_minor_axis.to_numpy()[-1]]\n",
    "        x_knots = [predictions.to_numpy()[0],predictions.to_numpy()[-1]]\n",
    "        z_knots = [dfCur.Target_true_depth.values[0],dfCur.Target_true_depth.values[-1]]\n",
    "    track_linear = go.Scatter3d(x=x_knots, y=y_knots, z=z_knots,mode='lines',name='Smoothed Line')\n",
    "    \n",
    "    allElements = {'track_smoothed':track_smoothed,'track':track,'track_direct':track_direct,'targets':targets,'track_linear':track_linear}\n",
    "    fig = go.Figure(data=[allElements[i] for i in plotElements])\n",
    "    split = (np.ceil(np.max([dfCur.Distance_major_axis.max() - dfCur.Distance_major_axis.min(),dfCur.Distance_minor_axis.max() - dfCur.Distance_minor_axis.min(),dfCur.Target_true_depth.max() - dfCur.Target_true_depth.min()]))/2)+.25\n",
    "    fig.update_layout(showlegend=True,scene = dict(xaxis_title='Distance_major_axis',\n",
    "                        yaxis_title='Distance_minor_axis',\n",
    "                        zaxis_title='Depth',\n",
    "                        xaxis = dict(nticks=4, range=[np.median(dfCur.Distance_major_axis)-split, np.median(dfCur.Distance_major_axis)+split]),\n",
    "                        yaxis = dict(nticks=4, range=[np.median(dfCur.Distance_minor_axis)-split, np.median(dfCur.Distance_minor_axis)+split]),\n",
    "                        zaxis = dict(nticks=4, range=[np.median(dfCur.Target_true_depth)-split, np.median(dfCur.Target_true_depth)+split])),\n",
    "                        width=700,\n",
    "                        margin=dict(r=20, b=10, l=10, t=10))\n",
    "\n",
    "    fig.show()\n",
    "\n",
    "    \n",
    "def regionStats(dfR,dfT,processParams):\n",
    "    x_knots, y_knots, z_knots = targetSpline(dfT, dfR.Process_ID, dfR.Region_ID)\n",
    "    coords = [j for j in zip(x_knots,y_knots,z_knots)]\n",
    "    d = np.diff(coords, axis=0)\n",
    "    segdistsS = np.hypot(d[:,0], d[:,1],d[:,2])\n",
    "    a = []\n",
    "    for i in range(len(x_knots)-1):\n",
    "        a.append(direction_lookup(processParams,x_knots[i+1],x_knots[i],y_knots[i+1],y_knots[i]))\n",
    "    tDirS = np.mean(a)\n",
    "\n",
    "    # This is the 'direct' spline version of this\n",
    "    x_knots = [x_knots[i] for i in (0, -1)]\n",
    "    y_knots = [y_knots[i] for i in (0, -1)]\n",
    "    z_knots = [z_knots[i] for i in (0, -1)]\n",
    "    coords = [j for j in zip(x_knots,y_knots,z_knots)]\n",
    "    d = np.diff(coords, axis=0)\n",
    "    segdistsD = np.hypot(d[:,0], d[:,1],d[:,2])\n",
    "    tDirD = direction_lookup(processParams,x_knots[1],x_knots[0],y_knots[1],y_knots[0])\n",
    "        \n",
    "    # This is the linear fit version of this, getting heading from the X/Y plane\n",
    "    dfCur = dfT[(dfT.Process_ID==dfR.Process_ID)&(dfT.Region_ID==dfR.Region_ID)]\n",
    "    if dfCur.Distance_minor_axis.max()-dfCur.Distance_minor_axis.min() < dfCur.Distance_major_axis.max()-dfCur.Distance_major_axis.min():\n",
    "        x = dfCur.Distance_major_axis\n",
    "        X = sm.add_constant(x)\n",
    "        y = dfCur.Distance_minor_axis\n",
    "        model = sm.OLS(y, X).fit()\n",
    "        predictions = model.predict(X) # make the predictions by the model\n",
    "\n",
    "        x_knots = [X.Distance_major_axis.to_numpy()[0],X.Distance_major_axis.to_numpy()[-1]]\n",
    "        y_knots = [predictions.to_numpy()[0],predictions.to_numpy()[-1]]\n",
    "        z_knots = [dfCur.Target_true_depth.values[0],dfCur.Target_true_depth.values[-1]]\n",
    "    \n",
    "    \n",
    "    elif dfCur.Distance_minor_axis.max()-dfCur.Distance_minor_axis.min() > dfCur.Distance_major_axis.max()-dfCur.Distance_major_axis.min():\n",
    "        x = dfCur.Distance_minor_axis\n",
    "        X = sm.add_constant(x)\n",
    "        y = dfCur.Distance_major_axis\n",
    "        model = sm.OLS(y, X).fit()\n",
    "        predictions = model.predict(X) # make the predictions by the model\n",
    "\n",
    "        y_knots = [X.Distance_minor_axis.to_numpy()[0],X.Distance_minor_axis.to_numpy()[-1]]\n",
    "        x_knots = [predictions.to_numpy()[0],predictions.to_numpy()[-1]]\n",
    "        z_knots = [dfCur.Target_true_depth.values[0],dfCur.Target_true_depth.values[-1]]\n",
    "    \n",
    "    tDirL = direction_lookup(processParams,x_knots[1],x_knots[0],y_knots[1],y_knots[0])\n",
    "    \n",
    "    coords = [j for j in zip(x_knots,y_knots,z_knots)]\n",
    "    d = np.diff(coords, axis=0)\n",
    "    segdistsL = np.hypot(d[:,0], d[:,1],d[:,2])\n",
    "    \n",
    "    tSpeedS=segdistsS.sum()/((dfT[(dfT.Process_ID == dfR.Process_ID)& (dfT.Region_ID == dfR.Region_ID)].Ping_number.max() - dfT[(dfT.Process_ID == dfR.Process_ID)& (dfT.Region_ID == dfR.Region_ID)].Ping_number.min())*.4)\n",
    "    tSpeedD=segdistsD.sum()/((dfT[(dfT.Process_ID == dfR.Process_ID)& (dfT.Region_ID == dfR.Region_ID)].Ping_number.max() - dfT[(dfT.Process_ID == dfR.Process_ID)& (dfT.Region_ID == dfR.Region_ID)].Ping_number.min())*.4)\n",
    "    tSpeedL=segdistsL.sum()/((dfT[(dfT.Process_ID == dfR.Process_ID)& (dfT.Region_ID == dfR.Region_ID)].Ping_number.max() - dfT[(dfT.Process_ID == dfR.Process_ID)& (dfT.Region_ID == dfR.Region_ID)].Ping_number.min())*.4)\n",
    "\n",
    "    return tSpeedS, segdistsS.sum(), tDirS, tSpeedD, segdistsD.sum(), tDirD, tSpeedL, segdistsL.sum(), tDirL\n",
    "\n",
    "def regionStats2(dfR,dfT,processParams):\n",
    "    x_knots, y_knots, z_knots = targetSpline(dfT, dfR.Process_ID, dfR.Region_ID)\n",
    "    coords = [j for j in zip(x_knots,y_knots,z_knots)]\n",
    "    d = np.diff(coords, axis=0)\n",
    "    segdistsS = np.hypot(d[:,0], d[:,1],d[:,2])\n",
    "    a = []\n",
    "    for i in range(len(x_knots)-1):\n",
    "        a.append(direction_lookup(processParams,x_knots[i+1],x_knots[i],y_knots[i+1],y_knots[i]))\n",
    "    tDirS = np.mean(a)\n",
    "\n",
    "    # This is the 'direct' spline version of this\n",
    "    x_knots = [x_knots[i] for i in (0, -1)]\n",
    "    y_knots = [y_knots[i] for i in (0, -1)]\n",
    "    z_knots = [z_knots[i] for i in (0, -1)]\n",
    "    coords = [j for j in zip(x_knots,y_knots,z_knots)]\n",
    "    d = np.diff(coords, axis=0)\n",
    "    segdistsD = np.hypot(d[:,0], d[:,1],d[:,2])\n",
    "    tDirD = direction_lookup(processParams,x_knots[1],x_knots[0],y_knots[1],y_knots[0])\n",
    "        \n",
    "    # This is the linear fit version of this, getting heading from the X/Y against ping number separately \n",
    "    dfCur = dfT[(dfT.Process_ID==dfR.Process_ID)&(dfT.Region_ID==dfR.Region_ID)]\n",
    "    x = dfCur.Ping_number\n",
    "    X = sm.add_constant(x)\n",
    "    y = dfCur.Distance_major_axis\n",
    "    model = sm.OLS(y, X).fit()\n",
    "    predictions = model.predict(X) # make the predictions by the model\n",
    "    dMaj = predictions.to_numpy()\n",
    "\n",
    "    y = dfCur.Distance_minor_axis\n",
    "    model = sm.OLS(y, X).fit()\n",
    "    predictions = model.predict(X) # make the predictions by the model\n",
    "    dMin = predictions.to_numpy()\n",
    "\n",
    "    z_knots = [dfCur.Target_true_depth.values[0],dfCur.Target_true_depth.values[-1]]\n",
    "    x_knots = [dMaj[0],dMaj[-1]]\n",
    "    y_knots = [dMin[0],dMin[-1]]\n",
    "    \n",
    "    tDirL = direction_lookup(processParams,x_knots[1],x_knots[0],y_knots[1],y_knots[0])\n",
    "    \n",
    "    coords = [j for j in zip(x_knots,y_knots,z_knots)]\n",
    "    d = np.diff(coords, axis=0)\n",
    "    segdistsL = np.hypot(d[:,0], d[:,1],d[:,2])\n",
    "    \n",
    "    tSpeedS=segdistsS.sum()/((dfT[(dfT.Process_ID == dfR.Process_ID)& (dfT.Region_ID == dfR.Region_ID)].Ping_number.max() - dfT[(dfT.Process_ID == dfR.Process_ID)& (dfT.Region_ID == dfR.Region_ID)].Ping_number.min())*.4)\n",
    "    tSpeedD=segdistsD.sum()/((dfT[(dfT.Process_ID == dfR.Process_ID)& (dfT.Region_ID == dfR.Region_ID)].Ping_number.max() - dfT[(dfT.Process_ID == dfR.Process_ID)& (dfT.Region_ID == dfR.Region_ID)].Ping_number.min())*.4)\n",
    "    tSpeedL=segdistsL.sum()/((dfT[(dfT.Process_ID == dfR.Process_ID)& (dfT.Region_ID == dfR.Region_ID)].Ping_number.max() - dfT[(dfT.Process_ID == dfR.Process_ID)& (dfT.Region_ID == dfR.Region_ID)].Ping_number.min())*.4)\n",
    "\n",
    "    return tSpeedS, segdistsS.sum(), tDirS, tSpeedD, segdistsD.sum(), tDirD, tSpeedL, segdistsL.sum(), tDirL\n",
    "\n",
    "def direction_lookup(processParams,destination_x, origin_x, destination_y, origin_y):\n",
    "    deltaX = destination_x - origin_x\n",
    "    deltaY = destination_y - origin_y\n",
    "    degrees_temp = math.atan2(deltaX, deltaY)/math.pi*180\n",
    "    # Flip for the inversion due to upward facing Xducer\n",
    "    degrees_temp = 360-degrees_temp\n",
    "    # Correct for the Xducer direction\n",
    "    degrees_temp = (degrees_temp + processParams.wbatParams.mooringCompassOffset-360)\n",
    "    # Whats the magnetic declination at the site?\n",
    "    degrees_temp = degrees_temp + processParams.wbatParams.mooringMagDec\n",
    "    # Convert check if its negative and correct\n",
    "    if degrees_temp > 360:\n",
    "        degrees_final = degrees_temp-360\n",
    "    else:\n",
    "        degrees_final = degrees_temp\n",
    "    return degrees_final\n",
    "\n",
    "def splineDF(dfR, dfT, processParams):\n",
    "    #compassCor = {1:335,2:208,4:250,5:197,6:293}\n",
    "    speedS,distS,headS = [],[],[]\n",
    "    speedD,distD,headD = [],[],[]\n",
    "    speedL,distL,headL = [],[],[]\n",
    "    for index,row in tqdm(dfR.iterrows(),total=len(dfR),desc='Calculating splines'):\n",
    "        sS,dS,hS,sD,dD,hD,sL,dL,hL = regionStats2(row,dfT,processParams)\n",
    "        speedD.append(sD)\n",
    "        distD.append(dD)\n",
    "        headD.append(hD)\n",
    "        speedS.append(sS)\n",
    "        distS.append(dS)\n",
    "        headS.append(hS)\n",
    "        speedL.append(sL)\n",
    "        distL.append(dL)\n",
    "        headL.append(hL)\n",
    "    dfR['directSpeed'] = np.around(np.array(speedD),3)\n",
    "    dfR['directDist'] = np.around(np.array(distD),3)\n",
    "    dfR['directHead'] = np.around(np.array(headD),3)\n",
    "    dfR['smoothedSpeed'] = np.around(np.array(speedS),3)\n",
    "    dfR['smoothedDist'] = np.around(np.array(distS),3)\n",
    "    dfR['smoothedHead'] = np.around(np.array(headS),3)\n",
    "    dfR['linearSpeed'] = np.around(np.array(speedL),3)\n",
    "    dfR['linearDist'] = np.around(np.array(distL),3)\n",
    "    dfR['linearHead'] = np.around(np.array(headL),3)\n",
    "    return dfR"
   ]
  },
  {
   "cell_type": "code",
   "execution_count": null,
   "metadata": {},
   "outputs": [
    {
     "name": "stdout",
     "output_type": "stream",
     "text": [
      "Importing mooring 1\n"
     ]
    },
    {
     "data": {
      "application/vnd.jupyter.widget-view+json": {
       "model_id": "48dc23f437e94b9292186bf76a4b0461",
       "version_major": 2,
       "version_minor": 0
      },
      "text/plain": [
       "HBox(children=(HTML(value='Reading regions'), FloatProgress(value=0.0, max=53.0), HTML(value='')))"
      ]
     },
     "metadata": {},
     "output_type": "display_data"
    },
    {
     "name": "stdout",
     "output_type": "stream",
     "text": [
      "\n"
     ]
    },
    {
     "data": {
      "application/vnd.jupyter.widget-view+json": {
       "model_id": "c8cfb6f3cabe43d38deb32118b0bd8d0",
       "version_major": 2,
       "version_minor": 0
      },
      "text/plain": [
       "HBox(children=(HTML(value='Reading targets'), FloatProgress(value=0.0, max=53.0), HTML(value='')))"
      ]
     },
     "metadata": {},
     "output_type": "display_data"
    },
    {
     "name": "stdout",
     "output_type": "stream",
     "text": [
      "\n"
     ]
    },
    {
     "data": {
      "application/vnd.jupyter.widget-view+json": {
       "model_id": "7f9bc15c9ed84e0eb61368d901dd71ce",
       "version_major": 2,
       "version_minor": 0
      },
      "text/plain": [
       "HBox(children=(HTML(value='Calculating splines'), FloatProgress(value=0.0, max=44097.0), HTML(value='')))"
      ]
     },
     "metadata": {},
     "output_type": "display_data"
    }
   ],
   "source": [
    "from mooringParams import paramsDAFT1 as processParams1 # Each mooring has a specific params file with \n",
    "dfR, dfT = readExports(processParams1)\n",
    "dfRSpline = splineDF(dfR, dfT, processParams1)\n",
    "dfRSpline.to_csv('../data/analysisFiles/TrackRegions'+str(processParams1.wbatParams.mooringNum)+'_linear2.csv')\n",
    "\n",
    "from mooringParams import paramsDAFT2 as processParams2 # Each mooring has a specific params file with \n",
    "dfR, dfT = readExports(processParams2)\n",
    "dfRSpline = splineDF(dfR, dfT, processParams2)\n",
    "dfRSpline.to_csv('../data/analysisFiles/TrackRegions'+str(processParams2.wbatParams.mooringNum)+'_linear2.csv')\n",
    "\n",
    "from mooringParams import paramsDAFT4 as processParams4 # Each mooring has a specific params file with \n",
    "dfR, dfT = readExports(processParams4)\n",
    "dfRSpline = splineDF(dfR, dfT, processParams4)\n",
    "dfRSpline.to_csv('../data/analysisFiles/TrackRegions'+str(processParams4.wbatParams.mooringNum)+'_linear2.csv')\n",
    "\n",
    "from mooringParams import paramsDAFT5 as processParams5 # Each mooring has a specific params file with \n",
    "dfR, dfT = readExports(processParams5)\n",
    "dfRSpline = splineDF(dfR, dfT, processParams5)\n",
    "dfRSpline.to_csv('../data/analysisFiles/TrackRegions'+str(processParams5.wbatParams.mooringNum)+'_linear2.csv')\n",
    "\n",
    "from mooringParams import paramsDAFT6 as processParams6 # Each mooring has a specific params file with \n",
    "dfR, dfT = readExports(processParams6)\n",
    "dfRSpline = splineDF(dfR, dfT, processParams6)\n",
    "dfRSpline.to_csv('../data/analysisFiles/TrackRegions'+str(processParams6.wbatParams.mooringNum)+'_linear2.csv')"
   ]
  },
  {
   "cell_type": "code",
   "execution_count": 6,
   "metadata": {},
   "outputs": [
    {
     "name": "stdout",
     "output_type": "stream",
     "text": [
      "Importing mooring 1\n"
     ]
    },
    {
     "data": {
      "application/vnd.jupyter.widget-view+json": {
       "model_id": "cac4cb9e295949dfa6b60a71635f9975",
       "version_major": 2,
       "version_minor": 0
      },
      "text/plain": [
       "HBox(children=(HTML(value='Reading regions'), FloatProgress(value=0.0, max=53.0), HTML(value='')))"
      ]
     },
     "metadata": {},
     "output_type": "display_data"
    },
    {
     "name": "stdout",
     "output_type": "stream",
     "text": [
      "\n"
     ]
    },
    {
     "data": {
      "application/vnd.jupyter.widget-view+json": {
       "model_id": "34acec26fbe94a4c985ef819097c923a",
       "version_major": 2,
       "version_minor": 0
      },
      "text/plain": [
       "HBox(children=(HTML(value='Reading targets'), FloatProgress(value=0.0, max=53.0), HTML(value='')))"
      ]
     },
     "metadata": {},
     "output_type": "display_data"
    },
    {
     "name": "stdout",
     "output_type": "stream",
     "text": [
      "\n"
     ]
    },
    {
     "data": {
      "application/vnd.jupyter.widget-view+json": {
       "model_id": "ec5e9cd7180f4426bff104de700e9321",
       "version_major": 2,
       "version_minor": 0
      },
      "text/plain": [
       "HBox(children=(HTML(value='Calculating splines'), FloatProgress(value=0.0, max=44097.0), HTML(value='')))"
      ]
     },
     "metadata": {},
     "output_type": "display_data"
    },
    {
     "name": "stdout",
     "output_type": "stream",
     "text": [
      "\n"
     ]
    }
   ],
   "source": [
    "from mooringParams import paramsDAFT1 as processParams1 # Each mooring has a specific params file with \n",
    "dfR, dfT = readExports(processParams1)\n",
    "dfRSpline = splineDF(dfR, dfT, processParams1)\n",
    "dfRSpline.to_csv('../data/analysisFiles/TrackRegions'+str(processParams1.wbatParams.mooringNum)+'_linear_singleaxis.csv')"
   ]
  }
 ],
 "metadata": {
  "kernelspec": {
   "display_name": "Python 3",
   "language": "python",
   "name": "python3"
  },
  "language_info": {
   "codemirror_mode": {
    "name": "ipython",
    "version": 3
   },
   "file_extension": ".py",
   "mimetype": "text/x-python",
   "name": "python",
   "nbconvert_exporter": "python",
   "pygments_lexer": "ipython3",
   "version": "3.8.5"
  }
 },
 "nbformat": 4,
 "nbformat_minor": 4
}
