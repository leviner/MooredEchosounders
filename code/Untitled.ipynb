{
 "cells": [
  {
   "cell_type": "code",
   "execution_count": 7,
   "metadata": {},
   "outputs": [],
   "source": [
    "import win32com.client\n",
    "import time\n",
    "import pandas as pd\n",
    "import numpy as np\n",
    "\n",
    "def evFishTracks(processParams, evFiles):\n",
    "    newFiles = []\n",
    "    EvApp = win32com.client.Dispatch(\"EchoviewCom.EvApplication\")\n",
    "    EvApp.Minimize()\n",
    "    for file in evFiles:\n",
    "        start = time.time()\n",
    "        EvFile = EvApp.OpenFile(file)\n",
    "        EvFileSet = EvFile.FileSets.FindByName('Fileset1') # replace with params value\n",
    "        EvFileSet.SetCalibrationFile(processParams.evParams.calFile)\n",
    "        EvVar = EvFile.Variables.FindByName(processParams.evParams.singleTargetVar) \n",
    "        EvVar.Properties.Analysis.ExcludeAboveLine = processParams.evParams.excludeAbove\n",
    "        EvVar.Properties.Analysis.ExcludeBelowLine = processParams.evParams.excludeBelow\n",
    "        EvVar.DetectFishTracks(processParams.evParams.classExport);\n",
    "        EvFile.Properties.Export.Mode=1\n",
    "        for item in processParams.evParams.trackExportItems:\n",
    "            EvFile.Properties.Export.Variables.Item(item).Enabled=1\n",
    "        EvFile.Properties.Export\n",
    "        exporttest = EvVar.ExportFishTracksByRegionsAll(processParams.evParams.outputDir +'exports\\\\FishTracks-'+processParams.wbatParams.mooringSer +'-'+\\\n",
    "                            str(processParams.evParams.gridY)+'m'+'-'+file[-20:-12]+'-'+file[-11:-3]+'.csv')\n",
    "        if exporttest:\n",
    "            print('File Exported. Total time: ' + str(int(np.floor((time.time()-start)/60)))+'m '+str(round((time.time()-start)%60))+ 's')\n",
    "            newFiles.append(processParams.evParams.outputDir +'exports\\\\FishTracks-'+processParams.wbatParams.mooringSer + '-'+\\\n",
    "                                str(processParams.evParams.gridY)+'m'+'-'+file[-20:-12]+'-'+file[-11:-3]+'.csv')\n",
    "        else:\n",
    "            print('File Export Failed')\n",
    "        EvFile.Close()\n",
    "    EvApp.Quit()\n",
    "    print('Done')\n",
    "    return newFiles    "
   ]
  },
  {
   "cell_type": "code",
   "execution_count": 134,
   "metadata": {},
   "outputs": [
    {
     "data": {
      "text/plain": [
       "53"
      ]
     },
     "execution_count": 134,
     "metadata": {},
     "output_type": "execute_result"
    }
   ],
   "source": [
    "len(evFiles)"
   ]
  },
  {
   "cell_type": "code",
   "execution_count": 137,
   "metadata": {},
   "outputs": [],
   "source": [
    "from glob import glob\n",
    "from mooringParams import paramsDAFT1 as processParams # Each mooring has a specific params file with \n",
    "evFiles = glob(processParams.evParams.outputDir+'*.EV')\n",
    "files = evFiles"
   ]
  },
  {
   "cell_type": "code",
   "execution_count": 138,
   "metadata": {},
   "outputs": [
    {
     "name": "stdout",
     "output_type": "stream",
     "text": [
      "E:\\MooredEchosounders\\data\\2018\\EVFiles\\DAFT1\\LoadedData-NOAA1-20170815-20170821.EV\n",
      "E:\\MooredEchosounders\\data\\2018\\EVFiles\\DAFT1\\LoadedData-NOAA1-20170822-20170828.EV\n",
      "E:\\MooredEchosounders\\data\\2018\\EVFiles\\DAFT1\\LoadedData-NOAA1-20170829-20170904.EV\n",
      "E:\\MooredEchosounders\\data\\2018\\EVFiles\\DAFT1\\LoadedData-NOAA1-20170905-20170911.EV\n",
      "E:\\MooredEchosounders\\data\\2018\\EVFiles\\DAFT1\\LoadedData-NOAA1-20170912-20170918.EV\n",
      "E:\\MooredEchosounders\\data\\2018\\EVFiles\\DAFT1\\LoadedData-NOAA1-20170919-20170925.EV\n",
      "E:\\MooredEchosounders\\data\\2018\\EVFiles\\DAFT1\\LoadedData-NOAA1-20170926-20171002.EV\n",
      "E:\\MooredEchosounders\\data\\2018\\EVFiles\\DAFT1\\LoadedData-NOAA1-20171003-20171009.EV\n",
      "E:\\MooredEchosounders\\data\\2018\\EVFiles\\DAFT1\\LoadedData-NOAA1-20171010-20171016.EV\n",
      "E:\\MooredEchosounders\\data\\2018\\EVFiles\\DAFT1\\LoadedData-NOAA1-20171017-20171023.EV\n",
      "E:\\MooredEchosounders\\data\\2018\\EVFiles\\DAFT1\\LoadedData-NOAA1-20171024-20171030.EV\n",
      "E:\\MooredEchosounders\\data\\2018\\EVFiles\\DAFT1\\LoadedData-NOAA1-20171031-20171106.EV\n",
      "E:\\MooredEchosounders\\data\\2018\\EVFiles\\DAFT1\\LoadedData-NOAA1-20171107-20171113.EV\n",
      "E:\\MooredEchosounders\\data\\2018\\EVFiles\\DAFT1\\LoadedData-NOAA1-20171114-20171120.EV\n",
      "E:\\MooredEchosounders\\data\\2018\\EVFiles\\DAFT1\\LoadedData-NOAA1-20171121-20171127.EV\n",
      "E:\\MooredEchosounders\\data\\2018\\EVFiles\\DAFT1\\LoadedData-NOAA1-20171128-20171204.EV\n",
      "E:\\MooredEchosounders\\data\\2018\\EVFiles\\DAFT1\\LoadedData-NOAA1-20171205-20171211.EV\n",
      "E:\\MooredEchosounders\\data\\2018\\EVFiles\\DAFT1\\LoadedData-NOAA1-20171212-20171218.EV\n",
      "E:\\MooredEchosounders\\data\\2018\\EVFiles\\DAFT1\\LoadedData-NOAA1-20171219-20171225.EV\n",
      "E:\\MooredEchosounders\\data\\2018\\EVFiles\\DAFT1\\LoadedData-NOAA1-20171226-20180101.EV\n",
      "E:\\MooredEchosounders\\data\\2018\\EVFiles\\DAFT1\\LoadedData-NOAA1-20180102-20180108.EV\n",
      "E:\\MooredEchosounders\\data\\2018\\EVFiles\\DAFT1\\LoadedData-NOAA1-20180109-20180115.EV\n",
      "E:\\MooredEchosounders\\data\\2018\\EVFiles\\DAFT1\\LoadedData-NOAA1-20180116-20180122.EV\n",
      "E:\\MooredEchosounders\\data\\2018\\EVFiles\\DAFT1\\LoadedData-NOAA1-20180123-20180129.EV\n",
      "E:\\MooredEchosounders\\data\\2018\\EVFiles\\DAFT1\\LoadedData-NOAA1-20180130-20180205.EV\n",
      "E:\\MooredEchosounders\\data\\2018\\EVFiles\\DAFT1\\LoadedData-NOAA1-20180206-20180212.EV\n",
      "E:\\MooredEchosounders\\data\\2018\\EVFiles\\DAFT1\\LoadedData-NOAA1-20180213-20180219.EV\n",
      "E:\\MooredEchosounders\\data\\2018\\EVFiles\\DAFT1\\LoadedData-NOAA1-20180220-20180226.EV\n",
      "E:\\MooredEchosounders\\data\\2018\\EVFiles\\DAFT1\\LoadedData-NOAA1-20180227-20180305.EV\n",
      "E:\\MooredEchosounders\\data\\2018\\EVFiles\\DAFT1\\LoadedData-NOAA1-20180306-20180312.EV\n",
      "E:\\MooredEchosounders\\data\\2018\\EVFiles\\DAFT1\\LoadedData-NOAA1-20180313-20180319.EV\n",
      "E:\\MooredEchosounders\\data\\2018\\EVFiles\\DAFT1\\LoadedData-NOAA1-20180320-20180326.EV\n",
      "E:\\MooredEchosounders\\data\\2018\\EVFiles\\DAFT1\\LoadedData-NOAA1-20180327-20180402.EV\n",
      "E:\\MooredEchosounders\\data\\2018\\EVFiles\\DAFT1\\LoadedData-NOAA1-20180403-20180409.EV\n",
      "E:\\MooredEchosounders\\data\\2018\\EVFiles\\DAFT1\\LoadedData-NOAA1-20180410-20180416.EV\n",
      "E:\\MooredEchosounders\\data\\2018\\EVFiles\\DAFT1\\LoadedData-NOAA1-20180417-20180423.EV\n",
      "E:\\MooredEchosounders\\data\\2018\\EVFiles\\DAFT1\\LoadedData-NOAA1-20180424-20180430.EV\n",
      "E:\\MooredEchosounders\\data\\2018\\EVFiles\\DAFT1\\LoadedData-NOAA1-20180501-20180507.EV\n",
      "E:\\MooredEchosounders\\data\\2018\\EVFiles\\DAFT1\\LoadedData-NOAA1-20180508-20180514.EV\n",
      "E:\\MooredEchosounders\\data\\2018\\EVFiles\\DAFT1\\LoadedData-NOAA1-20180515-20180521.EV\n",
      "E:\\MooredEchosounders\\data\\2018\\EVFiles\\DAFT1\\LoadedData-NOAA1-20180522-20180528.EV\n",
      "E:\\MooredEchosounders\\data\\2018\\EVFiles\\DAFT1\\LoadedData-NOAA1-20180529-20180604.EV\n",
      "E:\\MooredEchosounders\\data\\2018\\EVFiles\\DAFT1\\LoadedData-NOAA1-20180605-20180611.EV\n",
      "E:\\MooredEchosounders\\data\\2018\\EVFiles\\DAFT1\\LoadedData-NOAA1-20180612-20180618.EV\n",
      "E:\\MooredEchosounders\\data\\2018\\EVFiles\\DAFT1\\LoadedData-NOAA1-20180619-20180625.EV\n",
      "E:\\MooredEchosounders\\data\\2018\\EVFiles\\DAFT1\\LoadedData-NOAA1-20180626-20180702.EV\n",
      "E:\\MooredEchosounders\\data\\2018\\EVFiles\\DAFT1\\LoadedData-NOAA1-20180703-20180709.EV\n",
      "E:\\MooredEchosounders\\data\\2018\\EVFiles\\DAFT1\\LoadedData-NOAA1-20180710-20180716.EV\n",
      "E:\\MooredEchosounders\\data\\2018\\EVFiles\\DAFT1\\LoadedData-NOAA1-20180717-20180723.EV\n",
      "E:\\MooredEchosounders\\data\\2018\\EVFiles\\DAFT1\\LoadedData-NOAA1-20180724-20180730.EV\n",
      "E:\\MooredEchosounders\\data\\2018\\EVFiles\\DAFT1\\LoadedData-NOAA1-20180731-20180806.EV\n",
      "E:\\MooredEchosounders\\data\\2018\\EVFiles\\DAFT1\\LoadedData-NOAA1-20180807-20180811.EV\n",
      "E:\\MooredEchosounders\\data\\2018\\EVFiles\\DAFT1\\LoadedData-NOAA1-20170808-20170814.EV\n"
     ]
    }
   ],
   "source": [
    "newFiles = []\n",
    "\n",
    "for file in files:\n",
    "    EvApp = win32com.client.Dispatch(\"EchoviewCom.EvApplication\")\n",
    "    EvApp.Minimize()\n",
    "    print(file)\n",
    "    start = time.time()\n",
    "    EvFile = EvApp.OpenFile(file)\n",
    "    EvFileSet = EvFile.FileSets.FindByName('Fileset1') # replace with params value\n",
    "    EvFileSet.SetCalibrationFile(processParams.evParams.calFile)\n",
    "    EvVar = EvFile.Variables.FindByName(processParams.evParams.singleTargetVar) \n",
    "    EvVar.Properties.Analysis.ExcludeAboveLine = processParams.evParams.excludeAbove\n",
    "    EvVar.Properties.Analysis.ExcludeBelowLine = processParams.evParams.excludeBelow\n",
    "    \n",
    "    FTProps = EvFile.Properties.FishTracking\n",
    "    FTProps.DataDimensions = 4\n",
    "    FTProps.Alpha.MajorAxis = 0.6\n",
    "    FTProps.Alpha.MinorAxis = 0.6\n",
    "    FTProps.Alpha.Range = 0.6\n",
    "    FTProps.Beta.MajorAxis = 0.0\n",
    "    FTProps.Beta.MinorAxis = 0.0\n",
    "    FTProps.Beta.Range = 0.0\n",
    "    FTProps.ExclusionDistance.MajorAxis = 0.7\n",
    "    FTProps.ExclusionDistance.MinorAxis = 0.7\n",
    "    FTProps.ExclusionDistance.Range = 0.3\n",
    "    FTProps.MissedPingExpansion.MajorAxis = 10\n",
    "    FTProps.MissedPingExpansion.MinorAxis = 10\n",
    "    FTProps.MissedPingExpansion.Range = 10\n",
    "\n",
    "    FTProps.Weights.MajorAxis = 30\n",
    "    FTProps.Weights.MinorAxis = 30\n",
    "    FTProps.Weights.Range = 30\n",
    "    FTProps.Weights.TS = 30\n",
    "    FTProps.Weights.PingGap = 10\n",
    "\n",
    "    FTProps.MinimumTargets = 5\n",
    "    FTProps.MinimumPings = 5\n",
    "    FTProps.MaximumGap = 5\n",
    "    EvVar.DetectFishTracks(processParams.evParams.classExport);\n",
    "    EvFile.Properties.Export.Mode=1\n",
    "    for item in processParams.evParams.trackExportItems:\n",
    "        EvFile.Properties.Export.Variables.Item(item).Enabled=1\n",
    "    EvFile.Properties.Export\n",
    "    exporttest = EvVar.ExportFishTracksByRegionsAll('E:/MooredEchosounders/data/analysisFiles/trackCompare/'+file[-11:-3]+'_4d.csv')\n",
    "    EvFile.Close()\n",
    "    EvApp.Quit()"
   ]
  },
  {
   "cell_type": "code",
   "execution_count": 139,
   "metadata": {},
   "outputs": [
    {
     "name": "stdout",
     "output_type": "stream",
     "text": [
      "E:\\MooredEchosounders\\data\\2018\\EVFiles\\DAFT1\\LoadedData-NOAA1-20170815-20170821.EV\n",
      "E:\\MooredEchosounders\\data\\2018\\EVFiles\\DAFT1\\LoadedData-NOAA1-20170822-20170828.EV\n",
      "E:\\MooredEchosounders\\data\\2018\\EVFiles\\DAFT1\\LoadedData-NOAA1-20170829-20170904.EV\n",
      "E:\\MooredEchosounders\\data\\2018\\EVFiles\\DAFT1\\LoadedData-NOAA1-20170905-20170911.EV\n",
      "E:\\MooredEchosounders\\data\\2018\\EVFiles\\DAFT1\\LoadedData-NOAA1-20170912-20170918.EV\n",
      "E:\\MooredEchosounders\\data\\2018\\EVFiles\\DAFT1\\LoadedData-NOAA1-20170919-20170925.EV\n",
      "E:\\MooredEchosounders\\data\\2018\\EVFiles\\DAFT1\\LoadedData-NOAA1-20170926-20171002.EV\n",
      "E:\\MooredEchosounders\\data\\2018\\EVFiles\\DAFT1\\LoadedData-NOAA1-20171003-20171009.EV\n",
      "E:\\MooredEchosounders\\data\\2018\\EVFiles\\DAFT1\\LoadedData-NOAA1-20171010-20171016.EV\n",
      "E:\\MooredEchosounders\\data\\2018\\EVFiles\\DAFT1\\LoadedData-NOAA1-20171017-20171023.EV\n",
      "E:\\MooredEchosounders\\data\\2018\\EVFiles\\DAFT1\\LoadedData-NOAA1-20171024-20171030.EV\n",
      "E:\\MooredEchosounders\\data\\2018\\EVFiles\\DAFT1\\LoadedData-NOAA1-20171031-20171106.EV\n",
      "E:\\MooredEchosounders\\data\\2018\\EVFiles\\DAFT1\\LoadedData-NOAA1-20171107-20171113.EV\n",
      "E:\\MooredEchosounders\\data\\2018\\EVFiles\\DAFT1\\LoadedData-NOAA1-20171114-20171120.EV\n",
      "E:\\MooredEchosounders\\data\\2018\\EVFiles\\DAFT1\\LoadedData-NOAA1-20171121-20171127.EV\n",
      "E:\\MooredEchosounders\\data\\2018\\EVFiles\\DAFT1\\LoadedData-NOAA1-20171128-20171204.EV\n",
      "E:\\MooredEchosounders\\data\\2018\\EVFiles\\DAFT1\\LoadedData-NOAA1-20171205-20171211.EV\n",
      "E:\\MooredEchosounders\\data\\2018\\EVFiles\\DAFT1\\LoadedData-NOAA1-20171212-20171218.EV\n",
      "E:\\MooredEchosounders\\data\\2018\\EVFiles\\DAFT1\\LoadedData-NOAA1-20171219-20171225.EV\n",
      "E:\\MooredEchosounders\\data\\2018\\EVFiles\\DAFT1\\LoadedData-NOAA1-20171226-20180101.EV\n",
      "E:\\MooredEchosounders\\data\\2018\\EVFiles\\DAFT1\\LoadedData-NOAA1-20180102-20180108.EV\n",
      "E:\\MooredEchosounders\\data\\2018\\EVFiles\\DAFT1\\LoadedData-NOAA1-20180109-20180115.EV\n",
      "E:\\MooredEchosounders\\data\\2018\\EVFiles\\DAFT1\\LoadedData-NOAA1-20180116-20180122.EV\n",
      "E:\\MooredEchosounders\\data\\2018\\EVFiles\\DAFT1\\LoadedData-NOAA1-20180123-20180129.EV\n",
      "E:\\MooredEchosounders\\data\\2018\\EVFiles\\DAFT1\\LoadedData-NOAA1-20180130-20180205.EV\n",
      "E:\\MooredEchosounders\\data\\2018\\EVFiles\\DAFT1\\LoadedData-NOAA1-20180206-20180212.EV\n",
      "E:\\MooredEchosounders\\data\\2018\\EVFiles\\DAFT1\\LoadedData-NOAA1-20180213-20180219.EV\n",
      "E:\\MooredEchosounders\\data\\2018\\EVFiles\\DAFT1\\LoadedData-NOAA1-20180220-20180226.EV\n",
      "E:\\MooredEchosounders\\data\\2018\\EVFiles\\DAFT1\\LoadedData-NOAA1-20180227-20180305.EV\n",
      "E:\\MooredEchosounders\\data\\2018\\EVFiles\\DAFT1\\LoadedData-NOAA1-20180306-20180312.EV\n",
      "E:\\MooredEchosounders\\data\\2018\\EVFiles\\DAFT1\\LoadedData-NOAA1-20180313-20180319.EV\n",
      "E:\\MooredEchosounders\\data\\2018\\EVFiles\\DAFT1\\LoadedData-NOAA1-20180320-20180326.EV\n",
      "E:\\MooredEchosounders\\data\\2018\\EVFiles\\DAFT1\\LoadedData-NOAA1-20180327-20180402.EV\n",
      "E:\\MooredEchosounders\\data\\2018\\EVFiles\\DAFT1\\LoadedData-NOAA1-20180403-20180409.EV\n",
      "E:\\MooredEchosounders\\data\\2018\\EVFiles\\DAFT1\\LoadedData-NOAA1-20180410-20180416.EV\n",
      "E:\\MooredEchosounders\\data\\2018\\EVFiles\\DAFT1\\LoadedData-NOAA1-20180417-20180423.EV\n",
      "E:\\MooredEchosounders\\data\\2018\\EVFiles\\DAFT1\\LoadedData-NOAA1-20180424-20180430.EV\n",
      "E:\\MooredEchosounders\\data\\2018\\EVFiles\\DAFT1\\LoadedData-NOAA1-20180501-20180507.EV\n",
      "E:\\MooredEchosounders\\data\\2018\\EVFiles\\DAFT1\\LoadedData-NOAA1-20180508-20180514.EV\n",
      "E:\\MooredEchosounders\\data\\2018\\EVFiles\\DAFT1\\LoadedData-NOAA1-20180515-20180521.EV\n",
      "E:\\MooredEchosounders\\data\\2018\\EVFiles\\DAFT1\\LoadedData-NOAA1-20180522-20180528.EV\n",
      "E:\\MooredEchosounders\\data\\2018\\EVFiles\\DAFT1\\LoadedData-NOAA1-20180529-20180604.EV\n",
      "E:\\MooredEchosounders\\data\\2018\\EVFiles\\DAFT1\\LoadedData-NOAA1-20180605-20180611.EV\n",
      "E:\\MooredEchosounders\\data\\2018\\EVFiles\\DAFT1\\LoadedData-NOAA1-20180612-20180618.EV\n",
      "E:\\MooredEchosounders\\data\\2018\\EVFiles\\DAFT1\\LoadedData-NOAA1-20180619-20180625.EV\n",
      "E:\\MooredEchosounders\\data\\2018\\EVFiles\\DAFT1\\LoadedData-NOAA1-20180626-20180702.EV\n",
      "E:\\MooredEchosounders\\data\\2018\\EVFiles\\DAFT1\\LoadedData-NOAA1-20180703-20180709.EV\n",
      "E:\\MooredEchosounders\\data\\2018\\EVFiles\\DAFT1\\LoadedData-NOAA1-20180710-20180716.EV\n",
      "E:\\MooredEchosounders\\data\\2018\\EVFiles\\DAFT1\\LoadedData-NOAA1-20180717-20180723.EV\n",
      "E:\\MooredEchosounders\\data\\2018\\EVFiles\\DAFT1\\LoadedData-NOAA1-20180724-20180730.EV\n",
      "E:\\MooredEchosounders\\data\\2018\\EVFiles\\DAFT1\\LoadedData-NOAA1-20180731-20180806.EV\n",
      "E:\\MooredEchosounders\\data\\2018\\EVFiles\\DAFT1\\LoadedData-NOAA1-20180807-20180811.EV\n",
      "E:\\MooredEchosounders\\data\\2018\\EVFiles\\DAFT1\\LoadedData-NOAA1-20170808-20170814.EV\n"
     ]
    },
    {
     "data": {
      "text/plain": [
       "True"
      ]
     },
     "execution_count": 139,
     "metadata": {},
     "output_type": "execute_result"
    }
   ],
   "source": [
    "newFiles = []\n",
    "EvApp = win32com.client.Dispatch(\"EchoviewCom.EvApplication\")\n",
    "EvApp.Minimize()\n",
    "for file in files:\n",
    "    print(file)\n",
    "    start = time.time()\n",
    "    EvFile = EvApp.OpenFile(file)\n",
    "    EvFileSet = EvFile.FileSets.FindByName('Fileset1') # replace with params value\n",
    "    EvFileSet.SetCalibrationFile(processParams.evParams.calFile)\n",
    "    EvVar = EvFile.Variables.FindByName(processParams.evParams.singleTargetVar) \n",
    "    EvVar.Properties.Analysis.ExcludeAboveLine = processParams.evParams.excludeAbove\n",
    "    EvVar.Properties.Analysis.ExcludeBelowLine = processParams.evParams.excludeBelow\n",
    "    EvVar.DetectFishTracks(processParams.evParams.classExport);\n",
    "    EvFile.Properties.Export.Mode=1\n",
    "    for item in processParams.evParams.trackExportItems:\n",
    "        EvFile.Properties.Export.Variables.Item(item).Enabled=1\n",
    "    EvFile.Properties.Export\n",
    "    exporttest = EvVar.ExportFishTracksByRegionsAll('E:/MooredEchosounders/data/analysisFiles/trackCompare/'+file[-11:-3]+'_2d.csv')\n",
    "    EvFile.Close()\n",
    "EvApp.Quit()"
   ]
  },
  {
   "cell_type": "code",
   "execution_count": 1,
   "metadata": {},
   "outputs": [],
   "source": [
    "from glob import glob\n",
    "import pandas as pd\n",
    "from tqdm.notebook import tqdm\n",
    "import numpy as np\n",
    "import plotly.graph_objs as go\n",
    "from scipy.interpolate import splprep,splev\n",
    "import math\n",
    "import matplotlib.pyplot as plt\n",
    "import statsmodels.api as sm\n",
    "\n",
    "# Using Echoview terminology, so Major = X, Minor = Y\n",
    "def targetSpline(df, processID, regionID):\n",
    "    df = df[(df.Region_ID==regionID) & (df.Process_ID==processID)]\n",
    "    tck, u  = splprep([df.Distance_major_axis, df.Distance_minor_axis,df.Target_true_depth],k=3)\n",
    "    x_knots, y_knots, z_knots = splev(np.linspace(0,1,len(df.Distance_major_axis)-1), tck)\n",
    "    return x_knots, y_knots, z_knots \n",
    "\n",
    "def regionStats2(dfR,dfT,processParams):\n",
    "    x_knots, y_knots, z_knots = targetSpline(dfT, dfR.Process_ID, dfR.Region_ID)\n",
    "    coords = [j for j in zip(x_knots,y_knots,z_knots)]\n",
    "    d = np.diff(coords, axis=0)\n",
    "    segdistsS = np.hypot(d[:,0], d[:,1],d[:,2])\n",
    "    a = []\n",
    "    for i in range(len(x_knots)-1):\n",
    "        a.append(direction_lookup(processParams,x_knots[i+1],x_knots[i],y_knots[i+1],y_knots[i]))\n",
    "    tDirS = np.mean(a)\n",
    "\n",
    "    # This is the 'direct' spline version of this\n",
    "    x_knots = [x_knots[i] for i in (0, -1)]\n",
    "    y_knots = [y_knots[i] for i in (0, -1)]\n",
    "    z_knots = [z_knots[i] for i in (0, -1)]\n",
    "    coords = [j for j in zip(x_knots,y_knots,z_knots)]\n",
    "    d = np.diff(coords, axis=0)\n",
    "    segdistsD = np.hypot(d[:,0], d[:,1],d[:,2])\n",
    "    tDirD = direction_lookup(processParams,x_knots[1],x_knots[0],y_knots[1],y_knots[0])\n",
    "        \n",
    "    # This is the linear fit version of this, getting heading from the X/Y against ping number separately \n",
    "    dfCur = dfT[(dfT.Process_ID==dfR.Process_ID)&(dfT.Region_ID==dfR.Region_ID)]\n",
    "    x = dfCur.Ping_number\n",
    "    X = sm.add_constant(x)\n",
    "    y = dfCur.Distance_major_axis\n",
    "    model = sm.OLS(y, X).fit()\n",
    "    predictions = model.predict(X) # make the predictions by the model\n",
    "    dMaj = predictions.to_numpy()\n",
    "\n",
    "    y = dfCur.Distance_minor_axis\n",
    "    model = sm.OLS(y, X).fit()\n",
    "    predictions = model.predict(X) # make the predictions by the model\n",
    "    dMin = predictions.to_numpy()\n",
    "    \n",
    "    y = dfCur.Target_true_depth\n",
    "    model = sm.OLS(y, X).fit()\n",
    "    predictions = model.predict(X) # make the predictions by the model\n",
    "    dZ = predictions.to_numpy()\n",
    "\n",
    "    z_knots = [dZ[0],dZ[-1]]\n",
    "    x_knots = [dMaj[0],dMaj[-1]]\n",
    "    y_knots = [dMin[0],dMin[-1]]\n",
    "    \n",
    "    tDirL = direction_lookup(processParams,x_knots[1],x_knots[0],y_knots[1],y_knots[0])\n",
    "    \n",
    "    coords = [j for j in zip(x_knots,y_knots,z_knots)]\n",
    "    d = np.diff(coords, axis=0)\n",
    "    segdistsL = np.hypot(d[:,0], d[:,1],d[:,2])\n",
    "    \n",
    "    tSpeedS=segdistsS.sum()/((dfT[(dfT.Process_ID == dfR.Process_ID)& (dfT.Region_ID == dfR.Region_ID)].Ping_number.max() - dfT[(dfT.Process_ID == dfR.Process_ID)& (dfT.Region_ID == dfR.Region_ID)].Ping_number.min())*.4)\n",
    "    tSpeedD=segdistsD.sum()/((dfT[(dfT.Process_ID == dfR.Process_ID)& (dfT.Region_ID == dfR.Region_ID)].Ping_number.max() - dfT[(dfT.Process_ID == dfR.Process_ID)& (dfT.Region_ID == dfR.Region_ID)].Ping_number.min())*.4)\n",
    "    tSpeedL=segdistsL.sum()/((dfT[(dfT.Process_ID == dfR.Process_ID)& (dfT.Region_ID == dfR.Region_ID)].Ping_number.max() - dfT[(dfT.Process_ID == dfR.Process_ID)& (dfT.Region_ID == dfR.Region_ID)].Ping_number.min())*.4)\n",
    "\n",
    "    return tSpeedS, segdistsS.sum(), tDirS, tSpeedD, segdistsD.sum(), tDirD, tSpeedL, segdistsL.sum(), tDirL\n",
    "\n",
    "def direction_lookup(processParams,destination_x, origin_x, destination_y, origin_y):\n",
    "    deltaX = destination_x - origin_x\n",
    "    deltaY = destination_y - origin_y\n",
    "    degrees_temp = math.atan2(deltaX, deltaY)/math.pi*180\n",
    "    # Flip for the inversion due to upward facing Xducer\n",
    "    degrees_temp = 360-degrees_temp\n",
    "    # Correct for the Xducer direction\n",
    "    degrees_temp = (degrees_temp + processParams.wbatParams.mooringCompassOffset-360)\n",
    "    # Whats the magnetic declination at the site?\n",
    "    degrees_temp = degrees_temp + processParams.wbatParams.mooringMagDec\n",
    "    # Convert check if its negative and correct\n",
    "    if degrees_temp > 360:\n",
    "        degrees_final = degrees_temp-360\n",
    "    else:\n",
    "        degrees_final = degrees_temp\n",
    "    return degrees_final\n",
    "\n",
    "def splineDF(dfR, dfT, processParams):\n",
    "    #compassCor = {1:335,2:208,4:250,5:197,6:293}\n",
    "    speedS,distS,headS = [],[],[]\n",
    "    speedD,distD,headD = [],[],[]\n",
    "    speedL,distL,headL = [],[],[]\n",
    "    for index,row in tqdm(dfR.iterrows(),total=len(dfR),desc='Calculating splines'):\n",
    "        sS,dS,hS,sD,dD,hD,sL,dL,hL = regionStats2(row,dfT,processParams)\n",
    "        speedD.append(sD)\n",
    "        distD.append(dD)\n",
    "        headD.append(hD)\n",
    "        speedS.append(sS)\n",
    "        distS.append(dS)\n",
    "        headS.append(hS)\n",
    "        speedL.append(sL)\n",
    "        distL.append(dL)\n",
    "        headL.append(hL)\n",
    "    dfR['directSpeed'] = np.around(np.array(speedD),3)\n",
    "    dfR['directDist'] = np.around(np.array(distD),3)\n",
    "    dfR['directHead'] = np.around(np.array(headD),3)\n",
    "    dfR['smoothedSpeed'] = np.around(np.array(speedS),3)\n",
    "    dfR['smoothedDist'] = np.around(np.array(distS),3)\n",
    "    dfR['smoothedHead'] = np.around(np.array(headS),3)\n",
    "    dfR['linearSpeed'] = np.around(np.array(speedL),3)\n",
    "    dfR['linearDist'] = np.around(np.array(distL),3)\n",
    "    dfR['linearHead'] = np.around(np.array(headL),3)\n",
    "    return dfR\n",
    "\n",
    "def readExports(regionFiles,targetFiles):\n",
    "    dfs = []\n",
    "    for file in regionFiles:\n",
    "        dfs.append(pd.read_csv(file))\n",
    "    dfR = pd.concat(dfs)\n",
    "    dfs = []\n",
    "    for file in targetFiles:\n",
    "        dfs.append(pd.read_csv(file))\n",
    "    dfT = pd.concat(dfs)\n",
    "    cols = np.append(dfT.columns[0:18],['Ping_number']).tolist()\n",
    "    dfT = dfT[cols].drop(columns=['Region_name', 'Region_class'])\n",
    "    dfR = dfR.drop(columns=['Region_name', 'Region_class','Target_length_mean'])\n",
    "    dfR = dfR[dfR.TS_max < -30]\n",
    "    dfT = dfT[dfT.Region_ID.isin(dfR.Region_ID)]\n",
    "    return dfR, dfT\n",
    "\n",
    "\n",
    "def trackPlot(df,processID, regionID, plotElements =['track_smoothed','track','track_direct','targets','track_linear']):\n",
    "    # plotElements: list of elements to include:\n",
    "    # targets: target locations\n",
    "    # track: line between targets\n",
    "    # track_smoothed: Cubic spline with equal resolution to the number of targets\n",
    "    # track_direct: \"flux\" line from start to end target based on spline    \n",
    "    x_knots, y_knots, z_knots = targetSpline(df, processID, regionID)\n",
    "    track_smoothed = go.Scatter3d(x=x_knots, y=y_knots, z=z_knots,mode='lines',name='Smoothed Line')\n",
    "    \n",
    "    track_direct = go.Scatter3d(x=[x_knots[i] for i in (0, -1)], y=[y_knots[i] for i in (0, -1)], z=[z_knots[i] for i in (0, -1)],mode='lines',name='Direct Path')\n",
    "\n",
    "    dfCur = df[(df.Region_ID==regionID) & (df.Process_ID==processID)]\n",
    "    targets=go.Scatter3d(x=dfCur.Distance_major_axis, y=dfCur.Distance_minor_axis, z=dfCur.Target_true_depth,mode='markers',\n",
    "        marker=dict(size=8,color='black', colorscale='plasma',opacity=0.8,colorbar=dict(title='TS',thickness=30),showscale=False),name='Targets')\n",
    "    track = go.Scatter3d(x=dfCur.Distance_major_axis, y=dfCur.Distance_minor_axis, z=dfCur.Target_true_depth,mode='lines',name='Target Line')\n",
    "        \n",
    "     # This is the linear fit version of this, getting heading from the X/Y against ping number separately \n",
    "    x = dfCur.Ping_number\n",
    "    X = sm.add_constant(x)\n",
    "    y = dfCur.Distance_major_axis\n",
    "    model = sm.OLS(y, X).fit()\n",
    "    predictions = model.predict(X) # make the predictions by the model\n",
    "    dMaj = predictions.to_numpy()\n",
    "\n",
    "    y = dfCur.Distance_minor_axis\n",
    "    model = sm.OLS(y, X).fit()\n",
    "    predictions = model.predict(X) # make the predictions by the model\n",
    "    dMin = predictions.to_numpy()\n",
    "\n",
    "    y = dfCur.Target_true_depth\n",
    "    model = sm.OLS(y, X).fit()\n",
    "    predictions = model.predict(X) # make the predictions by the model\n",
    "    dZ = predictions.to_numpy()\n",
    "\n",
    "    z_knots = [dZ[0],dZ[-1]]\n",
    "    x_knots = [dMaj[0],dMaj[-1]]\n",
    "    y_knots = [dMin[0],dMin[-1]]\n",
    "    track_linear = go.Scatter3d(x=x_knots, y=y_knots, z=z_knots,mode='lines',name='Linear fit')\n",
    "    \n",
    "    allElements = {'track_smoothed':track_smoothed,'track':track,'track_direct':track_direct,'targets':targets,'track_linear':track_linear}\n",
    "    fig = go.Figure(data=[allElements[i] for i in plotElements])\n",
    "    split = (np.ceil(np.max([dfCur.Distance_major_axis.max() - dfCur.Distance_major_axis.min(),dfCur.Distance_minor_axis.max() - dfCur.Distance_minor_axis.min(),dfCur.Target_true_depth.max() - dfCur.Target_true_depth.min()]))/2)+.25\n",
    "    fig.update_layout(showlegend=True,scene = dict(xaxis_title='Distance_major_axis',\n",
    "                        yaxis_title='Distance_minor_axis',\n",
    "                        zaxis_title='Depth'),\n",
    "                        #xaxis = dict(nticks=4, range=[np.median(dfCur.Distance_major_axis)-split, np.median(dfCur.Distance_major_axis)+split]),\n",
    "                        #yaxis = dict(nticks=4, range=[np.median(dfCur.Distance_minor_axis)-split, np.median(dfCur.Distance_minor_axis)+split]),\n",
    "                        #zaxis = dict(nticks=4, range=[np.median(dfCur.Target_true_depth)-split, np.median(dfCur.Target_true_depth)+split])),\n",
    "                        width=700,\n",
    "                        margin=dict(r=20, b=10, l=10, t=10))\n",
    "\n",
    "    fig.show()"
   ]
  },
  {
   "cell_type": "code",
   "execution_count": 5,
   "metadata": {},
   "outputs": [
    {
     "data": {
      "application/vnd.jupyter.widget-view+json": {
       "model_id": "66dcc9e8f99342588737b40a0d8aecd2",
       "version_major": 2,
       "version_minor": 0
      },
      "text/plain": [
       "HBox(children=(HTML(value='Calculating splines'), FloatProgress(value=0.0, max=44097.0), HTML(value='')))"
      ]
     },
     "metadata": {},
     "output_type": "display_data"
    },
    {
     "name": "stdout",
     "output_type": "stream",
     "text": [
      "\n"
     ]
    }
   ],
   "source": [
    "from mooringParams import paramsDAFT1 as processParams\n",
    "regionFiles = glob('../data/analysisFiles/trackCompare/*2d (regions).csv')\n",
    "targetFiles = glob('../data/analysisFiles/trackCompare/*2d (targets).csv')\n",
    "dfR2, dfT2 = readExports(regionFiles,targetFiles)\n",
    "dfR2 = splineDF(dfR2, dfT2, processParams)"
   ]
  },
  {
   "cell_type": "code",
   "execution_count": 6,
   "metadata": {},
   "outputs": [
    {
     "data": {
      "application/vnd.jupyter.widget-view+json": {
       "model_id": "810b68de2b5d459c9e6b8f1903661932",
       "version_major": 2,
       "version_minor": 0
      },
      "text/plain": [
       "HBox(children=(HTML(value='Calculating splines'), FloatProgress(value=0.0, max=34416.0), HTML(value='')))"
      ]
     },
     "metadata": {},
     "output_type": "display_data"
    },
    {
     "name": "stdout",
     "output_type": "stream",
     "text": [
      "\n"
     ]
    }
   ],
   "source": [
    "from mooringParams import paramsDAFT1 as processParams\n",
    "regionFiles = glob('../data/analysisFiles/trackCompare/*4d (regions).csv')\n",
    "targetFiles = glob('../data/analysisFiles/trackCompare/*4d (targets).csv')\n",
    "dfR4, dfT4 = readExports(regionFiles,targetFiles)\n",
    "dfR4 = splineDF(dfR4, dfT4, processParams)"
   ]
  },
  {
   "cell_type": "code",
   "execution_count": 7,
   "metadata": {},
   "outputs": [
    {
     "data": {
      "image/png": "[encoded data removed]",
      "text/plain": [
       "<Figure size 432x288 with 1 Axes>"
      ]
     },
     "metadata": {
      "needs_background": "light"
     },
     "output_type": "display_data"
    }
   ],
   "source": [
    "plt.hist(dfR2.linearHead,bins=90, alpha = .5,density=True);\n",
    "plt.hist(dfR4.linearHead,bins=90,alpha=.5,density=True);"
   ]
  },
  {
   "cell_type": "code",
   "execution_count": 8,
   "metadata": {},
   "outputs": [
    {
     "data": {
      "image/png": "[encoded data removed]",
      "text/plain": [
       "<Figure size 432x288 with 1 Axes>"
      ]
     },
     "metadata": {
      "needs_background": "light"
     },
     "output_type": "display_data"
    }
   ],
   "source": [
    "plt.hist(dfR2.linearDist,bins=np.arange(0,5,.05), alpha = .5,density=True);\n",
    "plt.hist(dfR4.linearDist,bins=np.arange(0,5,.05),alpha=.5,density=True);"
   ]
  },
  {
   "cell_type": "code",
   "execution_count": 9,
   "metadata": {},
   "outputs": [
    {
     "data": {
      "image/png": "[encoded data removed]",
      "text/plain": [
       "<Figure size 432x288 with 1 Axes>"
      ]
     },
     "metadata": {
      "needs_background": "light"
     },
     "output_type": "display_data"
    }
   ],
   "source": [
    "plt.hist(dfR2.linearSpeed,bins=np.arange(0,1.5,.01), alpha = .5,density=True);\n",
    "plt.hist(dfR4.linearSpeed,bins=np.arange(0,1.5,.01),alpha=.5,density=True);"
   ]
  },
  {
   "cell_type": "code",
   "execution_count": 157,
   "metadata": {},
   "outputs": [
    {
     "name": "stdout",
     "output_type": "stream",
     "text": [
      "Major Distance Mean: -0.10764094604853655\n",
      "Minor Distance STD: 0.7116448107345785\n",
      "Major Distance Mean: 0.09412192561681108\n",
      "Minor Distance STD: 0.6880410035299341\n",
      "Depth Mean: 0.0005966109562052293\n",
      "Depth STD: 0.03539002581430761\n",
      "> 3 SD:  0.0052760756682750905 0.0100345616349156\n",
      "353  out of  5000  rejected with a threshold of 3 degrees\n",
      "Max:  11.8616 10.2758 0.5522540000000014\n"
     ]
    },
    {
     "data": {
      "image/png": "[encoded data removed]",
      "text/plain": [
       "<Figure size 1512x432 with 3 Axes>"
      ]
     },
     "metadata": {
      "needs_background": "light"
     },
     "output_type": "display_data"
    }
   ],
   "source": [
    "df = dfR2.sample(5000) # Let's get the distances from target to target for a random sample of tracks in all 5 moorings\n",
    "dft = dfT2\n",
    "dMin,dMaj,dZ,aF = [],[],[],[]\n",
    "for index, row in df.iterrows():\n",
    "    curTrack = dft[(dft.Process_ID==row.Process_ID)&(dft.Region_ID==row.Region_ID)]\n",
    "    aFlag=0\n",
    "    for i in range(len(curTrack)-1):\n",
    "        dMin.append((curTrack.iloc[i+1].Angle_minor_axis - curTrack.iloc[i].Angle_minor_axis)/(curTrack.iloc[i+1].Ping_number - curTrack.iloc[i].Ping_number))\n",
    "        dMaj.append((curTrack.iloc[i+1].Angle_major_axis - curTrack.iloc[i].Angle_major_axis)/(curTrack.iloc[i+1].Ping_number - curTrack.iloc[i].Ping_number))\n",
    "        dZ.append((curTrack.iloc[i+1].Target_true_depth - curTrack.iloc[i].Target_true_depth)/(curTrack.iloc[i+1].Ping_number - curTrack.iloc[i].Ping_number))\n",
    "        if abs(((curTrack.iloc[i+1].Angle_minor_axis - curTrack.iloc[i].Angle_minor_axis)/(curTrack.iloc[i+1].Ping_number - curTrack.iloc[i].Ping_number))) >3:\n",
    "            aFlag = 1\n",
    "        if abs(((curTrack.iloc[i+1].Angle_major_axis - curTrack.iloc[i].Angle_major_axis)/(curTrack.iloc[i+1].Ping_number - curTrack.iloc[i].Ping_number))) >3:\n",
    "            aFlag = 1\n",
    "    aF.append(aFlag)\n",
    "\n",
    "df['aFlag'] = aF\n",
    "fig = plt.figure(figsize=(21,6))        \n",
    "plt.subplot(131)\n",
    "plt.hist(dMin,bins=np.arange(-2.5,2.5,.05),density=True)\n",
    "plt.xlabel('Major axis neighbor spacing (m)')\n",
    "plt.subplot(132)\n",
    "plt.hist(dMaj,bins=np.arange(-2.5,2.5,.05),density=True)\n",
    "plt.xlabel('Minor axis neighbor spacing (m)')\n",
    "plt.subplot(133)\n",
    "plt.hist(dZ,bins=np.arange(-.25,.25,.005),density=True)\n",
    "plt.xlabel('Z neighbor spacing (m)')\n",
    "print('Major Distance Mean:',np.mean(dMaj))\n",
    "print('Minor Distance STD:',np.std(dMaj))\n",
    "print('Major Distance Mean:',np.mean(dMin))\n",
    "print('Minor Distance STD:',np.std(dMin))\n",
    "print('Depth Mean:',np.mean(dZ))\n",
    "print('Depth STD:',np.std(dZ))\n",
    "dMaj = np.array(dMaj)\n",
    "dMin = np.array(dMin)\n",
    "print('> 3 SD: ',len(dMaj[dMaj>np.std(dMaj)*3])/len(dMaj),len(dMin[dMin>np.std(dMin)*3])/len(dMin))\n",
    "print(len(df[df.aFlag == 1]), ' out of ',len(df), ' rejected with a threshold of 3 degrees')\n",
    "print('Max: ',np.max(dMaj), np.max(dMin),np.max(dZ))"
   ]
  },
  {
   "cell_type": "code",
   "execution_count": 171,
   "metadata": {},
   "outputs": [
    {
     "name": "stdout",
     "output_type": "stream",
     "text": [
      "Major Distance Mean: -0.09802909751112066\n",
      "Minor Distance STD: 0.6461319068210736\n",
      "Major Distance Mean: 0.08716409247971556\n",
      "Minor Distance STD: 0.628828416281513\n",
      "Depth Mean: 0.00047810540855288184\n",
      "Depth STD: 0.03033412991159539\n",
      "> 3 SD:  0.006028064146620848 0.00851947308132875\n",
      "244  out of  5000  rejected with a threshold of 3 degrees\n",
      "Max:  11.599 10.921 0.4910560000000004\n"
     ]
    },
    {
     "data": {
      "image/png": "[encoded data removed]",
      "text/plain": [
       "<Figure size 1512x432 with 3 Axes>"
      ]
     },
     "metadata": {
      "needs_background": "light"
     },
     "output_type": "display_data"
    }
   ],
   "source": [
    "df = dfR4.sample(5000) # Let's get the distances from target to target for a random sample of tracks in all 5 moorings\n",
    "dft = dfT4\n",
    "dMin,dMaj,dZ,aF = [],[],[],[]\n",
    "for index, row in df.iterrows():\n",
    "    curTrack = dft[(dft.Process_ID==row.Process_ID)&(dft.Region_ID==row.Region_ID)]\n",
    "    aFlag=0\n",
    "    for i in range(len(curTrack)-1):\n",
    "        if len(curTrack.Ping_number.unique()) != len(curTrack.Ping_number):\n",
    "            aFlag=2\n",
    "            break\n",
    "        dMin.append((curTrack.iloc[i+1].Angle_minor_axis - curTrack.iloc[i].Angle_minor_axis)/(curTrack.iloc[i+1].Ping_number - curTrack.iloc[i].Ping_number))\n",
    "        dMaj.append((curTrack.iloc[i+1].Angle_major_axis - curTrack.iloc[i].Angle_major_axis)/(curTrack.iloc[i+1].Ping_number - curTrack.iloc[i].Ping_number))\n",
    "        dZ.append((curTrack.iloc[i+1].Target_true_depth - curTrack.iloc[i].Target_true_depth)/(curTrack.iloc[i+1].Ping_number - curTrack.iloc[i].Ping_number))\n",
    "        if abs(((curTrack.iloc[i+1].Angle_minor_axis - curTrack.iloc[i].Angle_minor_axis)/(curTrack.iloc[i+1].Ping_number - curTrack.iloc[i].Ping_number))) >3:\n",
    "            aFlag = 1\n",
    "        if abs(((curTrack.iloc[i+1].Angle_major_axis - curTrack.iloc[i].Angle_major_axis)/(curTrack.iloc[i+1].Ping_number - curTrack.iloc[i].Ping_number))) >3:\n",
    "            aFlag = 1\n",
    "    aF.append(aFlag)\n",
    "\n",
    "df['aFlag'] = aF\n",
    "fig = plt.figure(figsize=(21,6))        \n",
    "plt.subplot(131)\n",
    "plt.hist(dMin,bins=np.arange(-2.5,2.5,.05),density=True)\n",
    "plt.xlabel('Major axis neighbor spacing (m)')\n",
    "plt.subplot(132)\n",
    "plt.hist(dMaj,bins=np.arange(-2.5,2.5,.05),density=True)\n",
    "plt.xlabel('Minor axis neighbor spacing (m)')\n",
    "plt.subplot(133)\n",
    "plt.hist(dZ,bins=np.arange(-.25,.25,.005),density=True)\n",
    "plt.xlabel('Z neighbor spacing (m)')\n",
    "print('Major Distance Mean:',np.mean(dMaj))\n",
    "print('Minor Distance STD:',np.std(dMaj))\n",
    "print('Major Distance Mean:',np.mean(dMin))\n",
    "print('Minor Distance STD:',np.std(dMin))\n",
    "print('Depth Mean:',np.mean(dZ))\n",
    "print('Depth STD:',np.std(dZ))\n",
    "dMaj = np.array(dMaj)\n",
    "dMin = np.array(dMin)\n",
    "print('> 3 SD: ',len(dMaj[dMaj>np.std(dMaj)*3])/len(dMaj),len(dMin[dMin>np.std(dMin)*3])/len(dMin))\n",
    "print(len(df[df.aFlag == 1]), ' out of ',len(df), ' rejected with a threshold of 3 degrees')\n",
    "print('Max: ',np.max(dMaj), np.max(dMin),np.max(dZ))"
   ]
  },
  {
   "cell_type": "code",
   "execution_count": 176,
   "metadata": {},
   "outputs": [
    {
     "data": {
      "image/png": "[encoded data removed]",
      "text/plain": [
       "<Figure size 432x288 with 1 Axes>"
      ]
     },
     "metadata": {
      "needs_background": "light"
     },
     "output_type": "display_data"
    }
   ],
   "source": [
    "df['headDiff'] =180 - abs(abs(df.linearHead - df.directHead) - 180)\n",
    "#angle = 180 - abs(abs(dfR4.linearHead - dfR4.directHead) - 180); \n",
    "#dfR4.sort_values('headDiff',ascending=False).iloc[:50]\n",
    "plt.hist(df.headDiff,bins=90);\n",
    "dfR2['headDiff'] =180 - abs(abs(dfR2.linearHead - dfR2.directHead) - 180)\n",
    "#angle = 180 - abs(abs(dfR4.linearHead - dfR4.directHead) - 180); \n",
    "#dfR4.sort_values('headDiff',ascending=False).iloc[:50]\n",
    "#plt.hist(dfR2.headDiff,bins=90,density=True);"
   ]
  },
  {
   "cell_type": "code",
   "execution_count": 192,
   "metadata": {},
   "outputs": [
    {
     "name": "stdout",
     "output_type": "stream",
     "text": [
      "57\n"
     ]
    },
    {
     "name": "stderr",
     "output_type": "stream",
     "text": [
      "<ipython-input-192-c30659801f16>:3: SettingWithCopyWarning:\n",
      "\n",
      "\n",
      "A value is trying to be set on a copy of a slice from a DataFrame.\n",
      "Try using .loc[row_indexer,col_indexer] = value instead\n",
      "\n",
      "See the caveats in the documentation: https://pandas.pydata.org/pandas-docs/stable/user_guide/indexing.html#returning-a-view-versus-a-copy\n",
      "\n"
     ]
    },
    {
     "data": {
      "image/png": "[encoded data removed]",
      "text/plain": [
       "<Figure size 432x288 with 1 Axes>"
      ]
     },
     "metadata": {
      "needs_background": "light"
     },
     "output_type": "display_data"
    }
   ],
   "source": [
    "df1 =df[df.aFlag==0]\n",
    "print(len(df1[df1.headDiff > 100]))\n",
    "df1['headDiff'] =180 - abs(abs(df1.linearHead - df1.directHead) - 180)\n",
    "plt.hist(df1.headDiff,bins=90);"
   ]
  },
  {
   "cell_type": "code",
   "execution_count": 191,
   "metadata": {},
   "outputs": [
    {
     "name": "stdout",
     "output_type": "stream",
     "text": [
      "69\n"
     ]
    },
    {
     "data": {
      "image/png": "[encoded data removed]",
      "text/plain": [
       "<Figure size 432x288 with 1 Axes>"
      ]
     },
     "metadata": {
      "needs_background": "light"
     },
     "output_type": "display_data"
    }
   ],
   "source": [
    "df1 = df\n",
    "print(len(df1[df1.headDiff > 100]))\n",
    "df1['headDiff'] =180 - abs(abs(df1.linearHead - df1.directHead) - 180)\n",
    "plt.hist(df1.headDiff,bins=90);"
   ]
  }
 ],
 "metadata": {
  "kernelspec": {
   "display_name": "Python 3",
   "language": "python",
   "name": "python3"
  },
  "language_info": {
   "codemirror_mode": {
    "name": "ipython",
    "version": 3
   },
   "file_extension": ".py",
   "mimetype": "text/x-python",
   "name": "python",
   "nbconvert_exporter": "python",
   "pygments_lexer": "ipython3",
   "version": "3.8.5"
  }
 },
 "nbformat": 4,
 "nbformat_minor": 4
}
