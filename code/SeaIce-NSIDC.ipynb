{
 "cells": [
  {
   "cell_type": "code",
   "execution_count": 1,
   "metadata": {},
   "outputs": [],
   "source": [
    "C11 = 70.0136, -166.85755\n",
    "C1 = 70.8357, -163.1044\n",
    "C4 = 71.038916, -160.50353\n",
    "\n",
    "from glob import glob\n",
    "import numpy as np\n",
    "from evFileProcessing import evFuncs # ev COM functions\n",
    "import matplotlib.pyplot as plt\n",
    "import pandas as pd\n",
    "import warnings\n",
    "import numpy as np\n",
    "warnings.filterwarnings('ignore')\n",
    "import urllib.request\n",
    "import xarray as xr\n",
    "import io\n",
    "from tqdm.notebook import tqdm\n",
    "def naive_fast(latvar,lonvar,lat0,lon0):\n",
    "    # Read latitude and longitude from file into numpy arrays\n",
    "    latvals = latvar[:]\n",
    "    lonvals = lonvar[:]\n",
    "    ny,nx = latvals.shape\n",
    "    dist_sq = (latvals-lat0)**2 + (lonvals-lon0)**2\n",
    "    minindex_flattened = dist_sq.argmin()  # 1D index of min element\n",
    "    iy_min,ix_min = np.unravel_index(minindex_flattened, latvals.shape)\n",
    "    return iy_min,ix_min\n",
    "\n",
    "filesD1Y1 = glob('../data/2018/EVFiles/DAFT1/exports/Loaded*.csv')\n",
    "filesD1Y2 = glob('../data/2019/EVFiles/DAFT1/exports/Loaded*.csv')\n",
    "filesD2Y1 = glob('../data/2018/EVFiles/DAFT2/exports/Loaded*.csv')\n",
    "filesD2Y2 = glob('../data/2019/EVFiles/DAFT2/exports/Loaded*.csv')\n",
    "filesD3Y2 = glob('../data/2019/EVFiles/DAFT3/exports/Loaded*.csv')\n",
    "dfD1 = evFuncs.evExports.readEvExports(filesD1Y1+filesD1Y2)\n",
    "dfD1.name = 'D1'\n",
    "dfD2 = evFuncs.evExports.readEvExports(filesD2Y1+filesD2Y2)\n",
    "dfD2.name = 'D2'\n",
    "dfD3 = evFuncs.evExports.readEvExports(filesD3Y2)\n",
    "dfD3.name = 'D3'"
   ]
  },
  {
   "cell_type": "code",
   "execution_count": null,
   "metadata": {},
   "outputs": [],
   "source": [
    "import urllib.request\n",
    "import xarray as xr\n",
    "import io\n",
    "url = 'ftp://sidads.colorado.edu/pub/DATASETS/NOAA/G02202_V3/north/daily/2017/seaice_conc_daily_nh_f17_20170801_v03r01.nc'\n",
    "req = urllib.request.Request(url)\n",
    "with urllib.request.urlopen(req) as resp:\n",
    "    ds = xr.open_dataset(io.BytesIO(resp.read()))\n",
    "ds"
   ]
  },
  {
   "cell_type": "code",
   "execution_count": 11,
   "metadata": {},
   "outputs": [],
   "source": [
    "# Get the x,y for each mooring\n",
    "url = 'ftp://sidads.colorado.edu/pub/DATASETS/NOAA/G02202_V3/north/daily/2017/seaice_conc_daily_nh_f17_20170801_v03r01.nc'\n",
    "req = urllib.request.Request(url)\n",
    "with urllib.request.urlopen(req) as resp:\n",
    "    ds = xr.open_dataset(io.BytesIO(resp.read()))\n",
    "iyC11,ixC11 = naive_fast(ds.latitude, ds.longitude, C11[0], C11[1])\n",
    "iyC4,ixC4 = naive_fast(ds.latitude, ds.longitude, C4[0], C4[1])\n",
    "iyC1,ixC1 = naive_fast(ds.latitude, ds.longitude, C1[0], C1[1])\n",
    "ds.close()"
   ]
  },
  {
   "cell_type": "code",
   "execution_count": 44,
   "metadata": {},
   "outputs": [],
   "source": [
    "# This is the function for the data requests\n",
    "def buildNSIDCice(df, iy,ix,fnameOut=False):\n",
    "    dates = df.datetime.map(lambda x: x.strftime('%Y%m%d')).astype(str).unique()\n",
    "    iceC = []\n",
    "    for date in tqdm(dates):\n",
    "        url = 'ftp://sidads.colorado.edu/pub/DATASETS/NOAA/G02202_V3/north/daily/'+date[:4]+'/seaice_conc_daily_nh_f17_'+date+'_v03r01.nc'\n",
    "        req = urllib.request.Request(url)\n",
    "        with urllib.request.urlopen(req) as resp:\n",
    "            ds = xr.open_dataset(io.BytesIO(resp.read()))\n",
    "        iceC.append(ds.seaice_conc_cdr[0,iy,ix].values)\n",
    "        ds.close\n",
    "    dfNew = pd.DataFrame({'datetime':dates,'iceC':iceC})\n",
    "    if fnameOut==False:\n",
    "        return dfNew\n",
    "    else:\n",
    "        dfNew.to_csv(fnameOut,index=False)\n",
    "        return dfNew"
   ]
  },
  {
   "cell_type": "code",
   "execution_count": null,
   "metadata": {},
   "outputs": [],
   "source": [
    "# Run the build\n",
    "dfNew = buildNSIDCice(dfD3, iyC4, ixC4,'C4_NSIDC.csv')"
   ]
  },
  {
   "cell_type": "code",
   "execution_count": 58,
   "metadata": {},
   "outputs": [],
   "source": [
    "dfIceC1 = pd.read_csv('../data/physicalData/C1_NSIDC2.csv')\n",
    "dfIceC4 = pd.read_csv('../data/physicalData/C4_NSIDC2.csv')\n",
    "dfIceC11 = pd.read_csv('../data/physicalData/C11_NSIDC2.csv')"
   ]
  },
  {
   "cell_type": "code",
   "execution_count": 65,
   "metadata": {},
   "outputs": [
    {
     "data": {
      "text/plain": [
       "<AxesSubplot:>"
      ]
     },
     "execution_count": 65,
     "metadata": {},
     "output_type": "execute_result"
    },
    {
     "data": {
      "image/png": "[encoded data removed]",
      "text/plain": [
       "<Figure size 432x288 with 1 Axes>"
      ]
     },
     "metadata": {
      "needs_background": "light"
     },
     "output_type": "display_data"
    }
   ],
   "source": [
    "dfIceC1.iceC.plot()\n",
    "dfIceC11.iceC.plot()\n",
    "dfIceC4.iceC.plot()"
   ]
  },
  {
   "cell_type": "markdown",
   "metadata": {},
   "source": [
    "# Make giant data file"
   ]
  },
  {
   "cell_type": "code",
   "execution_count": 7,
   "metadata": {},
   "outputs": [],
   "source": [
    "from datetime import date, timedelta\n",
    "startdate = date(int(2017), int(1), int(1))\n",
    "s = []\n",
    "while startdate < date(int(2020), int(1), int(1)):\n",
    "    s.append(startdate)\n",
    "    startdate += timedelta(days=1)"
   ]
  },
  {
   "cell_type": "code",
   "execution_count": null,
   "metadata": {},
   "outputs": [],
   "source": [
    "# This is the function for the data requests\n",
    "\n",
    "def buildNSIDCiceAll(dates, iy,ix,fnameOut=False):\n",
    "    iceC = []\n",
    "    for d in tqdm(dates):\n",
    "        d = d.strftime('%Y%m%d')\n",
    "        print(d)\n",
    "        url = 'ftp://sidads.colorado.edu/pub/DATASETS/NOAA/G02202_V3/north/daily/'+d[:4]+'/seaice_conc_daily_nh_f17_'+d+'_v03r01.nc'\n",
    "        req = urllib.request.Request(url)\n",
    "        with urllib.request.urlopen(req) as resp:\n",
    "            ds = xr.open_dataset(io.BytesIO(resp.read()))\n",
    "        iceC.append(ds.seaice_conc_cdr[0,iy,ix].values)\n",
    "        ds.close\n",
    "    dfNew = pd.DataFrame({'datetime':dates,'iceC':iceC})\n",
    "    if fnameOut==False:\n",
    "        return dfNew\n",
    "    else:\n",
    "        dfNew.to_csv(fnameOut,index=False)\n",
    "        return dfNew\n",
    "\n",
    "dates = s\n",
    "buildNSIDCiceAll(dates,iyC11, ixC11,fnameOut='../data/physicalData/C11_NSIDC2.csv')"
   ]
  }
 ],
 "metadata": {
  "kernelspec": {
   "display_name": "Python 3",
   "language": "python",
   "name": "python3"
  },
  "language_info": {
   "codemirror_mode": {
    "name": "ipython",
    "version": 3
   },
   "file_extension": ".py",
   "mimetype": "text/x-python",
   "name": "python",
   "nbconvert_exporter": "python",
   "pygments_lexer": "ipython3",
   "version": "3.8.5"
  }
 },
 "nbformat": 4,
 "nbformat_minor": 4
}
