{
 "cells": [
  {
   "cell_type": "code",
   "execution_count": 8,
   "metadata": {},
   "outputs": [],
   "source": [
    "from glob import glob\n",
    "import pandas as pd\n",
    "from tqdm.notebook import tqdm\n",
    "import numpy as np\n",
    "import plotly.graph_objs as go\n",
    "from mooringParams import paramsDAFT1 as processParams # Each mooring has a specific params file with "
   ]
  },
  {
   "cell_type": "code",
   "execution_count": 9,
   "metadata": {},
   "outputs": [
    {
     "data": {
      "application/vnd.jupyter.widget-view+json": {
       "model_id": "9556cbd9ac9f4993835e06f655e6f554",
       "version_major": 2,
       "version_minor": 0
      },
      "text/plain": [
       "HBox(children=(HTML(value=''), FloatProgress(value=0.0, max=53.0), HTML(value='')))"
      ]
     },
     "metadata": {},
     "output_type": "display_data"
    },
    {
     "name": "stdout",
     "output_type": "stream",
     "text": [
      "\n"
     ]
    },
    {
     "data": {
      "application/vnd.jupyter.widget-view+json": {
       "model_id": "5ce05473adb34d40bca235bfd087c11e",
       "version_major": 2,
       "version_minor": 0
      },
      "text/plain": [
       "HBox(children=(HTML(value=''), FloatProgress(value=0.0, max=53.0), HTML(value='')))"
      ]
     },
     "metadata": {},
     "output_type": "display_data"
    },
    {
     "name": "stdout",
     "output_type": "stream",
     "text": [
      "\n"
     ]
    }
   ],
   "source": [
    "dfs = []\n",
    "for file in tqdm(glob(processParams.evParams.outputDir+'exports\\\\'+'*(regions).csv')):\n",
    "    dfs.append(pd.read_csv(file))\n",
    "dfR = pd.concat(dfs)\n",
    "dfs = []\n",
    "\n",
    "for file in tqdm(glob(processParams.evParams.outputDir+'exports\\\\'+'*(targets).csv')):\n",
    "    dfs.append(pd.read_csv(file))\n",
    "dfT = pd.concat(dfs)\n",
    "cols = np.append(dfT.columns[0:18],['Ping_number']).tolist()\n",
    "dfT = dfT[cols].drop(columns=['Region_name', 'Region_class'])\n",
    "dfR = dfR.drop(columns=['Region_name', 'Region_class','Target_length_mean'])"
   ]
  },
  {
   "cell_type": "code",
   "execution_count": 36,
   "metadata": {},
   "outputs": [
    {
     "data": {
      "text/html": [
       "<div>\n",
       "<style scoped>\n",
       "    .dataframe tbody tr th:only-of-type {\n",
       "        vertical-align: middle;\n",
       "    }\n",
       "\n",
       "    .dataframe tbody tr th {\n",
       "        vertical-align: top;\n",
       "    }\n",
       "\n",
       "    .dataframe thead th {\n",
       "        text-align: right;\n",
       "    }\n",
       "</style>\n",
       "<table border=\"1\" class=\"dataframe\">\n",
       "  <thead>\n",
       "    <tr style=\"text-align: right;\">\n",
       "      <th></th>\n",
       "      <th>Region_ID</th>\n",
       "      <th>Process_ID</th>\n",
       "      <th>Ping_S</th>\n",
       "      <th>Date_S</th>\n",
       "      <th>Time_S</th>\n",
       "      <th>Num_targets</th>\n",
       "      <th>TS_mean</th>\n",
       "      <th>TS_max</th>\n",
       "      <th>TS_min</th>\n",
       "      <th>Target_range_mean</th>\n",
       "      <th>...</th>\n",
       "      <th>Fish_track_change_in_range</th>\n",
       "      <th>Time_in_beam</th>\n",
       "      <th>Tortuosity_2D</th>\n",
       "      <th>Tortuosity_3D</th>\n",
       "      <th>Distance_2D_unsmoothed</th>\n",
       "      <th>Distance_3D_unsmoothed</th>\n",
       "      <th>Target_depth_mean</th>\n",
       "      <th>Target_depth_max</th>\n",
       "      <th>Target_depth_min</th>\n",
       "      <th>Fish_track_change_in_depth</th>\n",
       "    </tr>\n",
       "  </thead>\n",
       "  <tbody>\n",
       "    <tr>\n",
       "      <th>26</th>\n",
       "      <td>29</td>\n",
       "      <td>378</td>\n",
       "      <td>373</td>\n",
       "      <td>20170815</td>\n",
       "      <td>02:02:01.0100</td>\n",
       "      <td>24</td>\n",
       "      <td>-54.381803</td>\n",
       "      <td>-53.506380</td>\n",
       "      <td>-55.023168</td>\n",
       "      <td>37.125451</td>\n",
       "      <td>...</td>\n",
       "      <td>-0.304739</td>\n",
       "      <td>13.00</td>\n",
       "      <td>1.323440</td>\n",
       "      <td>3.451125</td>\n",
       "      <td>0.403303</td>\n",
       "      <td>9.4801</td>\n",
       "      <td>10.174158</td>\n",
       "      <td>10.269060</td>\n",
       "      <td>10.087182</td>\n",
       "      <td>0.068065</td>\n",
       "    </tr>\n",
       "    <tr>\n",
       "      <th>41</th>\n",
       "      <td>44</td>\n",
       "      <td>378</td>\n",
       "      <td>489</td>\n",
       "      <td>20170815</td>\n",
       "      <td>04:00:55.0100</td>\n",
       "      <td>22</td>\n",
       "      <td>-53.511823</td>\n",
       "      <td>-52.572375</td>\n",
       "      <td>-54.872708</td>\n",
       "      <td>14.261992</td>\n",
       "      <td>...</td>\n",
       "      <td>-0.187345</td>\n",
       "      <td>11.00</td>\n",
       "      <td>1.034444</td>\n",
       "      <td>1.174780</td>\n",
       "      <td>0.193798</td>\n",
       "      <td>3.3911</td>\n",
       "      <td>32.922432</td>\n",
       "      <td>33.006525</td>\n",
       "      <td>32.866689</td>\n",
       "      <td>0.131163</td>\n",
       "    </tr>\n",
       "    <tr>\n",
       "      <th>43</th>\n",
       "      <td>46</td>\n",
       "      <td>378</td>\n",
       "      <td>467</td>\n",
       "      <td>20170815</td>\n",
       "      <td>04:00:45.0200</td>\n",
       "      <td>62</td>\n",
       "      <td>-50.293130</td>\n",
       "      <td>-47.733863</td>\n",
       "      <td>-59.649806</td>\n",
       "      <td>27.336601</td>\n",
       "      <td>...</td>\n",
       "      <td>-0.164286</td>\n",
       "      <td>30.00</td>\n",
       "      <td>8.762334</td>\n",
       "      <td>1.839969</td>\n",
       "      <td>1.439531</td>\n",
       "      <td>12.4554</td>\n",
       "      <td>19.890219</td>\n",
       "      <td>19.990833</td>\n",
       "      <td>19.815962</td>\n",
       "      <td>0.140870</td>\n",
       "    </tr>\n",
       "    <tr>\n",
       "      <th>47</th>\n",
       "      <td>50</td>\n",
       "      <td>378</td>\n",
       "      <td>526</td>\n",
       "      <td>20170815</td>\n",
       "      <td>04:01:13.0000</td>\n",
       "      <td>23</td>\n",
       "      <td>-56.972051</td>\n",
       "      <td>-55.957690</td>\n",
       "      <td>-57.657331</td>\n",
       "      <td>32.783033</td>\n",
       "      <td>...</td>\n",
       "      <td>0.421308</td>\n",
       "      <td>10.00</td>\n",
       "      <td>1.119657</td>\n",
       "      <td>1.817430</td>\n",
       "      <td>0.471721</td>\n",
       "      <td>5.6724</td>\n",
       "      <td>14.486818</td>\n",
       "      <td>14.610662</td>\n",
       "      <td>14.370154</td>\n",
       "      <td>-0.175852</td>\n",
       "    </tr>\n",
       "    <tr>\n",
       "      <th>50</th>\n",
       "      <td>53</td>\n",
       "      <td>378</td>\n",
       "      <td>550</td>\n",
       "      <td>20170815</td>\n",
       "      <td>04:01:50.0000</td>\n",
       "      <td>30</td>\n",
       "      <td>-50.836463</td>\n",
       "      <td>-48.131620</td>\n",
       "      <td>-56.836658</td>\n",
       "      <td>34.863305</td>\n",
       "      <td>...</td>\n",
       "      <td>0.304082</td>\n",
       "      <td>16.02</td>\n",
       "      <td>3.949462</td>\n",
       "      <td>1.561114</td>\n",
       "      <td>1.200959</td>\n",
       "      <td>6.7893</td>\n",
       "      <td>12.399859</td>\n",
       "      <td>12.534550</td>\n",
       "      <td>12.289162</td>\n",
       "      <td>-0.031733</td>\n",
       "    </tr>\n",
       "    <tr>\n",
       "      <th>...</th>\n",
       "      <td>...</td>\n",
       "      <td>...</td>\n",
       "      <td>...</td>\n",
       "      <td>...</td>\n",
       "      <td>...</td>\n",
       "      <td>...</td>\n",
       "      <td>...</td>\n",
       "      <td>...</td>\n",
       "      <td>...</td>\n",
       "      <td>...</td>\n",
       "      <td>...</td>\n",
       "      <td>...</td>\n",
       "      <td>...</td>\n",
       "      <td>...</td>\n",
       "      <td>...</td>\n",
       "      <td>...</td>\n",
       "      <td>...</td>\n",
       "      <td>...</td>\n",
       "      <td>...</td>\n",
       "      <td>...</td>\n",
       "      <td>...</td>\n",
       "    </tr>\n",
       "    <tr>\n",
       "      <th>788</th>\n",
       "      <td>791</td>\n",
       "      <td>586</td>\n",
       "      <td>12621</td>\n",
       "      <td>20170813</td>\n",
       "      <td>10:00:25.0200</td>\n",
       "      <td>40</td>\n",
       "      <td>-54.083405</td>\n",
       "      <td>-53.562915</td>\n",
       "      <td>-55.035517</td>\n",
       "      <td>13.279543</td>\n",
       "      <td>...</td>\n",
       "      <td>-0.047204</td>\n",
       "      <td>17.99</td>\n",
       "      <td>4.272913</td>\n",
       "      <td>1.717340</td>\n",
       "      <td>0.201698</td>\n",
       "      <td>5.3203</td>\n",
       "      <td>33.919342</td>\n",
       "      <td>33.983814</td>\n",
       "      <td>33.879031</td>\n",
       "      <td>0.053312</td>\n",
       "    </tr>\n",
       "    <tr>\n",
       "      <th>797</th>\n",
       "      <td>800</td>\n",
       "      <td>586</td>\n",
       "      <td>12818</td>\n",
       "      <td>20170813</td>\n",
       "      <td>12:00:24.0100</td>\n",
       "      <td>32</td>\n",
       "      <td>-56.424008</td>\n",
       "      <td>-55.682044</td>\n",
       "      <td>-57.150923</td>\n",
       "      <td>11.366871</td>\n",
       "      <td>...</td>\n",
       "      <td>0.140838</td>\n",
       "      <td>14.00</td>\n",
       "      <td>1.056424</td>\n",
       "      <td>1.258781</td>\n",
       "      <td>0.148785</td>\n",
       "      <td>3.5059</td>\n",
       "      <td>35.814063</td>\n",
       "      <td>35.904755</td>\n",
       "      <td>35.752628</td>\n",
       "      <td>-0.148073</td>\n",
       "    </tr>\n",
       "    <tr>\n",
       "      <th>798</th>\n",
       "      <td>801</td>\n",
       "      <td>586</td>\n",
       "      <td>12834</td>\n",
       "      <td>20170813</td>\n",
       "      <td>12:00:31.0100</td>\n",
       "      <td>23</td>\n",
       "      <td>-57.258836</td>\n",
       "      <td>-56.641934</td>\n",
       "      <td>-57.559323</td>\n",
       "      <td>9.770644</td>\n",
       "      <td>...</td>\n",
       "      <td>-0.047252</td>\n",
       "      <td>9.99</td>\n",
       "      <td>3.130131</td>\n",
       "      <td>1.055856</td>\n",
       "      <td>0.147904</td>\n",
       "      <td>2.2207</td>\n",
       "      <td>37.416930</td>\n",
       "      <td>37.437922</td>\n",
       "      <td>37.389884</td>\n",
       "      <td>0.041804</td>\n",
       "    </tr>\n",
       "    <tr>\n",
       "      <th>842</th>\n",
       "      <td>845</td>\n",
       "      <td>586</td>\n",
       "      <td>13579</td>\n",
       "      <td>20170813</td>\n",
       "      <td>18:02:02.0100</td>\n",
       "      <td>21</td>\n",
       "      <td>-52.647665</td>\n",
       "      <td>-47.303996</td>\n",
       "      <td>-56.416272</td>\n",
       "      <td>21.802805</td>\n",
       "      <td>...</td>\n",
       "      <td>0.117391</td>\n",
       "      <td>7098.00</td>\n",
       "      <td>2.642950</td>\n",
       "      <td>2.934117</td>\n",
       "      <td>0.310257</td>\n",
       "      <td>5.1917</td>\n",
       "      <td>25.411657</td>\n",
       "      <td>25.520431</td>\n",
       "      <td>25.260547</td>\n",
       "      <td>-0.258984</td>\n",
       "    </tr>\n",
       "    <tr>\n",
       "      <th>1018</th>\n",
       "      <td>1021</td>\n",
       "      <td>586</td>\n",
       "      <td>16000</td>\n",
       "      <td>20170814</td>\n",
       "      <td>20:00:16.0000</td>\n",
       "      <td>25</td>\n",
       "      <td>-59.166137</td>\n",
       "      <td>-55.617561</td>\n",
       "      <td>-63.839560</td>\n",
       "      <td>25.862769</td>\n",
       "      <td>...</td>\n",
       "      <td>-0.328290</td>\n",
       "      <td>13.00</td>\n",
       "      <td>1.436082</td>\n",
       "      <td>2.337665</td>\n",
       "      <td>0.471451</td>\n",
       "      <td>9.8683</td>\n",
       "      <td>21.400150</td>\n",
       "      <td>21.499388</td>\n",
       "      <td>21.327296</td>\n",
       "      <td>0.159912</td>\n",
       "    </tr>\n",
       "  </tbody>\n",
       "</table>\n",
       "<p>6842 rows × 28 columns</p>\n",
       "</div>"
      ],
      "text/plain": [
       "      Region_ID  Process_ID  Ping_S    Date_S          Time_S  Num_targets  \\\n",
       "26           29         378     373  20170815   02:02:01.0100           24   \n",
       "41           44         378     489  20170815   04:00:55.0100           22   \n",
       "43           46         378     467  20170815   04:00:45.0200           62   \n",
       "47           50         378     526  20170815   04:01:13.0000           23   \n",
       "50           53         378     550  20170815   04:01:50.0000           30   \n",
       "...         ...         ...     ...       ...             ...          ...   \n",
       "788         791         586   12621  20170813   10:00:25.0200           40   \n",
       "797         800         586   12818  20170813   12:00:24.0100           32   \n",
       "798         801         586   12834  20170813   12:00:31.0100           23   \n",
       "842         845         586   13579  20170813   18:02:02.0100           21   \n",
       "1018       1021         586   16000  20170814   20:00:16.0000           25   \n",
       "\n",
       "        TS_mean     TS_max     TS_min  Target_range_mean  ...  \\\n",
       "26   -54.381803 -53.506380 -55.023168          37.125451  ...   \n",
       "41   -53.511823 -52.572375 -54.872708          14.261992  ...   \n",
       "43   -50.293130 -47.733863 -59.649806          27.336601  ...   \n",
       "47   -56.972051 -55.957690 -57.657331          32.783033  ...   \n",
       "50   -50.836463 -48.131620 -56.836658          34.863305  ...   \n",
       "...         ...        ...        ...                ...  ...   \n",
       "788  -54.083405 -53.562915 -55.035517          13.279543  ...   \n",
       "797  -56.424008 -55.682044 -57.150923          11.366871  ...   \n",
       "798  -57.258836 -56.641934 -57.559323           9.770644  ...   \n",
       "842  -52.647665 -47.303996 -56.416272          21.802805  ...   \n",
       "1018 -59.166137 -55.617561 -63.839560          25.862769  ...   \n",
       "\n",
       "      Fish_track_change_in_range  Time_in_beam  Tortuosity_2D  Tortuosity_3D  \\\n",
       "26                     -0.304739         13.00       1.323440       3.451125   \n",
       "41                     -0.187345         11.00       1.034444       1.174780   \n",
       "43                     -0.164286         30.00       8.762334       1.839969   \n",
       "47                      0.421308         10.00       1.119657       1.817430   \n",
       "50                      0.304082         16.02       3.949462       1.561114   \n",
       "...                          ...           ...            ...            ...   \n",
       "788                    -0.047204         17.99       4.272913       1.717340   \n",
       "797                     0.140838         14.00       1.056424       1.258781   \n",
       "798                    -0.047252          9.99       3.130131       1.055856   \n",
       "842                     0.117391       7098.00       2.642950       2.934117   \n",
       "1018                   -0.328290         13.00       1.436082       2.337665   \n",
       "\n",
       "      Distance_2D_unsmoothed  Distance_3D_unsmoothed  Target_depth_mean  \\\n",
       "26                  0.403303                  9.4801          10.174158   \n",
       "41                  0.193798                  3.3911          32.922432   \n",
       "43                  1.439531                 12.4554          19.890219   \n",
       "47                  0.471721                  5.6724          14.486818   \n",
       "50                  1.200959                  6.7893          12.399859   \n",
       "...                      ...                     ...                ...   \n",
       "788                 0.201698                  5.3203          33.919342   \n",
       "797                 0.148785                  3.5059          35.814063   \n",
       "798                 0.147904                  2.2207          37.416930   \n",
       "842                 0.310257                  5.1917          25.411657   \n",
       "1018                0.471451                  9.8683          21.400150   \n",
       "\n",
       "      Target_depth_max  Target_depth_min  Fish_track_change_in_depth  \n",
       "26           10.269060         10.087182                    0.068065  \n",
       "41           33.006525         32.866689                    0.131163  \n",
       "43           19.990833         19.815962                    0.140870  \n",
       "47           14.610662         14.370154                   -0.175852  \n",
       "50           12.534550         12.289162                   -0.031733  \n",
       "...                ...               ...                         ...  \n",
       "788          33.983814         33.879031                    0.053312  \n",
       "797          35.904755         35.752628                   -0.148073  \n",
       "798          37.437922         37.389884                    0.041804  \n",
       "842          25.520431         25.260547                   -0.258984  \n",
       "1018         21.499388         21.327296                    0.159912  \n",
       "\n",
       "[6842 rows x 28 columns]"
      ]
     },
     "execution_count": 36,
     "metadata": {},
     "output_type": "execute_result"
    }
   ],
   "source": [
    "dfR[dfR.Num_targets >20]"
   ]
  },
  {
   "cell_type": "code",
   "execution_count": 39,
   "metadata": {},
   "outputs": [
    {
     "data": {
      "application/vnd.plotly.v1+json": {
       "config": {
        "plotlyServerURL": "https://plot.ly"
       },
       "data": [
        {
         "mode": "lines",
         "type": "scatter3d",
         "x": [
          -1.263069,
          -1.213941,
          -1.2158200000000001,
          -0.9743569999999999,
          -0.9635100000000001,
          -0.9004200000000001,
          -0.810167,
          -0.72395,
          -0.635518,
          -0.610554,
          -0.46233100000000005,
          -0.530516,
          -0.49661099999999997,
          -0.35133200000000003,
          -0.280197,
          -0.21596300000000002,
          -0.094358,
          -0.062262,
          -0.01816,
          0.334204,
          0.5559390000000001,
          0.688048
         ],
         "y": [
          1.180145,
          1.1306200000000002,
          1.163578,
          1.076476,
          0.954232,
          0.8213540000000001,
          0.778485,
          0.6975899999999999,
          0.5721729999999999,
          0.5122369999999999,
          0.46408699999999997,
          0.34814,
          0.276672,
          0.20489200000000002,
          0.08376,
          -0.007934,
          0.004145,
          -0.159212,
          -0.194708,
          -0.6009399999999999,
          -0.555665,
          -0.943152
         ],
         "z": [
          32.875362,
          32.866689,
          32.892811,
          32.89148,
          32.90598,
          32.917234,
          32.908857,
          32.899708000000004,
          32.88986,
          32.91026,
          32.90293,
          32.926028,
          32.922791,
          32.917087,
          32.91405,
          32.936791,
          32.935088,
          32.959614,
          32.9597,
          32.974639,
          32.980027,
          33.006525
         ]
        },
        {
         "marker": {
          "color": [
           -53.001107999999995,
           -52.896570999999994,
           -52.572375,
           -52.821056000000006,
           -53.277567000000005,
           -53.339985,
           -53.540252,
           -53.714633,
           -53.410724,
           -53.640575,
           -53.873201,
           -53.646939,
           -53.50359399999999,
           -53.888518999999995,
           -53.153192000000004,
           -53.36741899999999,
           -53.33792,
           -53.434651,
           -53.690759,
           -54.452614000000004,
           -54.545030000000004,
           -54.872707999999996
          ],
          "colorbar": {
           "thickness": 30,
           "title": {
            "text": "TS"
           }
          },
          "colorscale": [
           [
            0,
            "#0d0887"
           ],
           [
            0.1111111111111111,
            "#46039f"
           ],
           [
            0.2222222222222222,
            "#7201a8"
           ],
           [
            0.3333333333333333,
            "#9c179e"
           ],
           [
            0.4444444444444444,
            "#bd3786"
           ],
           [
            0.5555555555555556,
            "#d8576b"
           ],
           [
            0.6666666666666666,
            "#ed7953"
           ],
           [
            0.7777777777777778,
            "#fb9f3a"
           ],
           [
            0.8888888888888888,
            "#fdca26"
           ],
           [
            1,
            "#f0f921"
           ]
          ],
          "opacity": 0.8,
          "size": 8
         },
         "mode": "markers",
         "type": "scatter3d",
         "x": [
          -1.263069,
          -1.213941,
          -1.2158200000000001,
          -0.9743569999999999,
          -0.9635100000000001,
          -0.9004200000000001,
          -0.810167,
          -0.72395,
          -0.635518,
          -0.610554,
          -0.46233100000000005,
          -0.530516,
          -0.49661099999999997,
          -0.35133200000000003,
          -0.280197,
          -0.21596300000000002,
          -0.094358,
          -0.062262,
          -0.01816,
          0.334204,
          0.5559390000000001,
          0.688048
         ],
         "y": [
          1.180145,
          1.1306200000000002,
          1.163578,
          1.076476,
          0.954232,
          0.8213540000000001,
          0.778485,
          0.6975899999999999,
          0.5721729999999999,
          0.5122369999999999,
          0.46408699999999997,
          0.34814,
          0.276672,
          0.20489200000000002,
          0.08376,
          -0.007934,
          0.004145,
          -0.159212,
          -0.194708,
          -0.6009399999999999,
          -0.555665,
          -0.943152
         ],
         "z": [
          32.875362,
          32.866689,
          32.892811,
          32.89148,
          32.90598,
          32.917234,
          32.908857,
          32.899708000000004,
          32.88986,
          32.91026,
          32.90293,
          32.926028,
          32.922791,
          32.917087,
          32.91405,
          32.936791,
          32.935088,
          32.959614,
          32.9597,
          32.974639,
          32.980027,
          33.006525
         ]
        }
       ],
       "layout": {
        "autosize": true,
        "margin": {
         "b": 10,
         "l": 10,
         "r": 20,
         "t": 10
        },
        "scene": {
         "aspectmode": "auto",
         "aspectratio": {
          "x": 1,
          "y": 1,
          "z": 1
         },
         "camera": {
          "center": {
           "x": 0,
           "y": 0,
           "z": 0
          },
          "eye": {
           "x": 1.2954783037937827,
           "y": 1.6266818051323242,
           "z": 0.6026128684744699
          },
          "projection": {
           "type": "perspective"
          },
          "up": {
           "x": 0,
           "y": 0,
           "z": 1
          }
         },
         "xaxis": {
          "title": {
           "text": "Distance_major_axis"
          },
          "type": "linear"
         },
         "yaxis": {
          "title": {
           "text": "Distance_minor_axis"
          },
          "type": "linear"
         },
         "zaxis": {
          "title": {
           "text": "Depth"
          },
          "type": "linear"
         }
        },
        "showlegend": false,
        "template": {
         "data": {
          "bar": [
           {
            "error_x": {
             "color": "#2a3f5f"
            },
            "error_y": {
             "color": "#2a3f5f"
            },
            "marker": {
             "line": {
              "color": "#E5ECF6",
              "width": 0.5
             }
            },
            "type": "bar"
           }
          ],
          "barpolar": [
           {
            "marker": {
             "line": {
              "color": "#E5ECF6",
              "width": 0.5
             }
            },
            "type": "barpolar"
           }
          ],
          "carpet": [
           {
            "aaxis": {
             "endlinecolor": "#2a3f5f",
             "gridcolor": "white",
             "linecolor": "white",
             "minorgridcolor": "white",
             "startlinecolor": "#2a3f5f"
            },
            "baxis": {
             "endlinecolor": "#2a3f5f",
             "gridcolor": "white",
             "linecolor": "white",
             "minorgridcolor": "white",
             "startlinecolor": "#2a3f5f"
            },
            "type": "carpet"
           }
          ],
          "choropleth": [
           {
            "colorbar": {
             "outlinewidth": 0,
             "ticks": ""
            },
            "type": "choropleth"
           }
          ],
          "contour": [
           {
            "colorbar": {
             "outlinewidth": 0,
             "ticks": ""
            },
            "colorscale": [
             [
              0,
              "#0d0887"
             ],
             [
              0.1111111111111111,
              "#46039f"
             ],
             [
              0.2222222222222222,
              "#7201a8"
             ],
             [
              0.3333333333333333,
              "#9c179e"
             ],
             [
              0.4444444444444444,
              "#bd3786"
             ],
             [
              0.5555555555555556,
              "#d8576b"
             ],
             [
              0.6666666666666666,
              "#ed7953"
             ],
             [
              0.7777777777777778,
              "#fb9f3a"
             ],
             [
              0.8888888888888888,
              "#fdca26"
             ],
             [
              1,
              "#f0f921"
             ]
            ],
            "type": "contour"
           }
          ],
          "contourcarpet": [
           {
            "colorbar": {
             "outlinewidth": 0,
             "ticks": ""
            },
            "type": "contourcarpet"
           }
          ],
          "heatmap": [
           {
            "colorbar": {
             "outlinewidth": 0,
             "ticks": ""
            },
            "colorscale": [
             [
              0,
              "#0d0887"
             ],
             [
              0.1111111111111111,
              "#46039f"
             ],
             [
              0.2222222222222222,
              "#7201a8"
             ],
             [
              0.3333333333333333,
              "#9c179e"
             ],
             [
              0.4444444444444444,
              "#bd3786"
             ],
             [
              0.5555555555555556,
              "#d8576b"
             ],
             [
              0.6666666666666666,
              "#ed7953"
             ],
             [
              0.7777777777777778,
              "#fb9f3a"
             ],
             [
              0.8888888888888888,
              "#fdca26"
             ],
             [
              1,
              "#f0f921"
             ]
            ],
            "type": "heatmap"
           }
          ],
          "heatmapgl": [
           {
            "colorbar": {
             "outlinewidth": 0,
             "ticks": ""
            },
            "colorscale": [
             [
              0,
              "#0d0887"
             ],
             [
              0.1111111111111111,
              "#46039f"
             ],
             [
              0.2222222222222222,
              "#7201a8"
             ],
             [
              0.3333333333333333,
              "#9c179e"
             ],
             [
              0.4444444444444444,
              "#bd3786"
             ],
             [
              0.5555555555555556,
              "#d8576b"
             ],
             [
              0.6666666666666666,
              "#ed7953"
             ],
             [
              0.7777777777777778,
              "#fb9f3a"
             ],
             [
              0.8888888888888888,
              "#fdca26"
             ],
             [
              1,
              "#f0f921"
             ]
            ],
            "type": "heatmapgl"
           }
          ],
          "histogram": [
           {
            "marker": {
             "colorbar": {
              "outlinewidth": 0,
              "ticks": ""
             }
            },
            "type": "histogram"
           }
          ],
          "histogram2d": [
           {
            "colorbar": {
             "outlinewidth": 0,
             "ticks": ""
            },
            "colorscale": [
             [
              0,
              "#0d0887"
             ],
             [
              0.1111111111111111,
              "#46039f"
             ],
             [
              0.2222222222222222,
              "#7201a8"
             ],
             [
              0.3333333333333333,
              "#9c179e"
             ],
             [
              0.4444444444444444,
              "#bd3786"
             ],
             [
              0.5555555555555556,
              "#d8576b"
             ],
             [
              0.6666666666666666,
              "#ed7953"
             ],
             [
              0.7777777777777778,
              "#fb9f3a"
             ],
             [
              0.8888888888888888,
              "#fdca26"
             ],
             [
              1,
              "#f0f921"
             ]
            ],
            "type": "histogram2d"
           }
          ],
          "histogram2dcontour": [
           {
            "colorbar": {
             "outlinewidth": 0,
             "ticks": ""
            },
            "colorscale": [
             [
              0,
              "#0d0887"
             ],
             [
              0.1111111111111111,
              "#46039f"
             ],
             [
              0.2222222222222222,
              "#7201a8"
             ],
             [
              0.3333333333333333,
              "#9c179e"
             ],
             [
              0.4444444444444444,
              "#bd3786"
             ],
             [
              0.5555555555555556,
              "#d8576b"
             ],
             [
              0.6666666666666666,
              "#ed7953"
             ],
             [
              0.7777777777777778,
              "#fb9f3a"
             ],
             [
              0.8888888888888888,
              "#fdca26"
             ],
             [
              1,
              "#f0f921"
             ]
            ],
            "type": "histogram2dcontour"
           }
          ],
          "mesh3d": [
           {
            "colorbar": {
             "outlinewidth": 0,
             "ticks": ""
            },
            "type": "mesh3d"
           }
          ],
          "parcoords": [
           {
            "line": {
             "colorbar": {
              "outlinewidth": 0,
              "ticks": ""
             }
            },
            "type": "parcoords"
           }
          ],
          "pie": [
           {
            "automargin": true,
            "type": "pie"
           }
          ],
          "scatter": [
           {
            "marker": {
             "colorbar": {
              "outlinewidth": 0,
              "ticks": ""
             }
            },
            "type": "scatter"
           }
          ],
          "scatter3d": [
           {
            "line": {
             "colorbar": {
              "outlinewidth": 0,
              "ticks": ""
             }
            },
            "marker": {
             "colorbar": {
              "outlinewidth": 0,
              "ticks": ""
             }
            },
            "type": "scatter3d"
           }
          ],
          "scattercarpet": [
           {
            "marker": {
             "colorbar": {
              "outlinewidth": 0,
              "ticks": ""
             }
            },
            "type": "scattercarpet"
           }
          ],
          "scattergeo": [
           {
            "marker": {
             "colorbar": {
              "outlinewidth": 0,
              "ticks": ""
             }
            },
            "type": "scattergeo"
           }
          ],
          "scattergl": [
           {
            "marker": {
             "colorbar": {
              "outlinewidth": 0,
              "ticks": ""
             }
            },
            "type": "scattergl"
           }
          ],
          "scattermapbox": [
           {
            "marker": {
             "colorbar": {
              "outlinewidth": 0,
              "ticks": ""
             }
            },
            "type": "scattermapbox"
           }
          ],
          "scatterpolar": [
           {
            "marker": {
             "colorbar": {
              "outlinewidth": 0,
              "ticks": ""
             }
            },
            "type": "scatterpolar"
           }
          ],
          "scatterpolargl": [
           {
            "marker": {
             "colorbar": {
              "outlinewidth": 0,
              "ticks": ""
             }
            },
            "type": "scatterpolargl"
           }
          ],
          "scatterternary": [
           {
            "marker": {
             "colorbar": {
              "outlinewidth": 0,
              "ticks": ""
             }
            },
            "type": "scatterternary"
           }
          ],
          "surface": [
           {
            "colorbar": {
             "outlinewidth": 0,
             "ticks": ""
            },
            "colorscale": [
             [
              0,
              "#0d0887"
             ],
             [
              0.1111111111111111,
              "#46039f"
             ],
             [
              0.2222222222222222,
              "#7201a8"
             ],
             [
              0.3333333333333333,
              "#9c179e"
             ],
             [
              0.4444444444444444,
              "#bd3786"
             ],
             [
              0.5555555555555556,
              "#d8576b"
             ],
             [
              0.6666666666666666,
              "#ed7953"
             ],
             [
              0.7777777777777778,
              "#fb9f3a"
             ],
             [
              0.8888888888888888,
              "#fdca26"
             ],
             [
              1,
              "#f0f921"
             ]
            ],
            "type": "surface"
           }
          ],
          "table": [
           {
            "cells": {
             "fill": {
              "color": "#EBF0F8"
             },
             "line": {
              "color": "white"
             }
            },
            "header": {
             "fill": {
              "color": "#C8D4E3"
             },
             "line": {
              "color": "white"
             }
            },
            "type": "table"
           }
          ]
         },
         "layout": {
          "annotationdefaults": {
           "arrowcolor": "#2a3f5f",
           "arrowhead": 0,
           "arrowwidth": 1
          },
          "autotypenumbers": "strict",
          "coloraxis": {
           "colorbar": {
            "outlinewidth": 0,
            "ticks": ""
           }
          },
          "colorscale": {
           "diverging": [
            [
             0,
             "#8e0152"
            ],
            [
             0.1,
             "#c51b7d"
            ],
            [
             0.2,
             "#de77ae"
            ],
            [
             0.3,
             "#f1b6da"
            ],
            [
             0.4,
             "#fde0ef"
            ],
            [
             0.5,
             "#f7f7f7"
            ],
            [
             0.6,
             "#e6f5d0"
            ],
            [
             0.7,
             "#b8e186"
            ],
            [
             0.8,
             "#7fbc41"
            ],
            [
             0.9,
             "#4d9221"
            ],
            [
             1,
             "#276419"
            ]
           ],
           "sequential": [
            [
             0,
             "#0d0887"
            ],
            [
             0.1111111111111111,
             "#46039f"
            ],
            [
             0.2222222222222222,
             "#7201a8"
            ],
            [
             0.3333333333333333,
             "#9c179e"
            ],
            [
             0.4444444444444444,
             "#bd3786"
            ],
            [
             0.5555555555555556,
             "#d8576b"
            ],
            [
             0.6666666666666666,
             "#ed7953"
            ],
            [
             0.7777777777777778,
             "#fb9f3a"
            ],
            [
             0.8888888888888888,
             "#fdca26"
            ],
            [
             1,
             "#f0f921"
            ]
           ],
           "sequentialminus": [
            [
             0,
             "#0d0887"
            ],
            [
             0.1111111111111111,
             "#46039f"
            ],
            [
             0.2222222222222222,
             "#7201a8"
            ],
            [
             0.3333333333333333,
             "#9c179e"
            ],
            [
             0.4444444444444444,
             "#bd3786"
            ],
            [
             0.5555555555555556,
             "#d8576b"
            ],
            [
             0.6666666666666666,
             "#ed7953"
            ],
            [
             0.7777777777777778,
             "#fb9f3a"
            ],
            [
             0.8888888888888888,
             "#fdca26"
            ],
            [
             1,
             "#f0f921"
            ]
           ]
          },
          "colorway": [
           "#636efa",
           "#EF553B",
           "#00cc96",
           "#ab63fa",
           "#FFA15A",
           "#19d3f3",
           "#FF6692",
           "#B6E880",
           "#FF97FF",
           "#FECB52"
          ],
          "font": {
           "color": "#2a3f5f"
          },
          "geo": {
           "bgcolor": "white",
           "lakecolor": "white",
           "landcolor": "#E5ECF6",
           "showlakes": true,
           "showland": true,
           "subunitcolor": "white"
          },
          "hoverlabel": {
           "align": "left"
          },
          "hovermode": "closest",
          "mapbox": {
           "style": "light"
          },
          "paper_bgcolor": "white",
          "plot_bgcolor": "#E5ECF6",
          "polar": {
           "angularaxis": {
            "gridcolor": "white",
            "linecolor": "white",
            "ticks": ""
           },
           "bgcolor": "#E5ECF6",
           "radialaxis": {
            "gridcolor": "white",
            "linecolor": "white",
            "ticks": ""
           }
          },
          "scene": {
           "xaxis": {
            "backgroundcolor": "#E5ECF6",
            "gridcolor": "white",
            "gridwidth": 2,
            "linecolor": "white",
            "showbackground": true,
            "ticks": "",
            "zerolinecolor": "white"
           },
           "yaxis": {
            "backgroundcolor": "#E5ECF6",
            "gridcolor": "white",
            "gridwidth": 2,
            "linecolor": "white",
            "showbackground": true,
            "ticks": "",
            "zerolinecolor": "white"
           },
           "zaxis": {
            "backgroundcolor": "#E5ECF6",
            "gridcolor": "white",
            "gridwidth": 2,
            "linecolor": "white",
            "showbackground": true,
            "ticks": "",
            "zerolinecolor": "white"
           }
          },
          "shapedefaults": {
           "line": {
            "color": "#2a3f5f"
           }
          },
          "ternary": {
           "aaxis": {
            "gridcolor": "white",
            "linecolor": "white",
            "ticks": ""
           },
           "baxis": {
            "gridcolor": "white",
            "linecolor": "white",
            "ticks": ""
           },
           "bgcolor": "#E5ECF6",
           "caxis": {
            "gridcolor": "white",
            "linecolor": "white",
            "ticks": ""
           }
          },
          "title": {
           "x": 0.05
          },
          "xaxis": {
           "automargin": true,
           "gridcolor": "white",
           "linecolor": "white",
           "ticks": "",
           "title": {
            "standoff": 15
           },
           "zerolinecolor": "white",
           "zerolinewidth": 2
          },
          "yaxis": {
           "automargin": true,
           "gridcolor": "white",
           "linecolor": "white",
           "ticks": "",
           "title": {
            "standoff": 15
           },
           "zerolinecolor": "white",
           "zerolinewidth": 2
          }
         }
        }
       }
      },
      "text/html": [
       "<div>                            <div id=\"54bd068c-c3d3-4ea0-a605-86fcd541eacf\" class=\"plotly-graph-div\" style=\"height:525px; width:700px;\"></div>            <script type=\"text/javascript\">                require([\"plotly\"], function(Plotly) {                    window.PLOTLYENV=window.PLOTLYENV || {};                                    if (document.getElementById(\"54bd068c-c3d3-4ea0-a605-86fcd541eacf\")) {                    Plotly.newPlot(                        \"54bd068c-c3d3-4ea0-a605-86fcd541eacf\",                        [{\"mode\": \"lines\", \"type\": \"scatter3d\", \"x\": [-1.263069, -1.213941, -1.2158200000000001, -0.9743569999999999, -0.9635100000000001, -0.9004200000000001, -0.810167, -0.72395, -0.635518, -0.610554, -0.46233100000000005, -0.530516, -0.49661099999999997, -0.35133200000000003, -0.280197, -0.21596300000000002, -0.094358, -0.062262, -0.01816, 0.334204, 0.5559390000000001, 0.688048], \"y\": [1.180145, 1.1306200000000002, 1.163578, 1.076476, 0.954232, 0.8213540000000001, 0.778485, 0.6975899999999999, 0.5721729999999999, 0.5122369999999999, 0.46408699999999997, 0.34814, 0.276672, 0.20489200000000002, 0.08376, -0.007934, 0.004145, -0.159212, -0.194708, -0.6009399999999999, -0.555665, -0.943152], \"z\": [32.875362, 32.866689, 32.892811, 32.89148, 32.90598, 32.917234, 32.908857, 32.899708000000004, 32.88986, 32.91026, 32.90293, 32.926028, 32.922791, 32.917087, 32.91405, 32.936791, 32.935088, 32.959614, 32.9597, 32.974639, 32.980027, 33.006525]}, {\"marker\": {\"color\": [-53.001107999999995, -52.896570999999994, -52.572375, -52.821056000000006, -53.277567000000005, -53.339985, -53.540252, -53.714633, -53.410724, -53.640575, -53.873201, -53.646939, -53.50359399999999, -53.888518999999995, -53.153192000000004, -53.36741899999999, -53.33792, -53.434651, -53.690759, -54.452614000000004, -54.545030000000004, -54.872707999999996], \"colorbar\": {\"thickness\": 30, \"title\": {\"text\": \"TS\"}}, \"colorscale\": [[0.0, \"#0d0887\"], [0.1111111111111111, \"#46039f\"], [0.2222222222222222, \"#7201a8\"], [0.3333333333333333, \"#9c179e\"], [0.4444444444444444, \"#bd3786\"], [0.5555555555555556, \"#d8576b\"], [0.6666666666666666, \"#ed7953\"], [0.7777777777777778, \"#fb9f3a\"], [0.8888888888888888, \"#fdca26\"], [1.0, \"#f0f921\"]], \"opacity\": 0.8, \"size\": 8}, \"mode\": \"markers\", \"type\": \"scatter3d\", \"x\": [-1.263069, -1.213941, -1.2158200000000001, -0.9743569999999999, -0.9635100000000001, -0.9004200000000001, -0.810167, -0.72395, -0.635518, -0.610554, -0.46233100000000005, -0.530516, -0.49661099999999997, -0.35133200000000003, -0.280197, -0.21596300000000002, -0.094358, -0.062262, -0.01816, 0.334204, 0.5559390000000001, 0.688048], \"y\": [1.180145, 1.1306200000000002, 1.163578, 1.076476, 0.954232, 0.8213540000000001, 0.778485, 0.6975899999999999, 0.5721729999999999, 0.5122369999999999, 0.46408699999999997, 0.34814, 0.276672, 0.20489200000000002, 0.08376, -0.007934, 0.004145, -0.159212, -0.194708, -0.6009399999999999, -0.555665, -0.943152], \"z\": [32.875362, 32.866689, 32.892811, 32.89148, 32.90598, 32.917234, 32.908857, 32.899708000000004, 32.88986, 32.91026, 32.90293, 32.926028, 32.922791, 32.917087, 32.91405, 32.936791, 32.935088, 32.959614, 32.9597, 32.974639, 32.980027, 33.006525]}],                        {\"margin\": {\"b\": 10, \"l\": 10, \"r\": 20, \"t\": 10}, \"scene\": {\"xaxis\": {\"title\": {\"text\": \"Distance_major_axis\"}}, \"yaxis\": {\"title\": {\"text\": \"Distance_minor_axis\"}}, \"zaxis\": {\"title\": {\"text\": \"Depth\"}}}, \"showlegend\": false, \"template\": {\"data\": {\"bar\": [{\"error_x\": {\"color\": \"#2a3f5f\"}, \"error_y\": {\"color\": \"#2a3f5f\"}, \"marker\": {\"line\": {\"color\": \"#E5ECF6\", \"width\": 0.5}}, \"type\": \"bar\"}], \"barpolar\": [{\"marker\": {\"line\": {\"color\": \"#E5ECF6\", \"width\": 0.5}}, \"type\": \"barpolar\"}], \"carpet\": [{\"aaxis\": {\"endlinecolor\": \"#2a3f5f\", \"gridcolor\": \"white\", \"linecolor\": \"white\", \"minorgridcolor\": \"white\", \"startlinecolor\": \"#2a3f5f\"}, \"baxis\": {\"endlinecolor\": \"#2a3f5f\", \"gridcolor\": \"white\", \"linecolor\": \"white\", \"minorgridcolor\": \"white\", \"startlinecolor\": \"#2a3f5f\"}, \"type\": \"carpet\"}], \"choropleth\": [{\"colorbar\": {\"outlinewidth\": 0, \"ticks\": \"\"}, \"type\": \"choropleth\"}], \"contour\": [{\"colorbar\": {\"outlinewidth\": 0, \"ticks\": \"\"}, \"colorscale\": [[0.0, \"#0d0887\"], [0.1111111111111111, \"#46039f\"], [0.2222222222222222, \"#7201a8\"], [0.3333333333333333, \"#9c179e\"], [0.4444444444444444, \"#bd3786\"], [0.5555555555555556, \"#d8576b\"], [0.6666666666666666, \"#ed7953\"], [0.7777777777777778, \"#fb9f3a\"], [0.8888888888888888, \"#fdca26\"], [1.0, \"#f0f921\"]], \"type\": \"contour\"}], \"contourcarpet\": [{\"colorbar\": {\"outlinewidth\": 0, \"ticks\": \"\"}, \"type\": \"contourcarpet\"}], \"heatmap\": [{\"colorbar\": {\"outlinewidth\": 0, \"ticks\": \"\"}, \"colorscale\": [[0.0, \"#0d0887\"], [0.1111111111111111, \"#46039f\"], [0.2222222222222222, \"#7201a8\"], [0.3333333333333333, \"#9c179e\"], [0.4444444444444444, \"#bd3786\"], [0.5555555555555556, \"#d8576b\"], [0.6666666666666666, \"#ed7953\"], [0.7777777777777778, \"#fb9f3a\"], [0.8888888888888888, \"#fdca26\"], [1.0, \"#f0f921\"]], \"type\": \"heatmap\"}], \"heatmapgl\": [{\"colorbar\": {\"outlinewidth\": 0, \"ticks\": \"\"}, \"colorscale\": [[0.0, \"#0d0887\"], [0.1111111111111111, \"#46039f\"], [0.2222222222222222, \"#7201a8\"], [0.3333333333333333, \"#9c179e\"], [0.4444444444444444, \"#bd3786\"], [0.5555555555555556, \"#d8576b\"], [0.6666666666666666, \"#ed7953\"], [0.7777777777777778, \"#fb9f3a\"], [0.8888888888888888, \"#fdca26\"], [1.0, \"#f0f921\"]], \"type\": \"heatmapgl\"}], \"histogram\": [{\"marker\": {\"colorbar\": {\"outlinewidth\": 0, \"ticks\": \"\"}}, \"type\": \"histogram\"}], \"histogram2d\": [{\"colorbar\": {\"outlinewidth\": 0, \"ticks\": \"\"}, \"colorscale\": [[0.0, \"#0d0887\"], [0.1111111111111111, \"#46039f\"], [0.2222222222222222, \"#7201a8\"], [0.3333333333333333, \"#9c179e\"], [0.4444444444444444, \"#bd3786\"], [0.5555555555555556, \"#d8576b\"], [0.6666666666666666, \"#ed7953\"], [0.7777777777777778, \"#fb9f3a\"], [0.8888888888888888, \"#fdca26\"], [1.0, \"#f0f921\"]], \"type\": \"histogram2d\"}], \"histogram2dcontour\": [{\"colorbar\": {\"outlinewidth\": 0, \"ticks\": \"\"}, \"colorscale\": [[0.0, \"#0d0887\"], [0.1111111111111111, \"#46039f\"], [0.2222222222222222, \"#7201a8\"], [0.3333333333333333, \"#9c179e\"], [0.4444444444444444, \"#bd3786\"], [0.5555555555555556, \"#d8576b\"], [0.6666666666666666, \"#ed7953\"], [0.7777777777777778, \"#fb9f3a\"], [0.8888888888888888, \"#fdca26\"], [1.0, \"#f0f921\"]], \"type\": \"histogram2dcontour\"}], \"mesh3d\": [{\"colorbar\": {\"outlinewidth\": 0, \"ticks\": \"\"}, \"type\": \"mesh3d\"}], \"parcoords\": [{\"line\": {\"colorbar\": {\"outlinewidth\": 0, \"ticks\": \"\"}}, \"type\": \"parcoords\"}], \"pie\": [{\"automargin\": true, \"type\": \"pie\"}], \"scatter\": [{\"marker\": {\"colorbar\": {\"outlinewidth\": 0, \"ticks\": \"\"}}, \"type\": \"scatter\"}], \"scatter3d\": [{\"line\": {\"colorbar\": {\"outlinewidth\": 0, \"ticks\": \"\"}}, \"marker\": {\"colorbar\": {\"outlinewidth\": 0, \"ticks\": \"\"}}, \"type\": \"scatter3d\"}], \"scattercarpet\": [{\"marker\": {\"colorbar\": {\"outlinewidth\": 0, \"ticks\": \"\"}}, \"type\": \"scattercarpet\"}], \"scattergeo\": [{\"marker\": {\"colorbar\": {\"outlinewidth\": 0, \"ticks\": \"\"}}, \"type\": \"scattergeo\"}], \"scattergl\": [{\"marker\": {\"colorbar\": {\"outlinewidth\": 0, \"ticks\": \"\"}}, \"type\": \"scattergl\"}], \"scattermapbox\": [{\"marker\": {\"colorbar\": {\"outlinewidth\": 0, \"ticks\": \"\"}}, \"type\": \"scattermapbox\"}], \"scatterpolar\": [{\"marker\": {\"colorbar\": {\"outlinewidth\": 0, \"ticks\": \"\"}}, \"type\": \"scatterpolar\"}], \"scatterpolargl\": [{\"marker\": {\"colorbar\": {\"outlinewidth\": 0, \"ticks\": \"\"}}, \"type\": \"scatterpolargl\"}], \"scatterternary\": [{\"marker\": {\"colorbar\": {\"outlinewidth\": 0, \"ticks\": \"\"}}, \"type\": \"scatterternary\"}], \"surface\": [{\"colorbar\": {\"outlinewidth\": 0, \"ticks\": \"\"}, \"colorscale\": [[0.0, \"#0d0887\"], [0.1111111111111111, \"#46039f\"], [0.2222222222222222, \"#7201a8\"], [0.3333333333333333, \"#9c179e\"], [0.4444444444444444, \"#bd3786\"], [0.5555555555555556, \"#d8576b\"], [0.6666666666666666, \"#ed7953\"], [0.7777777777777778, \"#fb9f3a\"], [0.8888888888888888, \"#fdca26\"], [1.0, \"#f0f921\"]], \"type\": \"surface\"}], \"table\": [{\"cells\": {\"fill\": {\"color\": \"#EBF0F8\"}, \"line\": {\"color\": \"white\"}}, \"header\": {\"fill\": {\"color\": \"#C8D4E3\"}, \"line\": {\"color\": \"white\"}}, \"type\": \"table\"}]}, \"layout\": {\"annotationdefaults\": {\"arrowcolor\": \"#2a3f5f\", \"arrowhead\": 0, \"arrowwidth\": 1}, \"autotypenumbers\": \"strict\", \"coloraxis\": {\"colorbar\": {\"outlinewidth\": 0, \"ticks\": \"\"}}, \"colorscale\": {\"diverging\": [[0, \"#8e0152\"], [0.1, \"#c51b7d\"], [0.2, \"#de77ae\"], [0.3, \"#f1b6da\"], [0.4, \"#fde0ef\"], [0.5, \"#f7f7f7\"], [0.6, \"#e6f5d0\"], [0.7, \"#b8e186\"], [0.8, \"#7fbc41\"], [0.9, \"#4d9221\"], [1, \"#276419\"]], \"sequential\": [[0.0, \"#0d0887\"], [0.1111111111111111, \"#46039f\"], [0.2222222222222222, \"#7201a8\"], [0.3333333333333333, \"#9c179e\"], [0.4444444444444444, \"#bd3786\"], [0.5555555555555556, \"#d8576b\"], [0.6666666666666666, \"#ed7953\"], [0.7777777777777778, \"#fb9f3a\"], [0.8888888888888888, \"#fdca26\"], [1.0, \"#f0f921\"]], \"sequentialminus\": [[0.0, \"#0d0887\"], [0.1111111111111111, \"#46039f\"], [0.2222222222222222, \"#7201a8\"], [0.3333333333333333, \"#9c179e\"], [0.4444444444444444, \"#bd3786\"], [0.5555555555555556, \"#d8576b\"], [0.6666666666666666, \"#ed7953\"], [0.7777777777777778, \"#fb9f3a\"], [0.8888888888888888, \"#fdca26\"], [1.0, \"#f0f921\"]]}, \"colorway\": [\"#636efa\", \"#EF553B\", \"#00cc96\", \"#ab63fa\", \"#FFA15A\", \"#19d3f3\", \"#FF6692\", \"#B6E880\", \"#FF97FF\", \"#FECB52\"], \"font\": {\"color\": \"#2a3f5f\"}, \"geo\": {\"bgcolor\": \"white\", \"lakecolor\": \"white\", \"landcolor\": \"#E5ECF6\", \"showlakes\": true, \"showland\": true, \"subunitcolor\": \"white\"}, \"hoverlabel\": {\"align\": \"left\"}, \"hovermode\": \"closest\", \"mapbox\": {\"style\": \"light\"}, \"paper_bgcolor\": \"white\", \"plot_bgcolor\": \"#E5ECF6\", \"polar\": {\"angularaxis\": {\"gridcolor\": \"white\", \"linecolor\": \"white\", \"ticks\": \"\"}, \"bgcolor\": \"#E5ECF6\", \"radialaxis\": {\"gridcolor\": \"white\", \"linecolor\": \"white\", \"ticks\": \"\"}}, \"scene\": {\"xaxis\": {\"backgroundcolor\": \"#E5ECF6\", \"gridcolor\": \"white\", \"gridwidth\": 2, \"linecolor\": \"white\", \"showbackground\": true, \"ticks\": \"\", \"zerolinecolor\": \"white\"}, \"yaxis\": {\"backgroundcolor\": \"#E5ECF6\", \"gridcolor\": \"white\", \"gridwidth\": 2, \"linecolor\": \"white\", \"showbackground\": true, \"ticks\": \"\", \"zerolinecolor\": \"white\"}, \"zaxis\": {\"backgroundcolor\": \"#E5ECF6\", \"gridcolor\": \"white\", \"gridwidth\": 2, \"linecolor\": \"white\", \"showbackground\": true, \"ticks\": \"\", \"zerolinecolor\": \"white\"}}, \"shapedefaults\": {\"line\": {\"color\": \"#2a3f5f\"}}, \"ternary\": {\"aaxis\": {\"gridcolor\": \"white\", \"linecolor\": \"white\", \"ticks\": \"\"}, \"baxis\": {\"gridcolor\": \"white\", \"linecolor\": \"white\", \"ticks\": \"\"}, \"bgcolor\": \"#E5ECF6\", \"caxis\": {\"gridcolor\": \"white\", \"linecolor\": \"white\", \"ticks\": \"\"}}, \"title\": {\"x\": 0.05}, \"xaxis\": {\"automargin\": true, \"gridcolor\": \"white\", \"linecolor\": \"white\", \"ticks\": \"\", \"title\": {\"standoff\": 15}, \"zerolinecolor\": \"white\", \"zerolinewidth\": 2}, \"yaxis\": {\"automargin\": true, \"gridcolor\": \"white\", \"linecolor\": \"white\", \"ticks\": \"\", \"title\": {\"standoff\": 15}, \"zerolinecolor\": \"white\", \"zerolinewidth\": 2}}}, \"width\": 700},                        {\"responsive\": true}                    ).then(function(){\n",
       "                            \n",
       "var gd = document.getElementById('54bd068c-c3d3-4ea0-a605-86fcd541eacf');\n",
       "var x = new MutationObserver(function (mutations, observer) {{\n",
       "        var display = window.getComputedStyle(gd).display;\n",
       "        if (!display || display === 'none') {{\n",
       "            console.log([gd, 'removed!']);\n",
       "            Plotly.purge(gd);\n",
       "            observer.disconnect();\n",
       "        }}\n",
       "}});\n",
       "\n",
       "// Listen for the removal of the full notebook cells\n",
       "var notebookContainer = gd.closest('#notebook-container');\n",
       "if (notebookContainer) {{\n",
       "    x.observe(notebookContainer, {childList: true});\n",
       "}}\n",
       "\n",
       "// Listen for the clearing of the current output cell\n",
       "var outputEl = gd.closest('.output');\n",
       "if (outputEl) {{\n",
       "    x.observe(outputEl, {childList: true});\n",
       "}}\n",
       "\n",
       "                        })                };                });            </script>        </div>"
      ]
     },
     "metadata": {},
     "output_type": "display_data"
    }
   ],
   "source": [
    "df = dfT[(dfT.Region_ID==44) & (dfT.Process_ID==378)]\n",
    "targets=go.Scatter3d(x=df.Distance_major_axis, y=df.Distance_minor_axis, z=df.Target_true_depth,mode='markers',\n",
    "    marker=dict(size=8,color=df.TS_comp, colorscale='plasma',opacity=0.8,colorbar=dict(title='TS',thickness=30)))\n",
    "track = go.Scatter3d(x=df.Distance_major_axis, y=df.Distance_minor_axis, z=df.Target_true_depth,mode='lines')\n",
    "fig = go.Figure(data=[track,targets])\n",
    "\n",
    "fig.update_layout(showlegend=False,scene = dict(\n",
    "                    xaxis_title='Distance_major_axis',\n",
    "                    yaxis_title='Distance_minor_axis',\n",
    "                    zaxis_title='Depth'),\n",
    "                    width=700,\n",
    "                    margin=dict(r=20, b=10, l=10, t=10))\n",
    "fig.show()"
   ]
  }
 ],
 "metadata": {
  "kernelspec": {
   "display_name": "Python 3",
   "language": "python",
   "name": "python3"
  },
  "language_info": {
   "codemirror_mode": {
    "name": "ipython",
    "version": 3
   },
   "file_extension": ".py",
   "mimetype": "text/x-python",
   "name": "python",
   "nbconvert_exporter": "python",
   "pygments_lexer": "ipython3",
   "version": "3.8.5"
  }
 },
 "nbformat": 4,
 "nbformat_minor": 4
}
