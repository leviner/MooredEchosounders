{
 "cells": [
  {
   "cell_type": "code",
   "execution_count": 6,
   "metadata": {},
   "outputs": [],
   "source": [
    "from glob import glob\n",
    "import pandas as pd\n",
    "from tqdm.notebook import tqdm\n",
    "import numpy as np\n",
    "import plotly.graph_objs as go\n",
    "from mooringParams import paramsDAFT1 as processParams # Each mooring has a specific params file with \n",
    "from scipy.interpolate import splprep,splev\n",
    "import math\n",
    "compassCor = {1:335,2:208,3:250,4:197,5:293}"
   ]
  },
  {
   "cell_type": "code",
   "execution_count": 2,
   "metadata": {},
   "outputs": [
    {
     "data": {
      "application/vnd.jupyter.widget-view+json": {
       "model_id": "bca435b5b05b48138fd70ff917867a56",
       "version_major": 2,
       "version_minor": 0
      },
      "text/plain": [
       "HBox(children=(HTML(value=''), FloatProgress(value=0.0, max=53.0), HTML(value='')))"
      ]
     },
     "metadata": {},
     "output_type": "display_data"
    },
    {
     "name": "stdout",
     "output_type": "stream",
     "text": [
      "\n"
     ]
    },
    {
     "data": {
      "application/vnd.jupyter.widget-view+json": {
       "model_id": "254c8e47b79442b4a1d6688ec085b975",
       "version_major": 2,
       "version_minor": 0
      },
      "text/plain": [
       "HBox(children=(HTML(value=''), FloatProgress(value=0.0, max=53.0), HTML(value='')))"
      ]
     },
     "metadata": {},
     "output_type": "display_data"
    },
    {
     "name": "stdout",
     "output_type": "stream",
     "text": [
      "\n"
     ]
    }
   ],
   "source": [
    "dfs = []\n",
    "for file in tqdm(glob(processParams.evParams.outputDir+'exports\\\\'+'*(regions).csv')):\n",
    "    dfs.append(pd.read_csv(file))\n",
    "dfR = pd.concat(dfs)\n",
    "dfs = []\n",
    "\n",
    "for file in tqdm(glob(processParams.evParams.outputDir+'exports\\\\'+'*(targets).csv')):\n",
    "    dfs.append(pd.read_csv(file))\n",
    "dfT = pd.concat(dfs)\n",
    "cols = np.append(dfT.columns[0:18],['Ping_number']).tolist()\n",
    "dfT = dfT[cols].drop(columns=['Region_name', 'Region_class'])\n",
    "dfR = dfR.drop(columns=['Region_name', 'Region_class','Target_length_mean'])\n",
    "dfR = dfR[dfR.TS_max < -30]\n",
    "dfT = dfT[dfT.Region_ID.isin(dfR.Region_ID)]"
   ]
  },
  {
   "cell_type": "code",
   "execution_count": 21,
   "metadata": {},
   "outputs": [],
   "source": [
    "# Using Echoview terminology, so Major = X, Minor = Y\n",
    "def targetSpline(df, processID, regionID,path_direct=False):\n",
    "    df = df[(df.Region_ID==regionID) & (df.Process_ID==processID)]\n",
    "    tck, u  = splprep([df.Distance_major_axis, df.Distance_minor_axis,df.Target_true_depth],k=3)\n",
    "    if path_direct:\n",
    "        x_knots, y_knots, z_knots = splev([0,1], tck)\n",
    "    else:\n",
    "        x_knots, y_knots, z_knots = splev(np.linspace(0,1,len(df.Distance_major_axis)), tck)\n",
    "    return  x_knots, y_knots, z_knots\n",
    "\n",
    "def trackPlot(df,processID, regionID, plotElements =['track_smoothed','track','track_direct','targets']):\n",
    "    # plotElements: list of elements to include:\n",
    "    # targets: target locations\n",
    "    # track: line between targets\n",
    "    # track_smoothed: Cubic spline with equal resolution to the number of targets\n",
    "    # track_direct: \"flux\" line from start to end target based on spline    \n",
    "    x_knots, y_knots, z_knots = targetSpline(df, processID, regionID ,path_direct=False)\n",
    "    track_smoothed = go.Scatter3d(x=x_knots, y=y_knots, z=z_knots,mode='lines',name='Smoothed Line')\n",
    "    \n",
    "    x_knots, y_knots, z_knots = targetSpline(df, processID, regionID ,path_direct=True)\n",
    "    track_direct = go.Scatter3d(x=x_knots, y=y_knots, z=z_knots,mode='lines',name='Direct Path')\n",
    "\n",
    "    dfCur = df[(df.Region_ID==regionID) & (df.Process_ID==processID)]\n",
    "    targets=go.Scatter3d(x=dfCur.Distance_major_axis, y=dfCur.Distance_minor_axis, z=dfCur.Target_true_depth,mode='markers',\n",
    "        marker=dict(size=8,color='black', colorscale='plasma',opacity=0.8,colorbar=dict(title='TS',thickness=30),showscale=False),name='Targets')\n",
    "    track = go.Scatter3d(x=dfCur.Distance_major_axis, y=dfCur.Distance_minor_axis, z=dfCur.Target_true_depth,mode='lines',name='Target Line')\n",
    "\n",
    "    allElements = {'track_smoothed':track_smoothed,'track':track,'track_direct':track_direct,'targets':targets}\n",
    "    fig = go.Figure(data=[allElements[i] for i in plotElements])\n",
    "    split = (np.ceil(np.max([dfCur.Distance_major_axis.max() - dfCur.Distance_major_axis.min(),dfCur.Distance_minor_axis.max() - dfCur.Distance_minor_axis.min(),dfCur.Target_true_depth.max() - dfCur.Target_true_depth.min()]))/2)+.25\n",
    "    fig.update_layout(showlegend=True,scene = dict(\n",
    "                        xaxis_title='Distance_major_axis',\n",
    "                        yaxis_title='Distance_minor_axis',\n",
    "                        zaxis_title='Depth'),\n",
    "                        #xaxis = dict(nticks=4, range=[np.median(dfCur.Distance_major_axis)-split, np.median(dfCur.Distance_major_axis)+split]),\n",
    "                        #yaxis = dict(nticks=4, range=[np.median(dfCur.Distance_minor_axis)-split, np.median(dfCur.Distance_minor_axis)+split]),\n",
    "                       # zaxis = dict(nticks=4, range=[np.median(dfCur.Target_true_depth)-split, np.median(dfCur.Target_true_depth)+split])),\n",
    "                        width=700,\n",
    "                        margin=dict(r=20, b=10, l=10, t=10))\n",
    "\n",
    "    fig.show()\n",
    "\n",
    "    \n",
    "def regionStats(dfR,dfT,compassOffset,path_direct=False):\n",
    "    x_knots, y_knots, z_knots = targetSpline(dfT, dfR.Process_ID, dfR.Region_ID ,path_direct=path_direct)\n",
    "    coords = [j for j in zip(x_knots,y_knots,z_knots)]\n",
    "    d = np.diff(coords, axis=0)\n",
    "    segdists = np.hypot(d[:,0], d[:,1])\n",
    "    tSpeed=segdists.sum()/((dfT[(dfT.Process_ID == dfR.Process_ID)& (dfT.Region_ID == dfR.Region_ID)].Ping_number.max() - dfT[(dfT.Process_ID == dfR.Process_ID)& (dfT.Region_ID == dfR.Region_ID)].Ping_number.min())*.4)\n",
    "    if path_direct:\n",
    "        tDir = direction_lookup(compassOffset,x_knots[1],x_knots[0],y_knots[1],y_knots[0])\n",
    "    else:\n",
    "        a = []\n",
    "        for i in range(len(x_knots)-1):\n",
    "            a.append(direction_lookup(compassOffset,x_knots[i+1],x_knots[i],y_knots[i+1],y_knots[i]))\n",
    "        tDir = np.mean(a)\n",
    "    return tSpeed, segdists.sum(), tDir\n",
    "\n",
    "def direction_lookup(compassOffset,destination_x, origin_x, destination_y, origin_y):\n",
    "    deltaX = destination_x - origin_x\n",
    "    deltaY = destination_y - origin_y\n",
    "    degrees_temp = math.atan2(deltaX, deltaY)/math.pi*180\n",
    "    # Flip for the inversion due to upward facing Xducer\n",
    "    degrees_temp = 360-degrees_temp\n",
    "    # Correct for the Xducer direction\n",
    "    degrees_temp = (degrees_temp + compassOffset-360)\n",
    "    # Convert check if its negative and correct\n",
    "    if degrees_temp < 0:\n",
    "        degrees_final = 360 + degrees_temp\n",
    "    if degrees_temp > 360:\n",
    "        degrees_final = degrees_temp-360\n",
    "    else:\n",
    "        degrees_final = degrees_temp\n",
    "    return degrees_final"
   ]
  },
  {
   "cell_type": "code",
   "execution_count": 8,
   "metadata": {},
   "outputs": [
    {
     "data": {
      "application/vnd.plotly.v1+json": {
       "config": {
        "plotlyServerURL": "https://plot.ly"
       },
       "data": [
        {
         "mode": "lines",
         "name": "Smoothed Line",
         "type": "scatter3d",
         "x": [
          0.3672409703219114,
          0.5611022358610425,
          0.749145783013397,
          0.9315584109069308,
          1.1085269186695992,
          1.2802381054293581,
          1.4468787703141628,
          1.6086357124519686,
          1.7656957309707315,
          1.9182456249984072,
          2.06647219366295,
          2.210562236092317,
          2.3507025514144635,
          2.4870799387573443,
          2.6198811972489153,
          2.7492931260171325,
          2.8755025241899506,
          2.998696190895326,
          3.119060925261214,
          3.2367835264155698,
          3.3520507934863493,
          3.4650495256015077,
          3.5759665218890007,
          3.684988581476784,
          3.792302503492814,
          3.8980950870650437,
          4.002553131321432,
          4.1058634353899315,
          4.208212798398499,
          4.309788019475091
         ],
         "y": [
          0.8283293880225633,
          0.7393882620127098,
          0.6579026187112688,
          0.5833190064240913,
          0.515083973457027,
          0.4526440681159265,
          0.39544583870663963,
          0.3429358335350166,
          0.29456060090690794,
          0.24976668912816363,
          0.2080006465046338,
          0.1687090213421689,
          0.1313383619466189,
          0.09533521662383403,
          0.060146133679664635,
          0.025217661419960735,
          -0.01000365184942728,
          -0.04607125782264927,
          -0.08353860819385525,
          -0.12295915465719463,
          -0.16488634890681758,
          -0.20987364263687358,
          -0.25847448754151253,
          -0.31124233531488454,
          -0.36873063765113895,
          -0.43149284624442563,
          -0.5000824127888948,
          -0.5750527889786957,
          -0.6569574265079783,
          -0.7463497770708928
         ],
         "z": [
          12.407907887720283,
          12.394239226616387,
          12.383762964630627,
          12.376217191489674,
          12.37133999692018,
          12.368869470648823,
          12.368543702402258,
          12.370100781907148,
          12.373278798890162,
          12.37781584307796,
          12.3834500041972,
          12.389919371974557,
          12.396962036136687,
          12.40431608641025,
          12.411719612521916,
          12.41891070419835,
          12.425627451166209,
          12.431607943152162,
          12.43659026988287,
          12.440312521084996,
          12.442512786485207,
          12.442929155810162,
          12.441299718786524,
          12.437362565140962,
          12.430855784600134,
          12.421517466890705,
          12.409085701739343,
          12.393298578872702,
          12.373894188017456,
          12.350610618900262
         ]
        },
        {
         "mode": "lines",
         "name": "Target Line",
         "type": "scatter3d",
         "x": [
          0.37261500000000003,
          0.749287,
          0.772854,
          1.0594940000000002,
          1.119861,
          1.352907,
          1.5328540000000002,
          1.492637,
          1.7306549999999998,
          1.8395439999999998,
          2.177069,
          2.1057069999999998,
          2.3052080000000004,
          2.3756209999999998,
          2.4376599999999997,
          2.471285,
          2.727539,
          2.8043299999999998,
          3.134418,
          3.261166,
          3.373154,
          3.486757,
          3.3545230000000004,
          3.5686949999999995,
          3.723879,
          3.8472809999999997,
          4.0929,
          4.026654,
          4.276294,
          4.390102
         ],
         "y": [
          0.8545969999999999,
          0.574105,
          0.5476979999999999,
          0.617873,
          0.51488,
          0.5830989999999999,
          0.376168,
          0.251278,
          0.26316300000000004,
          0.32624200000000003,
          0.395484,
          0.203745,
          0.183625,
          0.149954,
          -0.098661,
          0.061251,
          -0.0159,
          -0.051678999999999996,
          -0.16228900000000002,
          -0.124919,
          -0.318407,
          -0.106892,
          0.21495100000000003,
          -0.289095,
          -0.470884,
          -0.500711,
          -0.5507350000000001,
          -0.508784,
          -0.64081,
          -0.810566
         ],
         "z": [
          12.338553,
          12.433103,
          12.432787,
          12.441661,
          12.348351,
          12.310744,
          12.315642,
          12.313038,
          12.323260000000001,
          12.352588,
          12.491896,
          12.484636,
          12.521175,
          12.501927,
          12.458893,
          12.414676,
          12.293534,
          12.298729,
          12.303338,
          12.338814,
          12.373868,
          12.430538,
          12.489609,
          12.53455,
          12.528851,
          12.519839,
          12.477917,
          12.327283,
          12.289162,
          12.30682
         ]
        },
        {
         "mode": "lines",
         "name": "Direct Path",
         "type": "scatter3d",
         "x": [
          0.3672409703219114,
          4.309788019475091
         ],
         "y": [
          0.8283293880225633,
          -0.7463497770708928
         ],
         "z": [
          12.407907887720283,
          12.350610618900262
         ]
        },
        {
         "marker": {
          "color": "black",
          "colorbar": {
           "thickness": 30,
           "title": {
            "text": "TS"
           }
          },
          "colorscale": [
           [
            0,
            "#0d0887"
           ],
           [
            0.1111111111111111,
            "#46039f"
           ],
           [
            0.2222222222222222,
            "#7201a8"
           ],
           [
            0.3333333333333333,
            "#9c179e"
           ],
           [
            0.4444444444444444,
            "#bd3786"
           ],
           [
            0.5555555555555556,
            "#d8576b"
           ],
           [
            0.6666666666666666,
            "#ed7953"
           ],
           [
            0.7777777777777778,
            "#fb9f3a"
           ],
           [
            0.8888888888888888,
            "#fdca26"
           ],
           [
            1,
            "#f0f921"
           ]
          ],
          "opacity": 0.8,
          "showscale": false,
          "size": 8
         },
         "mode": "markers",
         "name": "Targets",
         "type": "scatter3d",
         "x": [
          0.37261500000000003,
          0.749287,
          0.772854,
          1.0594940000000002,
          1.119861,
          1.352907,
          1.5328540000000002,
          1.492637,
          1.7306549999999998,
          1.8395439999999998,
          2.177069,
          2.1057069999999998,
          2.3052080000000004,
          2.3756209999999998,
          2.4376599999999997,
          2.471285,
          2.727539,
          2.8043299999999998,
          3.134418,
          3.261166,
          3.373154,
          3.486757,
          3.3545230000000004,
          3.5686949999999995,
          3.723879,
          3.8472809999999997,
          4.0929,
          4.026654,
          4.276294,
          4.390102
         ],
         "y": [
          0.8545969999999999,
          0.574105,
          0.5476979999999999,
          0.617873,
          0.51488,
          0.5830989999999999,
          0.376168,
          0.251278,
          0.26316300000000004,
          0.32624200000000003,
          0.395484,
          0.203745,
          0.183625,
          0.149954,
          -0.098661,
          0.061251,
          -0.0159,
          -0.051678999999999996,
          -0.16228900000000002,
          -0.124919,
          -0.318407,
          -0.106892,
          0.21495100000000003,
          -0.289095,
          -0.470884,
          -0.500711,
          -0.5507350000000001,
          -0.508784,
          -0.64081,
          -0.810566
         ],
         "z": [
          12.338553,
          12.433103,
          12.432787,
          12.441661,
          12.348351,
          12.310744,
          12.315642,
          12.313038,
          12.323260000000001,
          12.352588,
          12.491896,
          12.484636,
          12.521175,
          12.501927,
          12.458893,
          12.414676,
          12.293534,
          12.298729,
          12.303338,
          12.338814,
          12.373868,
          12.430538,
          12.489609,
          12.53455,
          12.528851,
          12.519839,
          12.477917,
          12.327283,
          12.289162,
          12.30682
         ]
        }
       ],
       "layout": {
        "autosize": true,
        "margin": {
         "b": 10,
         "l": 10,
         "r": 20,
         "t": 10
        },
        "scene": {
         "aspectmode": "auto",
         "aspectratio": {
          "x": 1,
          "y": 1,
          "z": 1
         },
         "xaxis": {
          "title": {
           "text": "Distance_major_axis"
          },
          "type": "linear"
         },
         "yaxis": {
          "title": {
           "text": "Distance_minor_axis"
          },
          "type": "linear"
         },
         "zaxis": {
          "title": {
           "text": "Depth"
          },
          "type": "linear"
         }
        },
        "showlegend": true,
        "template": {
         "data": {
          "bar": [
           {
            "error_x": {
             "color": "#2a3f5f"
            },
            "error_y": {
             "color": "#2a3f5f"
            },
            "marker": {
             "line": {
              "color": "#E5ECF6",
              "width": 0.5
             }
            },
            "type": "bar"
           }
          ],
          "barpolar": [
           {
            "marker": {
             "line": {
              "color": "#E5ECF6",
              "width": 0.5
             }
            },
            "type": "barpolar"
           }
          ],
          "carpet": [
           {
            "aaxis": {
             "endlinecolor": "#2a3f5f",
             "gridcolor": "white",
             "linecolor": "white",
             "minorgridcolor": "white",
             "startlinecolor": "#2a3f5f"
            },
            "baxis": {
             "endlinecolor": "#2a3f5f",
             "gridcolor": "white",
             "linecolor": "white",
             "minorgridcolor": "white",
             "startlinecolor": "#2a3f5f"
            },
            "type": "carpet"
           }
          ],
          "choropleth": [
           {
            "colorbar": {
             "outlinewidth": 0,
             "ticks": ""
            },
            "type": "choropleth"
           }
          ],
          "contour": [
           {
            "colorbar": {
             "outlinewidth": 0,
             "ticks": ""
            },
            "colorscale": [
             [
              0,
              "#0d0887"
             ],
             [
              0.1111111111111111,
              "#46039f"
             ],
             [
              0.2222222222222222,
              "#7201a8"
             ],
             [
              0.3333333333333333,
              "#9c179e"
             ],
             [
              0.4444444444444444,
              "#bd3786"
             ],
             [
              0.5555555555555556,
              "#d8576b"
             ],
             [
              0.6666666666666666,
              "#ed7953"
             ],
             [
              0.7777777777777778,
              "#fb9f3a"
             ],
             [
              0.8888888888888888,
              "#fdca26"
             ],
             [
              1,
              "#f0f921"
             ]
            ],
            "type": "contour"
           }
          ],
          "contourcarpet": [
           {
            "colorbar": {
             "outlinewidth": 0,
             "ticks": ""
            },
            "type": "contourcarpet"
           }
          ],
          "heatmap": [
           {
            "colorbar": {
             "outlinewidth": 0,
             "ticks": ""
            },
            "colorscale": [
             [
              0,
              "#0d0887"
             ],
             [
              0.1111111111111111,
              "#46039f"
             ],
             [
              0.2222222222222222,
              "#7201a8"
             ],
             [
              0.3333333333333333,
              "#9c179e"
             ],
             [
              0.4444444444444444,
              "#bd3786"
             ],
             [
              0.5555555555555556,
              "#d8576b"
             ],
             [
              0.6666666666666666,
              "#ed7953"
             ],
             [
              0.7777777777777778,
              "#fb9f3a"
             ],
             [
              0.8888888888888888,
              "#fdca26"
             ],
             [
              1,
              "#f0f921"
             ]
            ],
            "type": "heatmap"
           }
          ],
          "heatmapgl": [
           {
            "colorbar": {
             "outlinewidth": 0,
             "ticks": ""
            },
            "colorscale": [
             [
              0,
              "#0d0887"
             ],
             [
              0.1111111111111111,
              "#46039f"
             ],
             [
              0.2222222222222222,
              "#7201a8"
             ],
             [
              0.3333333333333333,
              "#9c179e"
             ],
             [
              0.4444444444444444,
              "#bd3786"
             ],
             [
              0.5555555555555556,
              "#d8576b"
             ],
             [
              0.6666666666666666,
              "#ed7953"
             ],
             [
              0.7777777777777778,
              "#fb9f3a"
             ],
             [
              0.8888888888888888,
              "#fdca26"
             ],
             [
              1,
              "#f0f921"
             ]
            ],
            "type": "heatmapgl"
           }
          ],
          "histogram": [
           {
            "marker": {
             "colorbar": {
              "outlinewidth": 0,
              "ticks": ""
             }
            },
            "type": "histogram"
           }
          ],
          "histogram2d": [
           {
            "colorbar": {
             "outlinewidth": 0,
             "ticks": ""
            },
            "colorscale": [
             [
              0,
              "#0d0887"
             ],
             [
              0.1111111111111111,
              "#46039f"
             ],
             [
              0.2222222222222222,
              "#7201a8"
             ],
             [
              0.3333333333333333,
              "#9c179e"
             ],
             [
              0.4444444444444444,
              "#bd3786"
             ],
             [
              0.5555555555555556,
              "#d8576b"
             ],
             [
              0.6666666666666666,
              "#ed7953"
             ],
             [
              0.7777777777777778,
              "#fb9f3a"
             ],
             [
              0.8888888888888888,
              "#fdca26"
             ],
             [
              1,
              "#f0f921"
             ]
            ],
            "type": "histogram2d"
           }
          ],
          "histogram2dcontour": [
           {
            "colorbar": {
             "outlinewidth": 0,
             "ticks": ""
            },
            "colorscale": [
             [
              0,
              "#0d0887"
             ],
             [
              0.1111111111111111,
              "#46039f"
             ],
             [
              0.2222222222222222,
              "#7201a8"
             ],
             [
              0.3333333333333333,
              "#9c179e"
             ],
             [
              0.4444444444444444,
              "#bd3786"
             ],
             [
              0.5555555555555556,
              "#d8576b"
             ],
             [
              0.6666666666666666,
              "#ed7953"
             ],
             [
              0.7777777777777778,
              "#fb9f3a"
             ],
             [
              0.8888888888888888,
              "#fdca26"
             ],
             [
              1,
              "#f0f921"
             ]
            ],
            "type": "histogram2dcontour"
           }
          ],
          "mesh3d": [
           {
            "colorbar": {
             "outlinewidth": 0,
             "ticks": ""
            },
            "type": "mesh3d"
           }
          ],
          "parcoords": [
           {
            "line": {
             "colorbar": {
              "outlinewidth": 0,
              "ticks": ""
             }
            },
            "type": "parcoords"
           }
          ],
          "pie": [
           {
            "automargin": true,
            "type": "pie"
           }
          ],
          "scatter": [
           {
            "marker": {
             "colorbar": {
              "outlinewidth": 0,
              "ticks": ""
             }
            },
            "type": "scatter"
           }
          ],
          "scatter3d": [
           {
            "line": {
             "colorbar": {
              "outlinewidth": 0,
              "ticks": ""
             }
            },
            "marker": {
             "colorbar": {
              "outlinewidth": 0,
              "ticks": ""
             }
            },
            "type": "scatter3d"
           }
          ],
          "scattercarpet": [
           {
            "marker": {
             "colorbar": {
              "outlinewidth": 0,
              "ticks": ""
             }
            },
            "type": "scattercarpet"
           }
          ],
          "scattergeo": [
           {
            "marker": {
             "colorbar": {
              "outlinewidth": 0,
              "ticks": ""
             }
            },
            "type": "scattergeo"
           }
          ],
          "scattergl": [
           {
            "marker": {
             "colorbar": {
              "outlinewidth": 0,
              "ticks": ""
             }
            },
            "type": "scattergl"
           }
          ],
          "scattermapbox": [
           {
            "marker": {
             "colorbar": {
              "outlinewidth": 0,
              "ticks": ""
             }
            },
            "type": "scattermapbox"
           }
          ],
          "scatterpolar": [
           {
            "marker": {
             "colorbar": {
              "outlinewidth": 0,
              "ticks": ""
             }
            },
            "type": "scatterpolar"
           }
          ],
          "scatterpolargl": [
           {
            "marker": {
             "colorbar": {
              "outlinewidth": 0,
              "ticks": ""
             }
            },
            "type": "scatterpolargl"
           }
          ],
          "scatterternary": [
           {
            "marker": {
             "colorbar": {
              "outlinewidth": 0,
              "ticks": ""
             }
            },
            "type": "scatterternary"
           }
          ],
          "surface": [
           {
            "colorbar": {
             "outlinewidth": 0,
             "ticks": ""
            },
            "colorscale": [
             [
              0,
              "#0d0887"
             ],
             [
              0.1111111111111111,
              "#46039f"
             ],
             [
              0.2222222222222222,
              "#7201a8"
             ],
             [
              0.3333333333333333,
              "#9c179e"
             ],
             [
              0.4444444444444444,
              "#bd3786"
             ],
             [
              0.5555555555555556,
              "#d8576b"
             ],
             [
              0.6666666666666666,
              "#ed7953"
             ],
             [
              0.7777777777777778,
              "#fb9f3a"
             ],
             [
              0.8888888888888888,
              "#fdca26"
             ],
             [
              1,
              "#f0f921"
             ]
            ],
            "type": "surface"
           }
          ],
          "table": [
           {
            "cells": {
             "fill": {
              "color": "#EBF0F8"
             },
             "line": {
              "color": "white"
             }
            },
            "header": {
             "fill": {
              "color": "#C8D4E3"
             },
             "line": {
              "color": "white"
             }
            },
            "type": "table"
           }
          ]
         },
         "layout": {
          "annotationdefaults": {
           "arrowcolor": "#2a3f5f",
           "arrowhead": 0,
           "arrowwidth": 1
          },
          "autotypenumbers": "strict",
          "coloraxis": {
           "colorbar": {
            "outlinewidth": 0,
            "ticks": ""
           }
          },
          "colorscale": {
           "diverging": [
            [
             0,
             "#8e0152"
            ],
            [
             0.1,
             "#c51b7d"
            ],
            [
             0.2,
             "#de77ae"
            ],
            [
             0.3,
             "#f1b6da"
            ],
            [
             0.4,
             "#fde0ef"
            ],
            [
             0.5,
             "#f7f7f7"
            ],
            [
             0.6,
             "#e6f5d0"
            ],
            [
             0.7,
             "#b8e186"
            ],
            [
             0.8,
             "#7fbc41"
            ],
            [
             0.9,
             "#4d9221"
            ],
            [
             1,
             "#276419"
            ]
           ],
           "sequential": [
            [
             0,
             "#0d0887"
            ],
            [
             0.1111111111111111,
             "#46039f"
            ],
            [
             0.2222222222222222,
             "#7201a8"
            ],
            [
             0.3333333333333333,
             "#9c179e"
            ],
            [
             0.4444444444444444,
             "#bd3786"
            ],
            [
             0.5555555555555556,
             "#d8576b"
            ],
            [
             0.6666666666666666,
             "#ed7953"
            ],
            [
             0.7777777777777778,
             "#fb9f3a"
            ],
            [
             0.8888888888888888,
             "#fdca26"
            ],
            [
             1,
             "#f0f921"
            ]
           ],
           "sequentialminus": [
            [
             0,
             "#0d0887"
            ],
            [
             0.1111111111111111,
             "#46039f"
            ],
            [
             0.2222222222222222,
             "#7201a8"
            ],
            [
             0.3333333333333333,
             "#9c179e"
            ],
            [
             0.4444444444444444,
             "#bd3786"
            ],
            [
             0.5555555555555556,
             "#d8576b"
            ],
            [
             0.6666666666666666,
             "#ed7953"
            ],
            [
             0.7777777777777778,
             "#fb9f3a"
            ],
            [
             0.8888888888888888,
             "#fdca26"
            ],
            [
             1,
             "#f0f921"
            ]
           ]
          },
          "colorway": [
           "#636efa",
           "#EF553B",
           "#00cc96",
           "#ab63fa",
           "#FFA15A",
           "#19d3f3",
           "#FF6692",
           "#B6E880",
           "#FF97FF",
           "#FECB52"
          ],
          "font": {
           "color": "#2a3f5f"
          },
          "geo": {
           "bgcolor": "white",
           "lakecolor": "white",
           "landcolor": "#E5ECF6",
           "showlakes": true,
           "showland": true,
           "subunitcolor": "white"
          },
          "hoverlabel": {
           "align": "left"
          },
          "hovermode": "closest",
          "mapbox": {
           "style": "light"
          },
          "paper_bgcolor": "white",
          "plot_bgcolor": "#E5ECF6",
          "polar": {
           "angularaxis": {
            "gridcolor": "white",
            "linecolor": "white",
            "ticks": ""
           },
           "bgcolor": "#E5ECF6",
           "radialaxis": {
            "gridcolor": "white",
            "linecolor": "white",
            "ticks": ""
           }
          },
          "scene": {
           "xaxis": {
            "backgroundcolor": "#E5ECF6",
            "gridcolor": "white",
            "gridwidth": 2,
            "linecolor": "white",
            "showbackground": true,
            "ticks": "",
            "zerolinecolor": "white"
           },
           "yaxis": {
            "backgroundcolor": "#E5ECF6",
            "gridcolor": "white",
            "gridwidth": 2,
            "linecolor": "white",
            "showbackground": true,
            "ticks": "",
            "zerolinecolor": "white"
           },
           "zaxis": {
            "backgroundcolor": "#E5ECF6",
            "gridcolor": "white",
            "gridwidth": 2,
            "linecolor": "white",
            "showbackground": true,
            "ticks": "",
            "zerolinecolor": "white"
           }
          },
          "shapedefaults": {
           "line": {
            "color": "#2a3f5f"
           }
          },
          "ternary": {
           "aaxis": {
            "gridcolor": "white",
            "linecolor": "white",
            "ticks": ""
           },
           "baxis": {
            "gridcolor": "white",
            "linecolor": "white",
            "ticks": ""
           },
           "bgcolor": "#E5ECF6",
           "caxis": {
            "gridcolor": "white",
            "linecolor": "white",
            "ticks": ""
           }
          },
          "title": {
           "x": 0.05
          },
          "xaxis": {
           "automargin": true,
           "gridcolor": "white",
           "linecolor": "white",
           "ticks": "",
           "title": {
            "standoff": 15
           },
           "zerolinecolor": "white",
           "zerolinewidth": 2
          },
          "yaxis": {
           "automargin": true,
           "gridcolor": "white",
           "linecolor": "white",
           "ticks": "",
           "title": {
            "standoff": 15
           },
           "zerolinecolor": "white",
           "zerolinewidth": 2
          }
         }
        }
       }
      },
      "text/html": [
       "<div>                            <div id=\"051f0726-41c9-4ac1-99c8-653757a82a3c\" class=\"plotly-graph-div\" style=\"height:525px; width:700px;\"></div>            <script type=\"text/javascript\">                require([\"plotly\"], function(Plotly) {                    window.PLOTLYENV=window.PLOTLYENV || {};                                    if (document.getElementById(\"051f0726-41c9-4ac1-99c8-653757a82a3c\")) {                    Plotly.newPlot(                        \"051f0726-41c9-4ac1-99c8-653757a82a3c\",                        [{\"mode\": \"lines\", \"name\": \"Smoothed Line\", \"type\": \"scatter3d\", \"x\": [0.3672409703219114, 0.5611022358610425, 0.749145783013397, 0.9315584109069308, 1.1085269186695992, 1.2802381054293581, 1.4468787703141628, 1.6086357124519686, 1.7656957309707315, 1.9182456249984072, 2.06647219366295, 2.210562236092317, 2.3507025514144635, 2.4870799387573443, 2.6198811972489153, 2.7492931260171325, 2.8755025241899506, 2.998696190895326, 3.119060925261214, 3.2367835264155698, 3.3520507934863493, 3.4650495256015077, 3.5759665218890007, 3.684988581476784, 3.792302503492814, 3.8980950870650437, 4.002553131321432, 4.1058634353899315, 4.208212798398499, 4.309788019475091], \"y\": [0.8283293880225633, 0.7393882620127098, 0.6579026187112688, 0.5833190064240913, 0.515083973457027, 0.4526440681159265, 0.39544583870663963, 0.3429358335350166, 0.29456060090690794, 0.24976668912816363, 0.2080006465046338, 0.1687090213421689, 0.1313383619466189, 0.09533521662383403, 0.060146133679664635, 0.025217661419960735, -0.01000365184942728, -0.04607125782264927, -0.08353860819385525, -0.12295915465719463, -0.16488634890681758, -0.20987364263687358, -0.25847448754151253, -0.31124233531488454, -0.36873063765113895, -0.43149284624442563, -0.5000824127888948, -0.5750527889786957, -0.6569574265079783, -0.7463497770708928], \"z\": [12.407907887720283, 12.394239226616387, 12.383762964630627, 12.376217191489674, 12.37133999692018, 12.368869470648823, 12.368543702402258, 12.370100781907148, 12.373278798890162, 12.37781584307796, 12.3834500041972, 12.389919371974557, 12.396962036136687, 12.40431608641025, 12.411719612521916, 12.41891070419835, 12.425627451166209, 12.431607943152162, 12.43659026988287, 12.440312521084996, 12.442512786485207, 12.442929155810162, 12.441299718786524, 12.437362565140962, 12.430855784600134, 12.421517466890705, 12.409085701739343, 12.393298578872702, 12.373894188017456, 12.350610618900262]}, {\"mode\": \"lines\", \"name\": \"Target Line\", \"type\": \"scatter3d\", \"x\": [0.37261500000000003, 0.749287, 0.772854, 1.0594940000000002, 1.119861, 1.352907, 1.5328540000000002, 1.492637, 1.7306549999999998, 1.8395439999999998, 2.177069, 2.1057069999999998, 2.3052080000000004, 2.3756209999999998, 2.4376599999999997, 2.471285, 2.727539, 2.8043299999999998, 3.134418, 3.261166, 3.373154, 3.486757, 3.3545230000000004, 3.5686949999999995, 3.723879, 3.8472809999999997, 4.0929, 4.026654, 4.276294, 4.390102], \"y\": [0.8545969999999999, 0.574105, 0.5476979999999999, 0.617873, 0.51488, 0.5830989999999999, 0.376168, 0.251278, 0.26316300000000004, 0.32624200000000003, 0.395484, 0.203745, 0.183625, 0.149954, -0.098661, 0.061251, -0.0159, -0.051678999999999996, -0.16228900000000002, -0.124919, -0.318407, -0.106892, 0.21495100000000003, -0.289095, -0.470884, -0.500711, -0.5507350000000001, -0.508784, -0.64081, -0.810566], \"z\": [12.338553, 12.433103, 12.432787, 12.441661, 12.348351, 12.310744, 12.315642, 12.313038, 12.323260000000001, 12.352588, 12.491896, 12.484636, 12.521175, 12.501927, 12.458893, 12.414676, 12.293534, 12.298729, 12.303338, 12.338814, 12.373868, 12.430538, 12.489609, 12.53455, 12.528851, 12.519839, 12.477917, 12.327283, 12.289162, 12.30682]}, {\"mode\": \"lines\", \"name\": \"Direct Path\", \"type\": \"scatter3d\", \"x\": [0.3672409703219114, 4.309788019475091], \"y\": [0.8283293880225633, -0.7463497770708928], \"z\": [12.407907887720283, 12.350610618900262]}, {\"marker\": {\"color\": \"black\", \"colorbar\": {\"thickness\": 30, \"title\": {\"text\": \"TS\"}}, \"colorscale\": [[0.0, \"#0d0887\"], [0.1111111111111111, \"#46039f\"], [0.2222222222222222, \"#7201a8\"], [0.3333333333333333, \"#9c179e\"], [0.4444444444444444, \"#bd3786\"], [0.5555555555555556, \"#d8576b\"], [0.6666666666666666, \"#ed7953\"], [0.7777777777777778, \"#fb9f3a\"], [0.8888888888888888, \"#fdca26\"], [1.0, \"#f0f921\"]], \"opacity\": 0.8, \"showscale\": false, \"size\": 8}, \"mode\": \"markers\", \"name\": \"Targets\", \"type\": \"scatter3d\", \"x\": [0.37261500000000003, 0.749287, 0.772854, 1.0594940000000002, 1.119861, 1.352907, 1.5328540000000002, 1.492637, 1.7306549999999998, 1.8395439999999998, 2.177069, 2.1057069999999998, 2.3052080000000004, 2.3756209999999998, 2.4376599999999997, 2.471285, 2.727539, 2.8043299999999998, 3.134418, 3.261166, 3.373154, 3.486757, 3.3545230000000004, 3.5686949999999995, 3.723879, 3.8472809999999997, 4.0929, 4.026654, 4.276294, 4.390102], \"y\": [0.8545969999999999, 0.574105, 0.5476979999999999, 0.617873, 0.51488, 0.5830989999999999, 0.376168, 0.251278, 0.26316300000000004, 0.32624200000000003, 0.395484, 0.203745, 0.183625, 0.149954, -0.098661, 0.061251, -0.0159, -0.051678999999999996, -0.16228900000000002, -0.124919, -0.318407, -0.106892, 0.21495100000000003, -0.289095, -0.470884, -0.500711, -0.5507350000000001, -0.508784, -0.64081, -0.810566], \"z\": [12.338553, 12.433103, 12.432787, 12.441661, 12.348351, 12.310744, 12.315642, 12.313038, 12.323260000000001, 12.352588, 12.491896, 12.484636, 12.521175, 12.501927, 12.458893, 12.414676, 12.293534, 12.298729, 12.303338, 12.338814, 12.373868, 12.430538, 12.489609, 12.53455, 12.528851, 12.519839, 12.477917, 12.327283, 12.289162, 12.30682]}],                        {\"margin\": {\"b\": 10, \"l\": 10, \"r\": 20, \"t\": 10}, \"scene\": {\"xaxis\": {\"title\": {\"text\": \"Distance_major_axis\"}}, \"yaxis\": {\"title\": {\"text\": \"Distance_minor_axis\"}}, \"zaxis\": {\"title\": {\"text\": \"Depth\"}}}, \"showlegend\": true, \"template\": {\"data\": {\"bar\": [{\"error_x\": {\"color\": \"#2a3f5f\"}, \"error_y\": {\"color\": \"#2a3f5f\"}, \"marker\": {\"line\": {\"color\": \"#E5ECF6\", \"width\": 0.5}}, \"type\": \"bar\"}], \"barpolar\": [{\"marker\": {\"line\": {\"color\": \"#E5ECF6\", \"width\": 0.5}}, \"type\": \"barpolar\"}], \"carpet\": [{\"aaxis\": {\"endlinecolor\": \"#2a3f5f\", \"gridcolor\": \"white\", \"linecolor\": \"white\", \"minorgridcolor\": \"white\", \"startlinecolor\": \"#2a3f5f\"}, \"baxis\": {\"endlinecolor\": \"#2a3f5f\", \"gridcolor\": \"white\", \"linecolor\": \"white\", \"minorgridcolor\": \"white\", \"startlinecolor\": \"#2a3f5f\"}, \"type\": \"carpet\"}], \"choropleth\": [{\"colorbar\": {\"outlinewidth\": 0, \"ticks\": \"\"}, \"type\": \"choropleth\"}], \"contour\": [{\"colorbar\": {\"outlinewidth\": 0, \"ticks\": \"\"}, \"colorscale\": [[0.0, \"#0d0887\"], [0.1111111111111111, \"#46039f\"], [0.2222222222222222, \"#7201a8\"], [0.3333333333333333, \"#9c179e\"], [0.4444444444444444, \"#bd3786\"], [0.5555555555555556, \"#d8576b\"], [0.6666666666666666, \"#ed7953\"], [0.7777777777777778, \"#fb9f3a\"], [0.8888888888888888, \"#fdca26\"], [1.0, \"#f0f921\"]], \"type\": \"contour\"}], \"contourcarpet\": [{\"colorbar\": {\"outlinewidth\": 0, \"ticks\": \"\"}, \"type\": \"contourcarpet\"}], \"heatmap\": [{\"colorbar\": {\"outlinewidth\": 0, \"ticks\": \"\"}, \"colorscale\": [[0.0, \"#0d0887\"], [0.1111111111111111, \"#46039f\"], [0.2222222222222222, \"#7201a8\"], [0.3333333333333333, \"#9c179e\"], [0.4444444444444444, \"#bd3786\"], [0.5555555555555556, \"#d8576b\"], [0.6666666666666666, \"#ed7953\"], [0.7777777777777778, \"#fb9f3a\"], [0.8888888888888888, \"#fdca26\"], [1.0, \"#f0f921\"]], \"type\": \"heatmap\"}], \"heatmapgl\": [{\"colorbar\": {\"outlinewidth\": 0, \"ticks\": \"\"}, \"colorscale\": [[0.0, \"#0d0887\"], [0.1111111111111111, \"#46039f\"], [0.2222222222222222, \"#7201a8\"], [0.3333333333333333, \"#9c179e\"], [0.4444444444444444, \"#bd3786\"], [0.5555555555555556, \"#d8576b\"], [0.6666666666666666, \"#ed7953\"], [0.7777777777777778, \"#fb9f3a\"], [0.8888888888888888, \"#fdca26\"], [1.0, \"#f0f921\"]], \"type\": \"heatmapgl\"}], \"histogram\": [{\"marker\": {\"colorbar\": {\"outlinewidth\": 0, \"ticks\": \"\"}}, \"type\": \"histogram\"}], \"histogram2d\": [{\"colorbar\": {\"outlinewidth\": 0, \"ticks\": \"\"}, \"colorscale\": [[0.0, \"#0d0887\"], [0.1111111111111111, \"#46039f\"], [0.2222222222222222, \"#7201a8\"], [0.3333333333333333, \"#9c179e\"], [0.4444444444444444, \"#bd3786\"], [0.5555555555555556, \"#d8576b\"], [0.6666666666666666, \"#ed7953\"], [0.7777777777777778, \"#fb9f3a\"], [0.8888888888888888, \"#fdca26\"], [1.0, \"#f0f921\"]], \"type\": \"histogram2d\"}], \"histogram2dcontour\": [{\"colorbar\": {\"outlinewidth\": 0, \"ticks\": \"\"}, \"colorscale\": [[0.0, \"#0d0887\"], [0.1111111111111111, \"#46039f\"], [0.2222222222222222, \"#7201a8\"], [0.3333333333333333, \"#9c179e\"], [0.4444444444444444, \"#bd3786\"], [0.5555555555555556, \"#d8576b\"], [0.6666666666666666, \"#ed7953\"], [0.7777777777777778, \"#fb9f3a\"], [0.8888888888888888, \"#fdca26\"], [1.0, \"#f0f921\"]], \"type\": \"histogram2dcontour\"}], \"mesh3d\": [{\"colorbar\": {\"outlinewidth\": 0, \"ticks\": \"\"}, \"type\": \"mesh3d\"}], \"parcoords\": [{\"line\": {\"colorbar\": {\"outlinewidth\": 0, \"ticks\": \"\"}}, \"type\": \"parcoords\"}], \"pie\": [{\"automargin\": true, \"type\": \"pie\"}], \"scatter\": [{\"marker\": {\"colorbar\": {\"outlinewidth\": 0, \"ticks\": \"\"}}, \"type\": \"scatter\"}], \"scatter3d\": [{\"line\": {\"colorbar\": {\"outlinewidth\": 0, \"ticks\": \"\"}}, \"marker\": {\"colorbar\": {\"outlinewidth\": 0, \"ticks\": \"\"}}, \"type\": \"scatter3d\"}], \"scattercarpet\": [{\"marker\": {\"colorbar\": {\"outlinewidth\": 0, \"ticks\": \"\"}}, \"type\": \"scattercarpet\"}], \"scattergeo\": [{\"marker\": {\"colorbar\": {\"outlinewidth\": 0, \"ticks\": \"\"}}, \"type\": \"scattergeo\"}], \"scattergl\": [{\"marker\": {\"colorbar\": {\"outlinewidth\": 0, \"ticks\": \"\"}}, \"type\": \"scattergl\"}], \"scattermapbox\": [{\"marker\": {\"colorbar\": {\"outlinewidth\": 0, \"ticks\": \"\"}}, \"type\": \"scattermapbox\"}], \"scatterpolar\": [{\"marker\": {\"colorbar\": {\"outlinewidth\": 0, \"ticks\": \"\"}}, \"type\": \"scatterpolar\"}], \"scatterpolargl\": [{\"marker\": {\"colorbar\": {\"outlinewidth\": 0, \"ticks\": \"\"}}, \"type\": \"scatterpolargl\"}], \"scatterternary\": [{\"marker\": {\"colorbar\": {\"outlinewidth\": 0, \"ticks\": \"\"}}, \"type\": \"scatterternary\"}], \"surface\": [{\"colorbar\": {\"outlinewidth\": 0, \"ticks\": \"\"}, \"colorscale\": [[0.0, \"#0d0887\"], [0.1111111111111111, \"#46039f\"], [0.2222222222222222, \"#7201a8\"], [0.3333333333333333, \"#9c179e\"], [0.4444444444444444, \"#bd3786\"], [0.5555555555555556, \"#d8576b\"], [0.6666666666666666, \"#ed7953\"], [0.7777777777777778, \"#fb9f3a\"], [0.8888888888888888, \"#fdca26\"], [1.0, \"#f0f921\"]], \"type\": \"surface\"}], \"table\": [{\"cells\": {\"fill\": {\"color\": \"#EBF0F8\"}, \"line\": {\"color\": \"white\"}}, \"header\": {\"fill\": {\"color\": \"#C8D4E3\"}, \"line\": {\"color\": \"white\"}}, \"type\": \"table\"}]}, \"layout\": {\"annotationdefaults\": {\"arrowcolor\": \"#2a3f5f\", \"arrowhead\": 0, \"arrowwidth\": 1}, \"autotypenumbers\": \"strict\", \"coloraxis\": {\"colorbar\": {\"outlinewidth\": 0, \"ticks\": \"\"}}, \"colorscale\": {\"diverging\": [[0, \"#8e0152\"], [0.1, \"#c51b7d\"], [0.2, \"#de77ae\"], [0.3, \"#f1b6da\"], [0.4, \"#fde0ef\"], [0.5, \"#f7f7f7\"], [0.6, \"#e6f5d0\"], [0.7, \"#b8e186\"], [0.8, \"#7fbc41\"], [0.9, \"#4d9221\"], [1, \"#276419\"]], \"sequential\": [[0.0, \"#0d0887\"], [0.1111111111111111, \"#46039f\"], [0.2222222222222222, \"#7201a8\"], [0.3333333333333333, \"#9c179e\"], [0.4444444444444444, \"#bd3786\"], [0.5555555555555556, \"#d8576b\"], [0.6666666666666666, \"#ed7953\"], [0.7777777777777778, \"#fb9f3a\"], [0.8888888888888888, \"#fdca26\"], [1.0, \"#f0f921\"]], \"sequentialminus\": [[0.0, \"#0d0887\"], [0.1111111111111111, \"#46039f\"], [0.2222222222222222, \"#7201a8\"], [0.3333333333333333, \"#9c179e\"], [0.4444444444444444, \"#bd3786\"], [0.5555555555555556, \"#d8576b\"], [0.6666666666666666, \"#ed7953\"], [0.7777777777777778, \"#fb9f3a\"], [0.8888888888888888, \"#fdca26\"], [1.0, \"#f0f921\"]]}, \"colorway\": [\"#636efa\", \"#EF553B\", \"#00cc96\", \"#ab63fa\", \"#FFA15A\", \"#19d3f3\", \"#FF6692\", \"#B6E880\", \"#FF97FF\", \"#FECB52\"], \"font\": {\"color\": \"#2a3f5f\"}, \"geo\": {\"bgcolor\": \"white\", \"lakecolor\": \"white\", \"landcolor\": \"#E5ECF6\", \"showlakes\": true, \"showland\": true, \"subunitcolor\": \"white\"}, \"hoverlabel\": {\"align\": \"left\"}, \"hovermode\": \"closest\", \"mapbox\": {\"style\": \"light\"}, \"paper_bgcolor\": \"white\", \"plot_bgcolor\": \"#E5ECF6\", \"polar\": {\"angularaxis\": {\"gridcolor\": \"white\", \"linecolor\": \"white\", \"ticks\": \"\"}, \"bgcolor\": \"#E5ECF6\", \"radialaxis\": {\"gridcolor\": \"white\", \"linecolor\": \"white\", \"ticks\": \"\"}}, \"scene\": {\"xaxis\": {\"backgroundcolor\": \"#E5ECF6\", \"gridcolor\": \"white\", \"gridwidth\": 2, \"linecolor\": \"white\", \"showbackground\": true, \"ticks\": \"\", \"zerolinecolor\": \"white\"}, \"yaxis\": {\"backgroundcolor\": \"#E5ECF6\", \"gridcolor\": \"white\", \"gridwidth\": 2, \"linecolor\": \"white\", \"showbackground\": true, \"ticks\": \"\", \"zerolinecolor\": \"white\"}, \"zaxis\": {\"backgroundcolor\": \"#E5ECF6\", \"gridcolor\": \"white\", \"gridwidth\": 2, \"linecolor\": \"white\", \"showbackground\": true, \"ticks\": \"\", \"zerolinecolor\": \"white\"}}, \"shapedefaults\": {\"line\": {\"color\": \"#2a3f5f\"}}, \"ternary\": {\"aaxis\": {\"gridcolor\": \"white\", \"linecolor\": \"white\", \"ticks\": \"\"}, \"baxis\": {\"gridcolor\": \"white\", \"linecolor\": \"white\", \"ticks\": \"\"}, \"bgcolor\": \"#E5ECF6\", \"caxis\": {\"gridcolor\": \"white\", \"linecolor\": \"white\", \"ticks\": \"\"}}, \"title\": {\"x\": 0.05}, \"xaxis\": {\"automargin\": true, \"gridcolor\": \"white\", \"linecolor\": \"white\", \"ticks\": \"\", \"title\": {\"standoff\": 15}, \"zerolinecolor\": \"white\", \"zerolinewidth\": 2}, \"yaxis\": {\"automargin\": true, \"gridcolor\": \"white\", \"linecolor\": \"white\", \"ticks\": \"\", \"title\": {\"standoff\": 15}, \"zerolinecolor\": \"white\", \"zerolinewidth\": 2}}}, \"width\": 700},                        {\"responsive\": true}                    ).then(function(){\n",
       "                            \n",
       "var gd = document.getElementById('051f0726-41c9-4ac1-99c8-653757a82a3c');\n",
       "var x = new MutationObserver(function (mutations, observer) {{\n",
       "        var display = window.getComputedStyle(gd).display;\n",
       "        if (!display || display === 'none') {{\n",
       "            console.log([gd, 'removed!']);\n",
       "            Plotly.purge(gd);\n",
       "            observer.disconnect();\n",
       "        }}\n",
       "}});\n",
       "\n",
       "// Listen for the removal of the full notebook cells\n",
       "var notebookContainer = gd.closest('#notebook-container');\n",
       "if (notebookContainer) {{\n",
       "    x.observe(notebookContainer, {childList: true});\n",
       "}}\n",
       "\n",
       "// Listen for the clearing of the current output cell\n",
       "var outputEl = gd.closest('.output');\n",
       "if (outputEl) {{\n",
       "    x.observe(outputEl, {childList: true});\n",
       "}}\n",
       "\n",
       "                        })                };                });            </script>        </div>"
      ]
     },
     "metadata": {},
     "output_type": "display_data"
    },
    {
     "data": {
      "text/plain": [
       "(0.297082492242037, 222.94892160440287)"
      ]
     },
     "execution_count": 8,
     "metadata": {},
     "output_type": "execute_result"
    }
   ],
   "source": [
    "i = 50\n",
    "trackPlot(dfT,dfR.iloc[i].Process_ID, dfR.iloc[i].Region_ID)\n",
    "regionStats(dfR.iloc[i],dfT,compassCor[processParams.wbatParams.mooringNum],path_direct=False)"
   ]
  },
  {
   "cell_type": "code",
   "execution_count": 30,
   "metadata": {},
   "outputs": [
    {
     "data": {
      "application/vnd.jupyter.widget-view+json": {
       "model_id": "41bf084a337f46279da237ef7a1b2c26",
       "version_major": 2,
       "version_minor": 0
      },
      "text/plain": [
       "HBox(children=(HTML(value=''), FloatProgress(value=0.0, max=44097.0), HTML(value='')))"
      ]
     },
     "metadata": {},
     "output_type": "display_data"
    },
    {
     "name": "stdout",
     "output_type": "stream",
     "text": [
      "\n"
     ]
    }
   ],
   "source": [
    "ss,ds = [],[]\n",
    "for index,row in tqdm(dfR.iterrows(),total=len(dfR)):\n",
    "    s,dist,d = regionStats(row,dfT,compassCor[processParams.wbatParams.mooringNum],path_direct=True)\n",
    "    ss.append(s)\n",
    "    ds.append(d)"
   ]
  },
  {
   "cell_type": "code",
   "execution_count": null,
   "metadata": {},
   "outputs": [],
   "source": [
    "dfR['splineDir'][dfR['splineDir'] >360] = dfR['splineDir'][dfR['splineDir'] >360]-360\n",
    "import matplotlib.pyplot as plt\n",
    "plt.hist(dfR.splineDir,90)"
   ]
  }
 ],
 "metadata": {
  "kernelspec": {
   "display_name": "Python 3",
   "language": "python",
   "name": "python3"
  },
  "language_info": {
   "codemirror_mode": {
    "name": "ipython",
    "version": 3
   },
   "file_extension": ".py",
   "mimetype": "text/x-python",
   "name": "python",
   "nbconvert_exporter": "python",
   "pygments_lexer": "ipython3",
   "version": "3.8.5"
  }
 },
 "nbformat": 4,
 "nbformat_minor": 4
}
